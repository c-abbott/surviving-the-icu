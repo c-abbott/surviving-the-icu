{
 "cells": [
  {
   "cell_type": "markdown",
   "id": "00e64bfa",
   "metadata": {},
   "source": [
    "# The four steps of causal inference\n",
    "\n",
    "## I. Model a causal problem\n",
    "- Create a causal DAG for your system of interest.\n",
    "\n",
    "## II. Identify a target estimand under the model\n",
    "- Identify the causal estimand under the assumptions of the causal DAG.\n",
    "\n",
    "## III. Estimate the causal effect based on the identified estimand\n",
    "- Estimate the estimand using any kind of Stats/ML model e.g. linear regression, random forest etc.\n",
    "\n",
    "## IV. Refute the obtain estimate\n",
    "- Peform refutations on the estimate to test its robustness "
   ]
  },
  {
   "cell_type": "markdown",
   "id": "71820576",
   "metadata": {},
   "source": [
    "## Imports"
   ]
  },
  {
   "cell_type": "code",
   "execution_count": 1,
   "id": "f50502fb",
   "metadata": {},
   "outputs": [],
   "source": [
    "import numpy as np\n",
    "import pandas as pd\n",
    "import patsy as ps\n",
    "import statsmodels\n",
    "import dowhy\n",
    "from dowhy import CausalModel\n",
    "import econml\n",
    "from IPython.display import Image, display\n",
    "from pathlib import Path\n",
    "import os\n",
    "import sys\n",
    "\n",
    "# Avoid printing dataconversion warnings from sklearn\n",
    "# Config dict to set the logging level\n",
    "import logging.config\n",
    "import warnings\n",
    "warnings.filterwarnings('ignore')\n",
    "DEFAULT_LOGGING = {\n",
    "    'version': 1,\n",
    "    'disable_existing_loggers': False,\n",
    "    'loggers': {\n",
    "        '': {\n",
    "            'level': 'WARN',\n",
    "        },\n",
    "    }\n",
    "}\n",
    "logging.config.dictConfig(DEFAULT_LOGGING)\n",
    "\n",
    "# Import custom dowhy helper functions module\n",
    "cwd = Path().resolve()\n",
    "PARENT_DIR = os.path.dirname(cwd)\n",
    "SCRIPT_DIR = os.path.join(PARENT_DIR, 'helpers')\n",
    "sys.path.append(SCRIPT_DIR)\n",
    "import dowhy_helpers as dwh"
   ]
  },
  {
   "cell_type": "code",
   "execution_count": 2,
   "id": "0d7f4714",
   "metadata": {},
   "outputs": [],
   "source": [
    "# I/O Stuff\n",
    "DATA_FILENAME = \"csdh_clean.csv\"\n",
    "DATA_FILEPATH = \"/Users/callum/Uni/GitHubRepos/surviving-the-icu/datasets/drain_data/\" + DATA_FILENAME\n",
    "csdh = pd.read_csv(DATA_FILEPATH)"
   ]
  },
  {
   "cell_type": "markdown",
   "id": "b27886b5",
   "metadata": {},
   "source": [
    "---\n",
    "## 0. Naïve Estimation (no causal inference)"
   ]
  },
  {
   "cell_type": "code",
   "execution_count": 3,
   "id": "4b412c36",
   "metadata": {},
   "outputs": [
    {
     "name": "stdout",
     "output_type": "stream",
     "text": [
      "Without adjusting for any confounding, the naive causal estimate is computed as -0.09356128931064231\n"
     ]
    }
   ],
   "source": [
    "naive_est = dwh.naive_estimate(df=csdh, treatment='drain', outcome='recurrence', treatment_type='int')\n",
    "print(f\"Without adjusting for any confounding, the naive causal estimate is computed as {naive_est}\")"
   ]
  },
  {
   "cell_type": "markdown",
   "id": "a5ceac9d",
   "metadata": {},
   "source": [
    "---\n",
    "## I. Model a causal problem\n",
    "* Create a causal model from the data and given graph."
   ]
  },
  {
   "cell_type": "code",
   "execution_count": 4,
   "id": "54439f45",
   "metadata": {},
   "outputs": [],
   "source": [
    "mp_model = CausalModel(data=csdh, \n",
    "                       treatment='drain', \n",
    "                       outcome='recurrence', \n",
    "                       graph='../causal_graphs/mp_dag.dot'.replace(\"\\n\", \" \"))"
   ]
  },
  {
   "cell_type": "code",
   "execution_count": 5,
   "id": "0cc98aaf",
   "metadata": {},
   "outputs": [],
   "source": [
    "data_model = CausalModel(data=csdh, \n",
    "                         treatment='drain', \n",
    "                         outcome='recurrence', \n",
    "                         graph='../causal_graphs/data_dag.dot'.replace(\"\\n\", \" \"))"
   ]
  },
  {
   "cell_type": "code",
   "execution_count": 6,
   "id": "90b7bec5",
   "metadata": {},
   "outputs": [],
   "source": [
    "small_data_model = CausalModel(data=csdh,\n",
    "                               treatment='drain', \n",
    "                               outcome='recurrence', \n",
    "                               graph='../causal_graphs/small_data_dag.dot'.replace(\"\\n\", \" \"))"
   ]
  },
  {
   "cell_type": "markdown",
   "id": "d69fc1bd",
   "metadata": {},
   "source": [
    "---\n",
    "## II. Identify a target estimand under the model"
   ]
  },
  {
   "cell_type": "code",
   "execution_count": 7,
   "id": "aa1409d0",
   "metadata": {},
   "outputs": [],
   "source": [
    "mp_estimand = mp_model.identify_effect(proceed_when_unidentifiable=True)\n",
    "data_estimand = data_model.identify_effect(proceed_when_unidentifiable=True)\n",
    "small_data_estimand = small_data_model.identify_effect(proceed_when_unidentifiable=True)"
   ]
  },
  {
   "cell_type": "markdown",
   "id": "e3b2cf64",
   "metadata": {},
   "source": [
    "---\n",
    "## III. Linear Regression Estimator"
   ]
  },
  {
   "cell_type": "code",
   "execution_count": 8,
   "id": "34eda5af",
   "metadata": {},
   "outputs": [],
   "source": [
    "# III. Estimate the target estimand using a statistical method.\n",
    "mp_lin_est = dwh.linear_regression_estimator(mp_model, mp_estimand, ci=True, test_significance=True)\n",
    "data_lin_est = dwh.linear_regression_estimator(data_model, data_estimand, ci=True, test_significance=True)\n",
    "sdata_lin_est = dwh.linear_regression_estimator(small_data_model, small_data_estimand, ci=True, test_significance=True)"
   ]
  },
  {
   "cell_type": "code",
   "execution_count": 9,
   "id": "6ed7433b",
   "metadata": {},
   "outputs": [
    {
     "name": "stdout",
     "output_type": "stream",
     "text": [
      "*** Causal Estimate ***\n",
      "\n",
      "## Identified estimand\n",
      "Estimand type: nonparametric-ate\n",
      "\n",
      "### Estimand : 1\n",
      "Estimand name: backdoor\n",
      "Estimand expression:\n",
      "   d                                                                          \n",
      "────────(Expectation(recurrence|antiplatelet,thickness_sum,age,adm_mrs,gcs_pre\n",
      "d[drain]                                                                      \n",
      "\n",
      "    \n",
      "op))\n",
      "    \n",
      "Estimand assumption 1, Unconfoundedness: If U→{drain} and U→recurrence then P(recurrence|drain,antiplatelet,thickness_sum,age,adm_mrs,gcs_preop,U) = P(recurrence|drain,antiplatelet,thickness_sum,age,adm_mrs,gcs_preop)\n",
      "\n",
      "## Realized estimand\n",
      "b: recurrence~drain+antiplatelet+thickness_sum+age+adm_mrs+gcs_preop+drain*antiplatelet\n",
      "Target units: ate\n",
      "\n",
      "## Estimate\n",
      "Mean value: -0.10562889672174253\n",
      "p-value: [0.01406595]\n",
      "95.0% confidence interval: [[-0.14587421 -0.01642682]]\n",
      "### Conditional Estimates\n",
      "__categorical__antiplatelet\n",
      "(-0.001, 1.0]   -0.105629\n",
      "dtype: float64\n"
     ]
    }
   ],
   "source": [
    "print(mp_lin_est)"
   ]
  },
  {
   "cell_type": "code",
   "execution_count": 10,
   "id": "8aa621de",
   "metadata": {},
   "outputs": [
    {
     "name": "stdout",
     "output_type": "stream",
     "text": [
      "*** Causal Estimate ***\n",
      "\n",
      "## Identified estimand\n",
      "Estimand type: nonparametric-ate\n",
      "\n",
      "### Estimand : 1\n",
      "Estimand name: backdoor\n",
      "Estimand expression:\n",
      "   d                                                                          \n",
      "────────(Expectation(recurrence|midlineshift,copd,steroid,density,inr,epilepsy\n",
      "d[drain]                                                                      \n",
      "\n",
      "                                                                              \n",
      ",platelet,bilateral,ihd,age,arrhythmia,antiplatelet,metalvalve,stroke,thicknes\n",
      "                                                                              \n",
      "\n",
      "                           \n",
      "s_sum,membranes,gcs_preop))\n",
      "                           \n",
      "Estimand assumption 1, Unconfoundedness: If U→{drain} and U→recurrence then P(recurrence|drain,midlineshift,copd,steroid,density,inr,epilepsy,platelet,bilateral,ihd,age,arrhythmia,antiplatelet,metalvalve,stroke,thickness_sum,membranes,gcs_preop,U) = P(recurrence|drain,midlineshift,copd,steroid,density,inr,epilepsy,platelet,bilateral,ihd,age,arrhythmia,antiplatelet,metalvalve,stroke,thickness_sum,membranes,gcs_preop)\n",
      "\n",
      "## Realized estimand\n",
      "b: recurrence~drain+midlineshift+copd+steroid+density+inr+epilepsy+platelet+bilateral+ihd+age+arrhythmia+antiplatelet+metalvalve+stroke+thickness_sum+membranes+gcs_preop+drain*metalvalve+drain*ihd+drain*gcs_preop\n",
      "Target units: ate\n",
      "\n",
      "## Estimate\n",
      "Mean value: -0.11644725221958863\n",
      "p-value: [0.46094776]\n",
      "95.0% confidence interval: [[-0.57638211  0.26153774]]\n",
      "### Conditional Estimates\n",
      "__categorical__metalvalve  __categorical__ihd  __categorical__gcs_preop\n",
      "(-0.001, 1.0]              (-0.001, 1.0]       (2.999, 13.0]              -0.136977\n",
      "                                               (13.0, 14.0]               -0.116125\n",
      "                                               (14.0, 15.0]               -0.104774\n",
      "dtype: float64\n"
     ]
    }
   ],
   "source": [
    "print(data_lin_est)"
   ]
  },
  {
   "cell_type": "code",
   "execution_count": 11,
   "id": "73f774f2",
   "metadata": {},
   "outputs": [
    {
     "name": "stdout",
     "output_type": "stream",
     "text": [
      "*** Causal Estimate ***\n",
      "\n",
      "## Identified estimand\n",
      "Estimand type: nonparametric-ate\n",
      "\n",
      "### Estimand : 1\n",
      "Estimand name: backdoor\n",
      "Estimand expression:\n",
      "   d                                                                          \n",
      "────────(Expectation(recurrence|antiplatelet,inr,metalvalve,platelet,stroke,ih\n",
      "d[drain]                                                                      \n",
      "\n",
      "                     \n",
      "d,thickness_sum,age))\n",
      "                     \n",
      "Estimand assumption 1, Unconfoundedness: If U→{drain} and U→recurrence then P(recurrence|drain,antiplatelet,inr,metalvalve,platelet,stroke,ihd,thickness_sum,age,U) = P(recurrence|drain,antiplatelet,inr,metalvalve,platelet,stroke,ihd,thickness_sum,age)\n",
      "\n",
      "## Realized estimand\n",
      "b: recurrence~drain+antiplatelet+inr+metalvalve+platelet+stroke+ihd+thickness_sum+age+drain*metalvalve+drain*ihd\n",
      "Target units: ate\n",
      "\n",
      "## Estimate\n",
      "Mean value: -0.10849711522588248\n",
      "p-value: [0.02185382]\n",
      "95.0% confidence interval: [[-0.1382241  -0.01085408]]\n",
      "### Conditional Estimates\n",
      "__categorical__metalvalve  __categorical__ihd\n",
      "(-0.001, 1.0]              (-0.001, 1.0]        -0.108497\n",
      "dtype: float64\n"
     ]
    }
   ],
   "source": [
    "print(sdata_lin_est)"
   ]
  },
  {
   "cell_type": "code",
   "execution_count": 12,
   "id": "f3db6499",
   "metadata": {},
   "outputs": [
    {
     "name": "stdout",
     "output_type": "stream",
     "text": [
      "-------------- Causal Estimates -------------- \n",
      "Naive causal estimate is -0.09356128931064231\n",
      "Linear regression causal estimate is -0.10562889672174253\n",
      "Percentage change from naive_est: 12.898%\n",
      "----------------------------------------------\n"
     ]
    }
   ],
   "source": [
    "# mp model\n",
    "dwh.print_estimate_comparison(naive_est, mp_lin_est, 'Linear regression')"
   ]
  },
  {
   "cell_type": "code",
   "execution_count": 13,
   "id": "e2358819",
   "metadata": {},
   "outputs": [
    {
     "name": "stdout",
     "output_type": "stream",
     "text": [
      "-------------- Causal Estimates -------------- \n",
      "Naive causal estimate is -0.09356128931064231\n",
      "Linear regression causal estimate is -0.10849711522588248\n",
      "Percentage change from naive_est: 15.964%\n",
      "----------------------------------------------\n"
     ]
    }
   ],
   "source": [
    "# small data model\n",
    "dwh.print_estimate_comparison(naive_est, sdata_lin_est, 'Linear regression')"
   ]
  },
  {
   "cell_type": "code",
   "execution_count": 14,
   "id": "5fbbf708",
   "metadata": {},
   "outputs": [
    {
     "name": "stdout",
     "output_type": "stream",
     "text": [
      "-------------- Causal Estimates -------------- \n",
      "Naive causal estimate is -0.09356128931064231\n",
      "Linear regression causal estimate is -0.11644725221958863\n",
      "Percentage change from naive_est: 24.461%\n",
      "----------------------------------------------\n"
     ]
    }
   ],
   "source": [
    "# data model\n",
    "dwh.print_estimate_comparison(naive_est, data_lin_est, 'Linear regression')"
   ]
  },
  {
   "cell_type": "markdown",
   "id": "61531590",
   "metadata": {},
   "source": [
    "---\n",
    "## IV. Refute the obtained estimate"
   ]
  },
  {
   "cell_type": "markdown",
   "id": "8e28641e",
   "metadata": {},
   "source": [
    "1. **Add Random Common Cause:** Does the estimation method change its estimate after we add an independent random variable as a common cause to the dataset? (Hint: It should not)"
   ]
  },
  {
   "cell_type": "code",
   "execution_count": 15,
   "id": "ec63aab0",
   "metadata": {},
   "outputs": [],
   "source": [
    "# Robust if: estimate stays the same\n",
    "lin_ran_refuter = mp_model.refute_estimate(mp_estimand, mp_lin_est, \n",
    "                                           method_name=\"random_common_cause\", num_simulations=100)"
   ]
  },
  {
   "cell_type": "code",
   "execution_count": 33,
   "id": "32497e00",
   "metadata": {},
   "outputs": [],
   "source": [
    "lin_ran_refuter_sdata = small_data_model.refute_estimate(small_data_estimand, sdata_lin_est, \n",
    "                                                   method_name=\"random_common_cause\", num_simulations=100)"
   ]
  },
  {
   "cell_type": "code",
   "execution_count": 17,
   "id": "9ea33160",
   "metadata": {},
   "outputs": [],
   "source": [
    "lin_ran_refuter_data = data_model.refute_estimate(data_estimand, data_lin_est, \n",
    "                                                  method_name=\"random_common_cause\", num_simulations=100)"
   ]
  },
  {
   "cell_type": "code",
   "execution_count": 34,
   "id": "42563cf1",
   "metadata": {},
   "outputs": [
    {
     "name": "stdout",
     "output_type": "stream",
     "text": [
      "Refute: Add a Random Common Cause\n",
      "Estimated effect:-0.10562889672174253\n",
      "New effect:-0.10576178808664236\n",
      "\n",
      "Refute: Add a Random Common Cause\n",
      "Estimated effect:-0.10849711522588248\n",
      "New effect:-0.106878154928222\n",
      "\n",
      "Refute: Add a Random Common Cause\n",
      "Estimated effect:-0.11644725221958863\n",
      "New effect:-0.11580714074147552\n",
      "\n"
     ]
    }
   ],
   "source": [
    "print(lin_ran_refuter)\n",
    "print(lin_ran_refuter_sdata)\n",
    "print(lin_ran_refuter_data)"
   ]
  },
  {
   "cell_type": "markdown",
   "id": "40c8d844",
   "metadata": {},
   "source": [
    "2. **Placebo Treatment:** What happens to the estimated causal effect when we replace the true treatment variable with an independent random variable? (Hint: the effect should go to zero)\n",
    "\n",
    "\n",
    "\n",
    "* Note that the placebo type is 'permute' meaning the rows of the treatment variable have been randomly permuted giving the effect of a placebo treatment.\n"
   ]
  },
  {
   "cell_type": "code",
   "execution_count": 19,
   "id": "02959786",
   "metadata": {},
   "outputs": [],
   "source": [
    "# Robust if: estimate goes to 0\n",
    "lin_placebo_refuter = mp_model.refute_estimate(mp_estimand, mp_lin_est, \n",
    "                                               method_name=\"placebo_treatment_refuter\",\n",
    "                                               num_simulations=100,\n",
    "                                               placebo_type='permute')\n",
    "\n",
    "lin_placebo_refuter_data = data_model.refute_estimate(data_estimand, data_lin_est, \n",
    "                                                      method_name=\"placebo_treatment_refuter\",\n",
    "                                                      num_simulations=100, \n",
    "                                                      placebo_type='permute')\n",
    "\n",
    "lin_placebo_refuter_sdata = small_data_model.refute_estimate(small_data_estimand, sdata_lin_est, \n",
    "                                                      method_name=\"placebo_treatment_refuter\",\n",
    "                                                      num_simulations=100, \n",
    "                                                      placebo_type='permute')"
   ]
  },
  {
   "cell_type": "code",
   "execution_count": 20,
   "id": "44cdbe3e",
   "metadata": {},
   "outputs": [
    {
     "name": "stdout",
     "output_type": "stream",
     "text": [
      "Refute: Use a Placebo Treatment\n",
      "Estimated effect:-0.10562889672174253\n",
      "New effect:-0.002291339975030228\n",
      "p value:0.49\n",
      "\n",
      "Refute: Use a Placebo Treatment\n",
      "Estimated effect:-0.11644725221958863\n",
      "New effect:-0.002208885717177781\n",
      "p value:0.5\n",
      "\n",
      "Refute: Use a Placebo Treatment\n",
      "Estimated effect:-0.10849711522588248\n",
      "New effect:0.0006689357270149696\n",
      "p value:0.49\n",
      "\n"
     ]
    }
   ],
   "source": [
    "print(lin_placebo_refuter)\n",
    "print(lin_placebo_refuter_data)\n",
    "print(lin_placebo_refuter_sdata)"
   ]
  },
  {
   "cell_type": "markdown",
   "id": "f4275716",
   "metadata": {},
   "source": [
    "3. **Dummy Outcome:** What happens to the estimated causal effect when we replace the true outcome variable with an independent random variable? (Hint: The effect should go to zero)\n",
    "\n",
    "\n",
    "\n",
    "* The result shows that when using a dummy outcome, the **treatment does not lead to the outcome**. The estimated effect is hence a value that tends to zero, which matches our expectation. This shows that if we replace the outcome by randomly generated data, the **estimator correctly predicts that the influence if treatment is zero**.\n"
   ]
  },
  {
   "cell_type": "code",
   "execution_count": 21,
   "id": "f00ed710",
   "metadata": {},
   "outputs": [],
   "source": [
    "# Robust if: estimate goes to 0\n",
    "lin_dummy_refuter = mp_model.refute_estimate(mp_estimand, mp_lin_est, \n",
    "                                             method_name=\"dummy_outcome_refuter\", num_simulations=100)\n",
    "lin_dummy_refuter_data = data_model.refute_estimate(data_estimand, data_lin_est,\n",
    "                                                    method_name=\"dummy_outcome_refuter\", num_simulations=100)\n",
    "\n",
    "lin_dummy_refuter_sdata = small_data_model.refute_estimate(small_data_estimand, sdata_lin_est,\n",
    "                                                    method_name=\"dummy_outcome_refuter\", num_simulations=100)\n"
   ]
  },
  {
   "cell_type": "code",
   "execution_count": 22,
   "id": "ad47458f",
   "metadata": {},
   "outputs": [
    {
     "name": "stdout",
     "output_type": "stream",
     "text": [
      "Refute: Use a Dummy Outcome\n",
      "Estimated effect:0\n",
      "New effect:-0.00921745019832052\n",
      "p value:0.49\n",
      "\n",
      "Refute: Use a Dummy Outcome\n",
      "Estimated effect:0\n",
      "New effect:-0.025462638453289995\n",
      "p value:0.32999999999999996\n",
      "\n",
      "Refute: Use a Dummy Outcome\n",
      "Estimated effect:0\n",
      "New effect:0.009561667503199412\n",
      "p value:0.44\n",
      "\n"
     ]
    }
   ],
   "source": [
    "print(lin_dummy_refuter[0])\n",
    "print(lin_dummy_refuter_data[0])\n",
    "print(lin_dummy_refuter_sdata[0])\n"
   ]
  },
  {
   "cell_type": "markdown",
   "id": "4f166df9",
   "metadata": {},
   "source": [
    "4. **Data Subsets Validation:** Does the estimated effect change significantly when we replace the given dataset with a randomly selected subset? (Hint: It should not)"
   ]
  },
  {
   "cell_type": "code",
   "execution_count": 23,
   "id": "85f179ba",
   "metadata": {},
   "outputs": [],
   "source": [
    "# Robust if: estimate stays the same\n",
    "lin_subset_refuter = mp_model.refute_estimate(mp_estimand, mp_lin_est, \n",
    "                                              method_name=\"data_subset_refuter\",\n",
    "                                              num_simulations=100,\n",
    "                                              subset_fraction=0.75)\n",
    "lin_subset_refuter_data = data_model.refute_estimate(data_estimand, data_lin_est, \n",
    "                                                     method_name=\"data_subset_refuter\",\n",
    "                                                     num_simulations=100,\n",
    "                                                     subset_fraction=0.75)\n",
    "lin_subset_refuter_sdata = small_data_model.refute_estimate(small_data_estimand, sdata_lin_est, \n",
    "                                                     method_name=\"data_subset_refuter\",\n",
    "                                                     num_simulations=100,\n",
    "                                                     subset_fraction=0.75)"
   ]
  },
  {
   "cell_type": "code",
   "execution_count": 24,
   "id": "e8874e5f",
   "metadata": {},
   "outputs": [
    {
     "name": "stdout",
     "output_type": "stream",
     "text": [
      "Refute: Use a subset of data\n",
      "Estimated effect:-0.10562889672174253\n",
      "New effect:-0.10794866476919793\n",
      "p value:0.43999999999999995\n",
      "\n",
      "Refute: Use a subset of data\n",
      "Estimated effect:-0.11644725221958863\n",
      "New effect:-0.11363650527126827\n",
      "p value:0.48\n",
      "\n",
      "Refute: Use a subset of data\n",
      "Estimated effect:-0.10849711522588248\n",
      "New effect:-0.10894847922588217\n",
      "p value:0.45999999999999996\n",
      "\n"
     ]
    }
   ],
   "source": [
    "print(lin_subset_refuter)\n",
    "print(lin_subset_refuter_data)\n",
    "print(lin_subset_refuter_sdata)"
   ]
  },
  {
   "cell_type": "markdown",
   "id": "10da2738",
   "metadata": {},
   "source": [
    "5. **Bootstrap Validation:** Does the estimated effect change significantly when we replace the given dataset with bootstrapped samples from the same dataset? (Hint: It should not)"
   ]
  },
  {
   "cell_type": "code",
   "execution_count": 25,
   "id": "7285c79b",
   "metadata": {},
   "outputs": [],
   "source": [
    "# Robust if: estimate stays the same\n",
    "lin_bootstrap_refuter = mp_model.refute_estimate(mp_estimand, mp_lin_est, \n",
    "                                                 method_name=\"bootstrap_refuter\",\n",
    "                                                 num_simulations=100)\n",
    "\n",
    "lin_bootstrap_refuter_data = data_model.refute_estimate(data_estimand, data_lin_est, \n",
    "                                                        method_name=\"bootstrap_refuter\", \n",
    "                                                        num_simulations=100)\n",
    "\n",
    "lin_bootstrap_refuter_sdata = small_data_model.refute_estimate(small_data_estimand, sdata_lin_est, \n",
    "                                                               method_name=\"bootstrap_refuter\", \n",
    "                                                               num_simulations=100)"
   ]
  },
  {
   "cell_type": "code",
   "execution_count": 26,
   "id": "a19c3702",
   "metadata": {},
   "outputs": [
    {
     "name": "stdout",
     "output_type": "stream",
     "text": [
      "Refute: Bootstrap Sample Dataset\n",
      "Estimated effect:-0.10562889672174253\n",
      "New effect:-0.10338488270601362\n",
      "p value:0.44\n",
      "\n",
      "Refute: Bootstrap Sample Dataset\n",
      "Estimated effect:-0.11644725221958863\n",
      "New effect:-0.11871180345215784\n",
      "p value:0.43999999999999995\n",
      "\n",
      "Refute: Bootstrap Sample Dataset\n",
      "Estimated effect:-0.10849711522588248\n",
      "New effect:-0.10657350850129578\n",
      "p value:0.49\n",
      "\n"
     ]
    }
   ],
   "source": [
    "print(lin_bootstrap_refuter)\n",
    "print(lin_bootstrap_refuter_data)\n",
    "print(lin_bootstrap_refuter_sdata)"
   ]
  },
  {
   "cell_type": "markdown",
   "id": "2bce673f",
   "metadata": {},
   "source": [
    "---\n",
    "## III. Generalized linear model (GLM) estimator\n"
   ]
  },
  {
   "cell_type": "code",
   "execution_count": 27,
   "id": "edcd2593",
   "metadata": {},
   "outputs": [],
   "source": [
    "mp_glm_est = dwh.bin_glm_estimator(mp_model, mp_estimand, ci=True, test_significance=True)"
   ]
  },
  {
   "cell_type": "code",
   "execution_count": 28,
   "id": "3ed8dbd5",
   "metadata": {},
   "outputs": [],
   "source": [
    "data_glm_est = dwh.bin_glm_estimator(data_model, data_estimand, ci=True, test_significance=True)"
   ]
  },
  {
   "cell_type": "code",
   "execution_count": 29,
   "id": "af82ec8a",
   "metadata": {},
   "outputs": [],
   "source": [
    "sdata_glm_est = dwh.bin_glm_estimator(small_data_model, small_data_estimand, ci=True, test_significance=True)"
   ]
  },
  {
   "cell_type": "code",
   "execution_count": 30,
   "id": "95ad2fa7",
   "metadata": {},
   "outputs": [
    {
     "name": "stdout",
     "output_type": "stream",
     "text": [
      "*** Causal Estimate ***\n",
      "\n",
      "## Identified estimand\n",
      "Estimand type: nonparametric-ate\n",
      "\n",
      "### Estimand : 1\n",
      "Estimand name: backdoor\n",
      "Estimand expression:\n",
      "   d                                                                          \n",
      "────────(Expectation(recurrence|antiplatelet,thickness_sum,age,adm_mrs,gcs_pre\n",
      "d[drain]                                                                      \n",
      "\n",
      "    \n",
      "op))\n",
      "    \n",
      "Estimand assumption 1, Unconfoundedness: If U→{drain} and U→recurrence then P(recurrence|drain,antiplatelet,thickness_sum,age,adm_mrs,gcs_preop,U) = P(recurrence|drain,antiplatelet,thickness_sum,age,adm_mrs,gcs_preop)\n",
      "\n",
      "## Realized estimand\n",
      "b: recurrence~Sigmoid(drain+antiplatelet+thickness_sum+age+adm_mrs+gcs_preop+drain*antiplatelet)\n",
      "Target units: ate\n",
      "\n",
      "## Estimate\n",
      "Mean value: -0.11124053164452738\n",
      "p-value: [0, 0.001]\n",
      "95.0% confidence interval: (-0.16952364283819177, -0.04551411754570943)\n",
      "### Conditional Estimates\n",
      "__categorical__antiplatelet\n",
      "(-0.001, 1.0]   -0.111241\n",
      "dtype: float64\n"
     ]
    }
   ],
   "source": [
    "print(mp_glm_est)"
   ]
  },
  {
   "cell_type": "code",
   "execution_count": 31,
   "id": "c9454771",
   "metadata": {},
   "outputs": [
    {
     "name": "stdout",
     "output_type": "stream",
     "text": [
      "*** Causal Estimate ***\n",
      "\n",
      "## Identified estimand\n",
      "Estimand type: nonparametric-ate\n",
      "\n",
      "### Estimand : 1\n",
      "Estimand name: backdoor\n",
      "Estimand expression:\n",
      "   d                                                                          \n",
      "────────(Expectation(recurrence|midlineshift,copd,steroid,density,inr,epilepsy\n",
      "d[drain]                                                                      \n",
      "\n",
      "                                                                              \n",
      ",platelet,bilateral,ihd,age,arrhythmia,antiplatelet,metalvalve,stroke,thicknes\n",
      "                                                                              \n",
      "\n",
      "                           \n",
      "s_sum,membranes,gcs_preop))\n",
      "                           \n",
      "Estimand assumption 1, Unconfoundedness: If U→{drain} and U→recurrence then P(recurrence|drain,midlineshift,copd,steroid,density,inr,epilepsy,platelet,bilateral,ihd,age,arrhythmia,antiplatelet,metalvalve,stroke,thickness_sum,membranes,gcs_preop,U) = P(recurrence|drain,midlineshift,copd,steroid,density,inr,epilepsy,platelet,bilateral,ihd,age,arrhythmia,antiplatelet,metalvalve,stroke,thickness_sum,membranes,gcs_preop)\n",
      "\n",
      "## Realized estimand\n",
      "b: recurrence~Sigmoid(drain+midlineshift+copd+steroid+density+inr+epilepsy+platelet+bilateral+ihd+age+arrhythmia+antiplatelet+metalvalve+stroke+thickness_sum+membranes+gcs_preop+drain*metalvalve+drain*ihd+drain*gcs_preop)\n",
      "Target units: ate\n",
      "\n",
      "## Estimate\n",
      "Mean value: -0.12644876282215634\n",
      "p-value: [0, 0.001]\n",
      "95.0% confidence interval: (-0.19510819449942912, -0.059178172996289455)\n",
      "### Conditional Estimates\n",
      "__categorical__metalvalve  __categorical__ihd  __categorical__gcs_preop\n",
      "(-0.001, 1.0]              (-0.001, 1.0]       (2.999, 13.0]              -0.172653\n",
      "                                               (13.0, 14.0]               -0.125068\n",
      "                                               (14.0, 15.0]               -0.100746\n",
      "dtype: float64\n"
     ]
    }
   ],
   "source": [
    "print(data_glm_est)"
   ]
  },
  {
   "cell_type": "code",
   "execution_count": 32,
   "id": "91e38f3b",
   "metadata": {},
   "outputs": [
    {
     "name": "stdout",
     "output_type": "stream",
     "text": [
      "*** Causal Estimate ***\n",
      "\n",
      "## Identified estimand\n",
      "Estimand type: nonparametric-ate\n",
      "\n",
      "### Estimand : 1\n",
      "Estimand name: backdoor\n",
      "Estimand expression:\n",
      "   d                                                                          \n",
      "────────(Expectation(recurrence|antiplatelet,inr,metalvalve,platelet,stroke,ih\n",
      "d[drain]                                                                      \n",
      "\n",
      "                     \n",
      "d,thickness_sum,age))\n",
      "                     \n",
      "Estimand assumption 1, Unconfoundedness: If U→{drain} and U→recurrence then P(recurrence|drain,antiplatelet,inr,metalvalve,platelet,stroke,ihd,thickness_sum,age,U) = P(recurrence|drain,antiplatelet,inr,metalvalve,platelet,stroke,ihd,thickness_sum,age)\n",
      "\n",
      "## Realized estimand\n",
      "b: recurrence~Sigmoid(drain+antiplatelet+inr+metalvalve+platelet+stroke+ihd+thickness_sum+age+drain*metalvalve+drain*ihd)\n",
      "Target units: ate\n",
      "\n",
      "## Estimate\n",
      "Mean value: -0.11013202824956747\n",
      "p-value: [0, 0.001]\n",
      "95.0% confidence interval: (-0.16274668793359107, -0.04835436632903764)\n",
      "### Conditional Estimates\n",
      "__categorical__metalvalve  __categorical__ihd\n",
      "(-0.001, 1.0]              (-0.001, 1.0]        -0.110132\n",
      "dtype: float64\n"
     ]
    }
   ],
   "source": [
    "print(sdata_glm_est)"
   ]
  },
  {
   "cell_type": "markdown",
   "id": "3bc45422",
   "metadata": {},
   "source": [
    "---\n",
    "## IV. Refute the obtained estimate"
   ]
  },
  {
   "cell_type": "markdown",
   "id": "35f0854a",
   "metadata": {},
   "source": [
    "1. **Add Random Common Cause:** Does the estimation method change its estimate after we add an independent random variable as a common cause to the dataset? (Hint: It should not)"
   ]
  },
  {
   "cell_type": "code",
   "execution_count": 43,
   "id": "f9349c29",
   "metadata": {},
   "outputs": [],
   "source": [
    "# Robust if: estimate stays the same\n",
    "glm_ran_refuter = mp_model.refute_estimate(mp_estimand, mp_glm_est, method_name=\"random_common_cause\", num_simulations=100)"
   ]
  },
  {
   "cell_type": "code",
   "execution_count": 45,
   "id": "d0ca7e3f",
   "metadata": {},
   "outputs": [],
   "source": [
    "glm_ran_refuter_sdata = small_data_model.refute_estimate(small_data_estimand, data_glm_est, method_name=\"random_common_cause\", num_simulations=100)"
   ]
  },
  {
   "cell_type": "code",
   "execution_count": 47,
   "id": "4662e9f3",
   "metadata": {},
   "outputs": [],
   "source": [
    "glm_ran_refuter_data = data_model.refute_estimate(data_estimand, data_glm_est, method_name=\"random_common_cause\", num_simulations=100)"
   ]
  },
  {
   "cell_type": "code",
   "execution_count": 46,
   "id": "7218a974",
   "metadata": {},
   "outputs": [
    {
     "name": "stdout",
     "output_type": "stream",
     "text": [
      "Refute: Add a Random Common Cause\n",
      "Estimated effect:-0.11124053164452738\n",
      "New effect:-0.11000215245384974\n",
      "\n",
      "Refute: Add a Random Common Cause\n",
      "Estimated effect:-0.12644876282215634\n",
      "New effect:-0.11086691424267466\n",
      "\n",
      "Refute: Add a Random Common Cause\n",
      "Estimated effect:-0.12644876282215634\n",
      "New effect:-0.12591332723906165\n",
      "\n"
     ]
    }
   ],
   "source": [
    "print(glm_ran_refuter)\n",
    "print(glm_ran_refuter_sdata)\n",
    "print(glm_ran_refuter_data)"
   ]
  },
  {
   "cell_type": "markdown",
   "id": "343083f2",
   "metadata": {},
   "source": [
    "2. **Placebo Treatment:** What happens to the estimated causal effect when we replace the true treatment variable with an independent random variable? (Hint: the effect should go to zero)\n",
    "\n",
    "\n",
    "\n",
    "* Note that the placebo type is 'permute' meaning the rows of the treatment variable have been randomly permuted giving the effect of a placebo treatment.\n"
   ]
  },
  {
   "cell_type": "code",
   "execution_count": 59,
   "id": "75d25441",
   "metadata": {},
   "outputs": [],
   "source": [
    "# Robust if: estimate goes to 0\n",
    "glm_placebo_refuter = mp_model.refute_estimate(mp_estimand, \n",
    "                                               mp_glm_est,\n",
    "                                               method_name=\"placebo_treatment_refuter\",\n",
    "                                               num_simulations=100,\n",
    "                                               placebo_type='permute')\n"
   ]
  },
  {
   "cell_type": "code",
   "execution_count": 60,
   "id": "664bb129",
   "metadata": {},
   "outputs": [],
   "source": [
    "glm_placebo_refuter_sdata = small_data_model.refute_estimate(small_data_estimand, \n",
    "                                                             sdata_glm_est, \n",
    "                                                             method_name=\"placebo_treatment_refuter\",\n",
    "                                                             num_simulations=100,\n",
    "                                                             placebo_type='permute')"
   ]
  },
  {
   "cell_type": "code",
   "execution_count": 61,
   "id": "fd5eae21",
   "metadata": {},
   "outputs": [],
   "source": [
    "glm_placebo_refuter_data = data_model.refute_estimate(data_estimand, \n",
    "                                                      data_glm_est,\n",
    "                                                      method_name=\"placebo_treatment_refuter\",\n",
    "                                                      num_simulations=100,\n",
    "                                                      placebo_type='permute')"
   ]
  },
  {
   "cell_type": "code",
   "execution_count": 62,
   "id": "2cc9e5fc",
   "metadata": {},
   "outputs": [
    {
     "name": "stdout",
     "output_type": "stream",
     "text": [
      "Refute: Use a Placebo Treatment\n",
      "Estimated effect:-0.11124053164452738\n",
      "New effect:0.0017622580657989811\n",
      "p value:0.47\n",
      "\n",
      "Refute: Use a Placebo Treatment\n",
      "Estimated effect:-0.11013202824956747\n",
      "New effect:0.0002449093988948427\n",
      "p value:0.5\n",
      "\n",
      "Refute: Use a Placebo Treatment\n",
      "Estimated effect:-0.12644876282215634\n",
      "New effect:-0.0014730608287027661\n",
      "p value:0.47\n",
      "\n"
     ]
    }
   ],
   "source": [
    "print(glm_placebo_refuter)\n",
    "print(glm_placebo_refuter_sdata)\n",
    "print(glm_placebo_refuter_data)"
   ]
  },
  {
   "cell_type": "markdown",
   "id": "23f19003",
   "metadata": {},
   "source": [
    "3. **Dummy Outcome:** What happens to the estimated causal effect when we replace the true outcome variable with an independent random variable? (Hint: The effect should go to zero)\n",
    "\n",
    "\n",
    "\n",
    "* The result shows that when using a dummy outcome, the **treatment does not lead to the outcome**. The estimated effect is hence a value that tends to zero, which matches our expectation. This shows that if we replace the outcome by randomly generated data, the **estimator correctly predicts that the influence if treatment is zero**."
   ]
  },
  {
   "cell_type": "code",
   "execution_count": 67,
   "id": "b4e93404",
   "metadata": {},
   "outputs": [],
   "source": [
    "# Robust if: estimate goes to 0\n",
    "glm_dummy_refuter = mp_model.refute_estimate(mp_estimand, mp_glm_est,\n",
    "                                             method_name=\"dummy_outcome_refuter\", \n",
    "                                             num_simulations=100)"
   ]
  },
  {
   "cell_type": "code",
   "execution_count": 68,
   "id": "0ea861e4",
   "metadata": {},
   "outputs": [],
   "source": [
    "glm_dummy_refuter_sdata = small_data_model.refute_estimate(small_data_estimand, \n",
    "                                                           sdata_glm_est, \n",
    "                                                           method_name=\"dummy_outcome_refuter\",\n",
    "                                                           num_simulations=100)"
   ]
  },
  {
   "cell_type": "code",
   "execution_count": 69,
   "id": "35e77efc",
   "metadata": {},
   "outputs": [],
   "source": [
    "glm_dummy_refuter_data = data_model.refute_estimate(data_estimand, \n",
    "                                                    data_glm_est, \n",
    "                                                    method_name=\"dummy_outcome_refuter\",\n",
    "                                                    num_simulations=100)"
   ]
  },
  {
   "cell_type": "code",
   "execution_count": 79,
   "id": "7cafee26",
   "metadata": {},
   "outputs": [
    {
     "name": "stdout",
     "output_type": "stream",
     "text": [
      "Refute: Use a Dummy Outcome\n",
      "Estimated effect:0\n",
      "New effect:-0.03176279526577422\n",
      "p value:0.76\n",
      "\n",
      "Refute: Use a Dummy Outcome\n",
      "Estimated effect:0\n",
      "New effect:-0.025234899328859056\n",
      "p value:0.43999999999999995\n",
      "\n",
      "Refute: Use a Dummy Outcome\n",
      "Estimated effect:0\n",
      "New effect:-0.022697986577181205\n",
      "p value:0.4\n",
      "\n"
     ]
    }
   ],
   "source": [
    "print(glm_dummy_refuter[0])\n",
    "print(glm_dummy_refuter_sdata[0])\n",
    "print(glm_dummy_refuter_data[0])"
   ]
  },
  {
   "cell_type": "markdown",
   "id": "0e4a0330",
   "metadata": {},
   "source": [
    "4. **Data Subsets Validation:** Does the estimated effect change significantly when we replace the given dataset with a randomly selected subset? (Hint: It should not)"
   ]
  },
  {
   "cell_type": "code",
   "execution_count": 71,
   "id": "55857906",
   "metadata": {},
   "outputs": [],
   "source": [
    "# Robust if: estimate stays the same\n",
    "glm_subset_refuter = mp_model.refute_estimate(mp_estimand, mp_glm_est, method_name=\"data_subset_refuter\", \n",
    "                                              subset_fraction=0.5, num_simulations=100)"
   ]
  },
  {
   "cell_type": "code",
   "execution_count": 72,
   "id": "1d21a343",
   "metadata": {},
   "outputs": [],
   "source": [
    "glm_subset_refuter_sdata = small_data_model.refute_estimate(small_data_estimand, sdata_glm_est, \n",
    "                                                            method_name=\"data_subset_refuter\", \n",
    "                                                            subset_fraction=0.5, num_simulations=100)"
   ]
  },
  {
   "cell_type": "code",
   "execution_count": 73,
   "id": "97c011f4",
   "metadata": {},
   "outputs": [],
   "source": [
    "glm_subset_refuter_data = data_model.refute_estimate(data_estimand, data_glm_est, \n",
    "                                                     method_name=\"data_subset_refuter\", \n",
    "                                                     subset_fraction=0.5, num_simulations=100)"
   ]
  },
  {
   "cell_type": "code",
   "execution_count": 74,
   "id": "39390e33",
   "metadata": {},
   "outputs": [
    {
     "name": "stdout",
     "output_type": "stream",
     "text": [
      "Refute: Use a subset of data\n",
      "Estimated effect:-0.11124053164452738\n",
      "New effect:-0.10203874150722521\n",
      "p value:0.42\n",
      "\n",
      "Refute: Use a subset of data\n",
      "Estimated effect:-0.11013202824956747\n",
      "New effect:-0.09882132792286683\n",
      "p value:0.36\n",
      "\n",
      "Refute: Use a subset of data\n",
      "Estimated effect:-0.12644876282215634\n",
      "New effect:-0.12538736013487936\n",
      "p value:0.48\n",
      "\n"
     ]
    }
   ],
   "source": [
    "print(glm_subset_refuter)\n",
    "print(glm_subset_refuter_sdata)\n",
    "print(glm_subset_refuter_data)"
   ]
  },
  {
   "cell_type": "markdown",
   "id": "7bf0e74b",
   "metadata": {},
   "source": [
    "5. **Bootstrap Validation:** Does the estimated effect change significantly when we replace the given dataset with bootstrapped samples from the same dataset? (Hint: It should not)"
   ]
  },
  {
   "cell_type": "code",
   "execution_count": 75,
   "id": "2ba53336",
   "metadata": {},
   "outputs": [],
   "source": [
    "# Robust if: estimate stays the same\n",
    "glm_bootstrap_refuter = mp_model.refute_estimate(mp_estimand, mp_glm_est, method_name=\"bootstrap_refuter\", \n",
    "                                                 num_simulations=100)"
   ]
  },
  {
   "cell_type": "code",
   "execution_count": 76,
   "id": "aab4560f",
   "metadata": {},
   "outputs": [],
   "source": [
    "glm_bootstrap_refuter_sdata = small_data_model.refute_estimate(small_data_estimand, sdata_glm_est, \n",
    "                                                               method_name=\"bootstrap_refuter\", \n",
    "                                                               num_simulations=100)"
   ]
  },
  {
   "cell_type": "code",
   "execution_count": 77,
   "id": "f164abf8",
   "metadata": {},
   "outputs": [],
   "source": [
    "glm_bootstrap_refuter_data = data_model.refute_estimate(data_estimand, data_glm_est, \n",
    "                                                        method_name=\"bootstrap_refuter\", \n",
    "                                                        num_simulations=100)"
   ]
  },
  {
   "cell_type": "code",
   "execution_count": 78,
   "id": "719b0d42",
   "metadata": {},
   "outputs": [
    {
     "name": "stdout",
     "output_type": "stream",
     "text": [
      "Refute: Bootstrap Sample Dataset\n",
      "Estimated effect:-0.11124053164452738\n",
      "New effect:-0.10909803479930678\n",
      "p value:0.45\n",
      "\n",
      "Refute: Bootstrap Sample Dataset\n",
      "Estimated effect:-0.11013202824956747\n",
      "New effect:-0.10819529981946285\n",
      "p value:0.45\n",
      "\n",
      "Refute: Bootstrap Sample Dataset\n",
      "Estimated effect:-0.12644876282215634\n",
      "New effect:-0.12133007442924862\n",
      "p value:0.48\n",
      "\n"
     ]
    }
   ],
   "source": [
    "print(glm_bootstrap_refuter)\n",
    "print(glm_bootstrap_refuter_sdata)\n",
    "print(glm_bootstrap_refuter_data)"
   ]
  }
 ],
 "metadata": {
  "kernelspec": {
   "display_name": "Python 3.8.5 64-bit",
   "language": "python",
   "name": "python38564bitaabf1376f1374bd8b636ac321c937df8"
  },
  "language_info": {
   "codemirror_mode": {
    "name": "ipython",
    "version": 3
   },
   "file_extension": ".py",
   "mimetype": "text/x-python",
   "name": "python",
   "nbconvert_exporter": "python",
   "pygments_lexer": "ipython3",
   "version": "3.9.2"
  }
 },
 "nbformat": 4,
 "nbformat_minor": 5
}
