{
 "cells": [
  {
   "cell_type": "markdown",
   "id": "580fa26f",
   "metadata": {},
   "source": [
    "# Linear Regression and GLM Estimation Methods\n",
    "---\n",
    "## The four steps of causal inference\n",
    "\n",
    "### I. Model a causal problem\n",
    "- Create a causal DAG for your system of interest.\n",
    "\n",
    "### II. Identify a target estimand under the model\n",
    "- Identify the causal estimand under the assumptions of the causal DAG.\n",
    "\n",
    "### III. Estimate the causal effect based on the identified estimand\n",
    "- Estimate the estimand using any kind of Stats/ML model e.g. linear regression, random forest etc.\n",
    "\n",
    "### IV. Refute the obtain estimate\n",
    "- Peform refutations on the estimate to test its robustness "
   ]
  },
  {
   "cell_type": "markdown",
   "id": "02459dd3",
   "metadata": {},
   "source": [
    "## Imports"
   ]
  },
  {
   "cell_type": "code",
   "execution_count": 1,
   "id": "6e5ba172",
   "metadata": {},
   "outputs": [],
   "source": [
    "import numpy as np\n",
    "import pandas as pd\n",
    "import patsy as ps\n",
    "import statsmodels\n",
    "import dowhy\n",
    "from dowhy import CausalModel\n",
    "import econml\n",
    "from IPython.display import Image, display\n",
    "from pathlib import Path\n",
    "import os\n",
    "import sys\n",
    "\n",
    "# Avoid printing dataconversion warnings from sklearn\n",
    "# Config dict to set the logging level\n",
    "import logging.config\n",
    "import warnings\n",
    "warnings.filterwarnings('ignore')\n",
    "DEFAULT_LOGGING = {\n",
    "    'version': 1,\n",
    "    'disable_existing_loggers': False,\n",
    "    'loggers': {\n",
    "        '': {\n",
    "            'level': 'WARN',\n",
    "        },\n",
    "    }\n",
    "}\n",
    "logging.config.dictConfig(DEFAULT_LOGGING)\n",
    "\n",
    "# Import custom dowhy helper functions module\n",
    "cwd = Path().resolve()\n",
    "PARENT_DIR = os.path.dirname(cwd)\n",
    "SCRIPT_DIR = os.path.join(PARENT_DIR, 'helpers')\n",
    "sys.path.append(SCRIPT_DIR)\n",
    "import dowhy_helpers as dwh"
   ]
  },
  {
   "cell_type": "code",
   "execution_count": 2,
   "id": "94d7c755",
   "metadata": {},
   "outputs": [],
   "source": [
    "# I/O Stuff\n",
    "DATA_FILENAME = \"csdh_clean.csv\"\n",
    "DATA_FILEPATH = \"/Users/callum/Uni/GitHubRepos/surviving-the-icu/datasets/drain_data/\" + DATA_FILENAME\n",
    "csdh = pd.read_csv(DATA_FILEPATH)"
   ]
  },
  {
   "cell_type": "markdown",
   "id": "7113670d",
   "metadata": {},
   "source": [
    "---\n",
    "## 0. Naïve Estimation (no causal inference)"
   ]
  },
  {
   "cell_type": "code",
   "execution_count": 3,
   "id": "6aca7850",
   "metadata": {},
   "outputs": [
    {
     "name": "stdout",
     "output_type": "stream",
     "text": [
      "Without adjusting for any confounding, the naive causal estimate is computed as -0.09356128931064231\n"
     ]
    }
   ],
   "source": [
    "naive_est = dwh.naive_estimate(df=csdh, treatment='drain', outcome='recurrence', treatment_type='int')\n",
    "print(f\"Without adjusting for any confounding, the naive causal estimate is computed as {naive_est}\")"
   ]
  },
  {
   "cell_type": "markdown",
   "id": "14cc0676",
   "metadata": {},
   "source": [
    "---\n",
    "## I. Model a causal problem\n",
    "* Create a causal model from the data and given graph."
   ]
  },
  {
   "cell_type": "code",
   "execution_count": 4,
   "id": "c169588a",
   "metadata": {},
   "outputs": [],
   "source": [
    "mp_model = CausalModel(data=csdh, \n",
    "                       treatment='drain', \n",
    "                       outcome='recurrence', \n",
    "                       graph='../causal_graphs/mp_dag.dot'.replace(\"\\n\", \" \"))"
   ]
  },
  {
   "cell_type": "code",
   "execution_count": 5,
   "id": "d3e1e335",
   "metadata": {},
   "outputs": [],
   "source": [
    "data_model = CausalModel(data=csdh, \n",
    "                         treatment='drain', \n",
    "                         outcome='recurrence', \n",
    "                         graph='../causal_graphs/data_dag.dot'.replace(\"\\n\", \" \"))"
   ]
  },
  {
   "cell_type": "code",
   "execution_count": 6,
   "id": "ca2f4abc",
   "metadata": {},
   "outputs": [],
   "source": [
    "small_data_model = CausalModel(data=csdh,\n",
    "                               treatment='drain', \n",
    "                               outcome='recurrence', \n",
    "                               graph='../causal_graphs/small_data_dag.dot'.replace(\"\\n\", \" \"))"
   ]
  },
  {
   "cell_type": "markdown",
   "id": "41f68a03",
   "metadata": {},
   "source": [
    "---\n",
    "## II. Identify a target estimand under the model"
   ]
  },
  {
   "cell_type": "code",
   "execution_count": 7,
   "id": "102b733b",
   "metadata": {},
   "outputs": [],
   "source": [
    "mp_estimand = mp_model.identify_effect(proceed_when_unidentifiable=True)\n",
    "data_estimand = data_model.identify_effect(proceed_when_unidentifiable=True)\n",
    "small_data_estimand = small_data_model.identify_effect(proceed_when_unidentifiable=True)"
   ]
  },
  {
   "cell_type": "markdown",
   "id": "928a2535",
   "metadata": {},
   "source": [
    "---\n",
    "## III. Linear Regression Estimator"
   ]
  },
  {
   "cell_type": "code",
   "execution_count": 8,
   "id": "ed91f428",
   "metadata": {},
   "outputs": [],
   "source": [
    "# III. Estimate the target estimand using a statistical method.\n",
    "mp_lin_est = dwh.linear_regression_estimator(mp_model, mp_estimand, ci=True, test_significance=True)\n",
    "data_lin_est = dwh.linear_regression_estimator(data_model, data_estimand, ci=True, test_significance=True)\n",
    "sdata_lin_est = dwh.linear_regression_estimator(small_data_model, small_data_estimand, ci=True, test_significance=True)"
   ]
  },
  {
   "cell_type": "code",
   "execution_count": 9,
   "id": "8f786bba",
   "metadata": {},
   "outputs": [
    {
     "name": "stdout",
     "output_type": "stream",
     "text": [
      "*** Causal Estimate ***\n",
      "\n",
      "## Identified estimand\n",
      "Estimand type: nonparametric-ate\n",
      "\n",
      "### Estimand : 1\n",
      "Estimand name: backdoor\n",
      "Estimand expression:\n",
      "   d                                                                          \n",
      "────────(Expectation(recurrence|adm_mrs,antiplatelet,thickness_sum,gcs_preop,a\n",
      "d[drain]                                                                      \n",
      "\n",
      "    \n",
      "ge))\n",
      "    \n",
      "Estimand assumption 1, Unconfoundedness: If U→{drain} and U→recurrence then P(recurrence|drain,adm_mrs,antiplatelet,thickness_sum,gcs_preop,age,U) = P(recurrence|drain,adm_mrs,antiplatelet,thickness_sum,gcs_preop,age)\n",
      "\n",
      "## Realized estimand\n",
      "b: recurrence~drain+adm_mrs+antiplatelet+thickness_sum+gcs_preop+age+drain*antiplatelet\n",
      "Target units: ate\n",
      "\n",
      "## Estimate\n",
      "Mean value: -0.10562889672174289\n",
      "p-value: [0.01406595]\n",
      "95.0% confidence interval: [[-0.14587421 -0.01642682]]\n",
      "### Conditional Estimates\n",
      "__categorical__antiplatelet\n",
      "(-0.001, 1.0]   -0.105629\n",
      "dtype: float64\n"
     ]
    }
   ],
   "source": [
    "print(mp_lin_est)"
   ]
  },
  {
   "cell_type": "code",
   "execution_count": 10,
   "id": "d4515f8d",
   "metadata": {},
   "outputs": [
    {
     "name": "stdout",
     "output_type": "stream",
     "text": [
      "*** Causal Estimate ***\n",
      "\n",
      "## Identified estimand\n",
      "Estimand type: nonparametric-ate\n",
      "\n",
      "### Estimand : 1\n",
      "Estimand name: backdoor\n",
      "Estimand expression:\n",
      "   d                                                                          \n",
      "────────(Expectation(recurrence|stroke,copd,metalvalve,ihd,arrhythmia,density,\n",
      "d[drain]                                                                      \n",
      "\n",
      "                                                                              \n",
      "age,thickness_sum,gcs_preop,midlineshift,membranes,steroid,bilateral,antiplate\n",
      "                                                                              \n",
      "\n",
      "                           \n",
      "let,inr,epilepsy,platelet))\n",
      "                           \n",
      "Estimand assumption 1, Unconfoundedness: If U→{drain} and U→recurrence then P(recurrence|drain,stroke,copd,metalvalve,ihd,arrhythmia,density,age,thickness_sum,gcs_preop,midlineshift,membranes,steroid,bilateral,antiplatelet,inr,epilepsy,platelet,U) = P(recurrence|drain,stroke,copd,metalvalve,ihd,arrhythmia,density,age,thickness_sum,gcs_preop,midlineshift,membranes,steroid,bilateral,antiplatelet,inr,epilepsy,platelet)\n",
      "\n",
      "## Realized estimand\n",
      "b: recurrence~drain+stroke+copd+metalvalve+ihd+arrhythmia+density+age+thickness_sum+gcs_preop+midlineshift+membranes+steroid+bilateral+antiplatelet+inr+epilepsy+platelet+drain*metalvalve+drain*ihd+drain*gcs_preop\n",
      "Target units: ate\n",
      "\n",
      "## Estimate\n",
      "Mean value: -0.11644725221958697\n",
      "p-value: [0.46094776]\n",
      "95.0% confidence interval: [[-0.57638211  0.26153774]]\n",
      "### Conditional Estimates\n",
      "__categorical__metalvalve  __categorical__ihd  __categorical__gcs_preop\n",
      "(-0.001, 1.0]              (-0.001, 1.0]       (2.999, 13.0]              -0.136977\n",
      "                                               (13.0, 14.0]               -0.116125\n",
      "                                               (14.0, 15.0]               -0.104774\n",
      "dtype: float64\n"
     ]
    }
   ],
   "source": [
    "print(data_lin_est)"
   ]
  },
  {
   "cell_type": "code",
   "execution_count": 11,
   "id": "d672d91c",
   "metadata": {},
   "outputs": [
    {
     "name": "stdout",
     "output_type": "stream",
     "text": [
      "*** Causal Estimate ***\n",
      "\n",
      "## Identified estimand\n",
      "Estimand type: nonparametric-ate\n",
      "\n",
      "### Estimand : 1\n",
      "Estimand name: backdoor\n",
      "Estimand expression:\n",
      "   d                                                                          \n",
      "────────(Expectation(recurrence|stroke,metalvalve,ihd,age,thickness_sum,antipl\n",
      "d[drain]                                                                      \n",
      "\n",
      "                     \n",
      "atelet,inr,platelet))\n",
      "                     \n",
      "Estimand assumption 1, Unconfoundedness: If U→{drain} and U→recurrence then P(recurrence|drain,stroke,metalvalve,ihd,age,thickness_sum,antiplatelet,inr,platelet,U) = P(recurrence|drain,stroke,metalvalve,ihd,age,thickness_sum,antiplatelet,inr,platelet)\n",
      "\n",
      "## Realized estimand\n",
      "b: recurrence~drain+stroke+metalvalve+ihd+age+thickness_sum+antiplatelet+inr+platelet+drain*metalvalve+drain*ihd\n",
      "Target units: ate\n",
      "\n",
      "## Estimate\n",
      "Mean value: -0.10849711522588254\n",
      "p-value: [0.02185382]\n",
      "95.0% confidence interval: [[-0.1382241  -0.01085408]]\n",
      "### Conditional Estimates\n",
      "__categorical__metalvalve  __categorical__ihd\n",
      "(-0.001, 1.0]              (-0.001, 1.0]        -0.108497\n",
      "dtype: float64\n"
     ]
    }
   ],
   "source": [
    "print(sdata_lin_est)"
   ]
  },
  {
   "cell_type": "code",
   "execution_count": 12,
   "id": "f42a7735",
   "metadata": {},
   "outputs": [
    {
     "name": "stdout",
     "output_type": "stream",
     "text": [
      "-------------- Causal Estimates -------------- \n",
      "Naive causal estimate is -0.09356128931064231\n",
      "Linear regression causal estimate is -0.10562889672174289\n",
      "Percentage change from naive_est: 12.898%\n",
      "----------------------------------------------\n"
     ]
    }
   ],
   "source": [
    "# mp model\n",
    "dwh.print_estimate_comparison(naive_est, mp_lin_est, 'Linear regression')"
   ]
  },
  {
   "cell_type": "code",
   "execution_count": 13,
   "id": "346e4d29",
   "metadata": {},
   "outputs": [
    {
     "name": "stdout",
     "output_type": "stream",
     "text": [
      "-------------- Causal Estimates -------------- \n",
      "Naive causal estimate is -0.09356128931064231\n",
      "Linear regression causal estimate is -0.10849711522588254\n",
      "Percentage change from naive_est: 15.964%\n",
      "----------------------------------------------\n"
     ]
    }
   ],
   "source": [
    "# small data model\n",
    "dwh.print_estimate_comparison(naive_est, sdata_lin_est, 'Linear regression')"
   ]
  },
  {
   "cell_type": "code",
   "execution_count": 14,
   "id": "d7648c88",
   "metadata": {},
   "outputs": [
    {
     "name": "stdout",
     "output_type": "stream",
     "text": [
      "-------------- Causal Estimates -------------- \n",
      "Naive causal estimate is -0.09356128931064231\n",
      "Linear regression causal estimate is -0.11644725221958697\n",
      "Percentage change from naive_est: 24.461%\n",
      "----------------------------------------------\n"
     ]
    }
   ],
   "source": [
    "# data model\n",
    "dwh.print_estimate_comparison(naive_est, data_lin_est, 'Linear regression')"
   ]
  },
  {
   "cell_type": "markdown",
   "id": "0063b25f",
   "metadata": {},
   "source": [
    "---\n",
    "## IV. Refute the obtained estimate"
   ]
  },
  {
   "cell_type": "markdown",
   "id": "b4b1e23d",
   "metadata": {},
   "source": [
    "1. **Add Random Common Cause:** Does the estimation method change its estimate after we add an independent random variable as a common cause to the dataset? (Hint: It should not)"
   ]
  },
  {
   "cell_type": "code",
   "execution_count": 15,
   "id": "438af8e5",
   "metadata": {},
   "outputs": [],
   "source": [
    "# Robust if: estimate stays the same\n",
    "lin_ran_refuter = mp_model.refute_estimate(mp_estimand, mp_lin_est, \n",
    "                                           method_name=\"random_common_cause\", num_simulations=100)"
   ]
  },
  {
   "cell_type": "code",
   "execution_count": 16,
   "id": "f7dee197",
   "metadata": {},
   "outputs": [],
   "source": [
    "lin_ran_refuter_sdata = small_data_model.refute_estimate(small_data_estimand, sdata_lin_est, \n",
    "                                                   method_name=\"random_common_cause\", num_simulations=100)"
   ]
  },
  {
   "cell_type": "code",
   "execution_count": 17,
   "id": "47ac6bb0",
   "metadata": {},
   "outputs": [],
   "source": [
    "lin_ran_refuter_data = data_model.refute_estimate(data_estimand, data_lin_est, \n",
    "                                                  method_name=\"random_common_cause\", num_simulations=100)"
   ]
  },
  {
   "cell_type": "code",
   "execution_count": 18,
   "id": "db1a467e",
   "metadata": {},
   "outputs": [
    {
     "name": "stdout",
     "output_type": "stream",
     "text": [
      "Refute: Add a Random Common Cause\n",
      "Estimated effect:-0.10562889672174289\n",
      "New effect:-0.1056008987182192\n",
      "\n",
      "Refute: Add a Random Common Cause\n",
      "Estimated effect:-0.10849711522588254\n",
      "New effect:-0.10836270530313029\n",
      "\n",
      "Refute: Add a Random Common Cause\n",
      "Estimated effect:-0.11644725221958697\n",
      "New effect:-0.11641598586494792\n",
      "\n"
     ]
    }
   ],
   "source": [
    "print(lin_ran_refuter)\n",
    "print(lin_ran_refuter_sdata)\n",
    "print(lin_ran_refuter_data)"
   ]
  },
  {
   "cell_type": "markdown",
   "id": "db7939b5",
   "metadata": {},
   "source": [
    "2. **Placebo Treatment:** What happens to the estimated causal effect when we replace the true treatment variable with an independent random variable? (Hint: the effect should go to zero)\n",
    "\n",
    "\n",
    "\n",
    "* Note that the placebo type is 'permute' meaning the rows of the treatment variable have been randomly permuted giving the effect of a placebo treatment.\n"
   ]
  },
  {
   "cell_type": "code",
   "execution_count": 19,
   "id": "ebdb1f7e",
   "metadata": {},
   "outputs": [],
   "source": [
    "# Robust if: estimate goes to 0\n",
    "lin_placebo_refuter = mp_model.refute_estimate(mp_estimand, mp_lin_est, \n",
    "                                               method_name=\"placebo_treatment_refuter\",\n",
    "                                               num_simulations=100,\n",
    "                                               placebo_type='permute')\n",
    "\n",
    "lin_placebo_refuter_data = data_model.refute_estimate(data_estimand, data_lin_est, \n",
    "                                                      method_name=\"placebo_treatment_refuter\",\n",
    "                                                      num_simulations=100, \n",
    "                                                      placebo_type='permute')\n",
    "\n",
    "lin_placebo_refuter_sdata = small_data_model.refute_estimate(small_data_estimand, sdata_lin_est, \n",
    "                                                      method_name=\"placebo_treatment_refuter\",\n",
    "                                                      num_simulations=100, \n",
    "                                                      placebo_type='permute')"
   ]
  },
  {
   "cell_type": "code",
   "execution_count": 20,
   "id": "92b55c02",
   "metadata": {},
   "outputs": [
    {
     "name": "stdout",
     "output_type": "stream",
     "text": [
      "Refute: Use a Placebo Treatment\n",
      "Estimated effect:-0.10562889672174289\n",
      "New effect:0.002344423814979249\n",
      "p value:0.46\n",
      "\n",
      "Refute: Use a Placebo Treatment\n",
      "Estimated effect:-0.11644725221958697\n",
      "New effect:0.001397735819531792\n",
      "p value:0.46\n",
      "\n",
      "Refute: Use a Placebo Treatment\n",
      "Estimated effect:-0.10849711522588254\n",
      "New effect:0.006249588469263544\n",
      "p value:0.42\n",
      "\n"
     ]
    }
   ],
   "source": [
    "print(lin_placebo_refuter)\n",
    "print(lin_placebo_refuter_data)\n",
    "print(lin_placebo_refuter_sdata)"
   ]
  },
  {
   "cell_type": "markdown",
   "id": "ad88f640",
   "metadata": {},
   "source": [
    "3. **Dummy Outcome:** What happens to the estimated causal effect when we replace the true outcome variable with an independent random variable? (Hint: The effect should go to zero)\n",
    "\n",
    "\n",
    "\n",
    "* The result shows that when using a dummy outcome, the **treatment does not lead to the outcome**. The estimated effect is hence a value that tends to zero, which matches our expectation. This shows that if we replace the outcome by randomly generated data, the **estimator correctly predicts that the influence if treatment is zero**.\n"
   ]
  },
  {
   "cell_type": "code",
   "execution_count": 21,
   "id": "81ad6cae",
   "metadata": {},
   "outputs": [],
   "source": [
    "# Robust if: estimate goes to 0\n",
    "lin_dummy_refuter = mp_model.refute_estimate(mp_estimand, mp_lin_est, \n",
    "                                             method_name=\"dummy_outcome_refuter\", num_simulations=100)\n",
    "lin_dummy_refuter_data = data_model.refute_estimate(data_estimand, data_lin_est,\n",
    "                                                    method_name=\"dummy_outcome_refuter\", num_simulations=100)\n",
    "\n",
    "lin_dummy_refuter_sdata = small_data_model.refute_estimate(small_data_estimand, sdata_lin_est,\n",
    "                                                    method_name=\"dummy_outcome_refuter\", num_simulations=100)\n"
   ]
  },
  {
   "cell_type": "code",
   "execution_count": 22,
   "id": "51b0ef41",
   "metadata": {},
   "outputs": [
    {
     "name": "stdout",
     "output_type": "stream",
     "text": [
      "Refute: Use a Dummy Outcome\n",
      "Estimated effect:0\n",
      "New effect:0.005815632601813575\n",
      "p value:0.49\n",
      "\n",
      "Refute: Use a Dummy Outcome\n",
      "Estimated effect:0\n",
      "New effect:-0.000552526400791476\n",
      "p value:0.49\n",
      "\n",
      "Refute: Use a Dummy Outcome\n",
      "Estimated effect:0\n",
      "New effect:0.01235327727550577\n",
      "p value:0.44\n",
      "\n"
     ]
    }
   ],
   "source": [
    "print(lin_dummy_refuter[0])\n",
    "print(lin_dummy_refuter_data[0])\n",
    "print(lin_dummy_refuter_sdata[0])\n"
   ]
  },
  {
   "cell_type": "markdown",
   "id": "3c341cad",
   "metadata": {},
   "source": [
    "4. **Data Subsets Validation:** Does the estimated effect change significantly when we replace the given dataset with a randomly selected subset? (Hint: It should not)"
   ]
  },
  {
   "cell_type": "code",
   "execution_count": 23,
   "id": "d1ac1709",
   "metadata": {},
   "outputs": [],
   "source": [
    "# Robust if: estimate stays the same\n",
    "lin_subset_refuter = mp_model.refute_estimate(mp_estimand, mp_lin_est, \n",
    "                                              method_name=\"data_subset_refuter\",\n",
    "                                              num_simulations=100,\n",
    "                                              subset_fraction=0.75)\n",
    "lin_subset_refuter_data = data_model.refute_estimate(data_estimand, data_lin_est, \n",
    "                                                     method_name=\"data_subset_refuter\",\n",
    "                                                     num_simulations=100,\n",
    "                                                     subset_fraction=0.75)\n",
    "lin_subset_refuter_sdata = small_data_model.refute_estimate(small_data_estimand, sdata_lin_est, \n",
    "                                                     method_name=\"data_subset_refuter\",\n",
    "                                                     num_simulations=100,\n",
    "                                                     subset_fraction=0.75)"
   ]
  },
  {
   "cell_type": "code",
   "execution_count": 24,
   "id": "c4f45657",
   "metadata": {},
   "outputs": [
    {
     "name": "stdout",
     "output_type": "stream",
     "text": [
      "Refute: Use a subset of data\n",
      "Estimated effect:-0.10562889672174289\n",
      "New effect:-0.10407027209593422\n",
      "p value:0.5\n",
      "\n",
      "Refute: Use a subset of data\n",
      "Estimated effect:-0.11644725221958697\n",
      "New effect:-0.11443778374233356\n",
      "p value:0.48\n",
      "\n",
      "Refute: Use a subset of data\n",
      "Estimated effect:-0.10849711522588254\n",
      "New effect:-0.11161098036853906\n",
      "p value:0.43000000000000005\n",
      "\n"
     ]
    }
   ],
   "source": [
    "print(lin_subset_refuter)\n",
    "print(lin_subset_refuter_data)\n",
    "print(lin_subset_refuter_sdata)"
   ]
  },
  {
   "cell_type": "markdown",
   "id": "c004fb2a",
   "metadata": {},
   "source": [
    "5. **Bootstrap Validation:** Does the estimated effect change significantly when we replace the given dataset with bootstrapped samples from the same dataset? (Hint: It should not)"
   ]
  },
  {
   "cell_type": "code",
   "execution_count": 25,
   "id": "80b86708",
   "metadata": {},
   "outputs": [],
   "source": [
    "# Robust if: estimate stays the same\n",
    "lin_bootstrap_refuter = mp_model.refute_estimate(mp_estimand, mp_lin_est, \n",
    "                                                 method_name=\"bootstrap_refuter\",\n",
    "                                                 num_simulations=100)\n",
    "\n",
    "lin_bootstrap_refuter_data = data_model.refute_estimate(data_estimand, data_lin_est, \n",
    "                                                        method_name=\"bootstrap_refuter\", \n",
    "                                                        num_simulations=100)\n",
    "\n",
    "lin_bootstrap_refuter_sdata = small_data_model.refute_estimate(small_data_estimand, sdata_lin_est, \n",
    "                                                               method_name=\"bootstrap_refuter\", \n",
    "                                                               num_simulations=100)"
   ]
  },
  {
   "cell_type": "code",
   "execution_count": 26,
   "id": "126ae0fc",
   "metadata": {},
   "outputs": [
    {
     "name": "stdout",
     "output_type": "stream",
     "text": [
      "Refute: Bootstrap Sample Dataset\n",
      "Estimated effect:-0.10562889672174289\n",
      "New effect:-0.10862700101742111\n",
      "p value:0.43000000000000005\n",
      "\n",
      "Refute: Bootstrap Sample Dataset\n",
      "Estimated effect:-0.11644725221958697\n",
      "New effect:-0.11804156669277666\n",
      "p value:0.47\n",
      "\n",
      "Refute: Bootstrap Sample Dataset\n",
      "Estimated effect:-0.10849711522588254\n",
      "New effect:-0.10354211852580336\n",
      "p value:0.48\n",
      "\n"
     ]
    }
   ],
   "source": [
    "print(lin_bootstrap_refuter)\n",
    "print(lin_bootstrap_refuter_data)\n",
    "print(lin_bootstrap_refuter_sdata)"
   ]
  },
  {
   "cell_type": "markdown",
   "id": "e016c79a",
   "metadata": {},
   "source": [
    "---\n",
    "## III. Generalized linear model (GLM) estimator\n"
   ]
  },
  {
   "cell_type": "code",
   "execution_count": 27,
   "id": "97a0b12b",
   "metadata": {},
   "outputs": [],
   "source": [
    "mp_glm_est = dwh.bin_glm_estimator(mp_model, mp_estimand, ci=True, test_significance=True)"
   ]
  },
  {
   "cell_type": "code",
   "execution_count": 28,
   "id": "8bf8cf5e",
   "metadata": {},
   "outputs": [],
   "source": [
    "data_glm_est = dwh.bin_glm_estimator(data_model, data_estimand, ci=True, test_significance=True)"
   ]
  },
  {
   "cell_type": "code",
   "execution_count": 29,
   "id": "7209d41a",
   "metadata": {},
   "outputs": [],
   "source": [
    "sdata_glm_est = dwh.bin_glm_estimator(small_data_model, small_data_estimand, ci=True, test_significance=True)"
   ]
  },
  {
   "cell_type": "code",
   "execution_count": 30,
   "id": "c0d79ae5",
   "metadata": {},
   "outputs": [
    {
     "name": "stdout",
     "output_type": "stream",
     "text": [
      "*** Causal Estimate ***\n",
      "\n",
      "## Identified estimand\n",
      "Estimand type: nonparametric-ate\n",
      "\n",
      "### Estimand : 1\n",
      "Estimand name: backdoor\n",
      "Estimand expression:\n",
      "   d                                                                          \n",
      "────────(Expectation(recurrence|adm_mrs,antiplatelet,thickness_sum,gcs_preop,a\n",
      "d[drain]                                                                      \n",
      "\n",
      "    \n",
      "ge))\n",
      "    \n",
      "Estimand assumption 1, Unconfoundedness: If U→{drain} and U→recurrence then P(recurrence|drain,adm_mrs,antiplatelet,thickness_sum,gcs_preop,age,U) = P(recurrence|drain,adm_mrs,antiplatelet,thickness_sum,gcs_preop,age)\n",
      "\n",
      "## Realized estimand\n",
      "b: recurrence~Sigmoid(drain+adm_mrs+antiplatelet+thickness_sum+gcs_preop+age+drain*antiplatelet)\n",
      "Target units: ate\n",
      "\n",
      "## Estimate\n",
      "Mean value: -0.11124053164452692\n",
      "p-value: 0.001\n",
      "95.0% confidence interval: (-0.17709121745955153, -0.04962475857866627)\n",
      "### Conditional Estimates\n",
      "__categorical__antiplatelet\n",
      "(-0.001, 1.0]   -0.111241\n",
      "dtype: float64\n"
     ]
    }
   ],
   "source": [
    "print(mp_glm_est)"
   ]
  },
  {
   "cell_type": "code",
   "execution_count": 31,
   "id": "992c68b9",
   "metadata": {},
   "outputs": [
    {
     "name": "stdout",
     "output_type": "stream",
     "text": [
      "*** Causal Estimate ***\n",
      "\n",
      "## Identified estimand\n",
      "Estimand type: nonparametric-ate\n",
      "\n",
      "### Estimand : 1\n",
      "Estimand name: backdoor\n",
      "Estimand expression:\n",
      "   d                                                                          \n",
      "────────(Expectation(recurrence|stroke,copd,metalvalve,ihd,arrhythmia,density,\n",
      "d[drain]                                                                      \n",
      "\n",
      "                                                                              \n",
      "age,thickness_sum,gcs_preop,midlineshift,membranes,steroid,bilateral,antiplate\n",
      "                                                                              \n",
      "\n",
      "                           \n",
      "let,inr,epilepsy,platelet))\n",
      "                           \n",
      "Estimand assumption 1, Unconfoundedness: If U→{drain} and U→recurrence then P(recurrence|drain,stroke,copd,metalvalve,ihd,arrhythmia,density,age,thickness_sum,gcs_preop,midlineshift,membranes,steroid,bilateral,antiplatelet,inr,epilepsy,platelet,U) = P(recurrence|drain,stroke,copd,metalvalve,ihd,arrhythmia,density,age,thickness_sum,gcs_preop,midlineshift,membranes,steroid,bilateral,antiplatelet,inr,epilepsy,platelet)\n",
      "\n",
      "## Realized estimand\n",
      "b: recurrence~Sigmoid(drain+stroke+copd+metalvalve+ihd+arrhythmia+density+age+thickness_sum+gcs_preop+midlineshift+membranes+steroid+bilateral+antiplatelet+inr+epilepsy+platelet+drain*metalvalve+drain*ihd+drain*gcs_preop)\n",
      "Target units: ate\n",
      "\n",
      "## Estimate\n",
      "Mean value: -0.12644876282215428\n",
      "p-value: [0, 0.001]\n",
      "95.0% confidence interval: (-0.1895050070097677, -0.06610430202553774)\n",
      "### Conditional Estimates\n",
      "__categorical__metalvalve  __categorical__ihd  __categorical__gcs_preop\n",
      "(-0.001, 1.0]              (-0.001, 1.0]       (2.999, 13.0]              -0.172653\n",
      "                                               (13.0, 14.0]               -0.125068\n",
      "                                               (14.0, 15.0]               -0.100746\n",
      "dtype: float64\n"
     ]
    }
   ],
   "source": [
    "print(data_glm_est)"
   ]
  },
  {
   "cell_type": "code",
   "execution_count": 32,
   "id": "e60822dd",
   "metadata": {},
   "outputs": [
    {
     "name": "stdout",
     "output_type": "stream",
     "text": [
      "*** Causal Estimate ***\n",
      "\n",
      "## Identified estimand\n",
      "Estimand type: nonparametric-ate\n",
      "\n",
      "### Estimand : 1\n",
      "Estimand name: backdoor\n",
      "Estimand expression:\n",
      "   d                                                                          \n",
      "────────(Expectation(recurrence|stroke,metalvalve,ihd,age,thickness_sum,antipl\n",
      "d[drain]                                                                      \n",
      "\n",
      "                     \n",
      "atelet,inr,platelet))\n",
      "                     \n",
      "Estimand assumption 1, Unconfoundedness: If U→{drain} and U→recurrence then P(recurrence|drain,stroke,metalvalve,ihd,age,thickness_sum,antiplatelet,inr,platelet,U) = P(recurrence|drain,stroke,metalvalve,ihd,age,thickness_sum,antiplatelet,inr,platelet)\n",
      "\n",
      "## Realized estimand\n",
      "b: recurrence~Sigmoid(drain+stroke+metalvalve+ihd+age+thickness_sum+antiplatelet+inr+platelet+drain*metalvalve+drain*ihd)\n",
      "Target units: ate\n",
      "\n",
      "## Estimate\n",
      "Mean value: -0.11013202824956451\n",
      "p-value: 0.001\n",
      "95.0% confidence interval: (-0.17409913162742818, -0.055125669534329666)\n",
      "### Conditional Estimates\n",
      "__categorical__metalvalve  __categorical__ihd\n",
      "(-0.001, 1.0]              (-0.001, 1.0]        -0.110132\n",
      "dtype: float64\n"
     ]
    }
   ],
   "source": [
    "print(sdata_glm_est)"
   ]
  },
  {
   "cell_type": "markdown",
   "id": "86a5d497",
   "metadata": {},
   "source": [
    "---\n",
    "## IV. Refute the obtained estimate"
   ]
  },
  {
   "cell_type": "markdown",
   "id": "820e52fe",
   "metadata": {},
   "source": [
    "1. **Add Random Common Cause:** Does the estimation method change its estimate after we add an independent random variable as a common cause to the dataset? (Hint: It should not)"
   ]
  },
  {
   "cell_type": "code",
   "execution_count": 33,
   "id": "84f3e04e",
   "metadata": {},
   "outputs": [],
   "source": [
    "# Robust if: estimate stays the same\n",
    "glm_ran_refuter = mp_model.refute_estimate(mp_estimand, mp_glm_est, method_name=\"random_common_cause\", num_simulations=100)"
   ]
  },
  {
   "cell_type": "code",
   "execution_count": 34,
   "id": "c198b7f9",
   "metadata": {},
   "outputs": [],
   "source": [
    "glm_ran_refuter_sdata = small_data_model.refute_estimate(small_data_estimand, data_glm_est, method_name=\"random_common_cause\", num_simulations=100)"
   ]
  },
  {
   "cell_type": "code",
   "execution_count": 35,
   "id": "1419cda2",
   "metadata": {},
   "outputs": [],
   "source": [
    "glm_ran_refuter_data = data_model.refute_estimate(data_estimand, data_glm_est, method_name=\"random_common_cause\", num_simulations=100)"
   ]
  },
  {
   "cell_type": "code",
   "execution_count": 36,
   "id": "9c43b3a1",
   "metadata": {},
   "outputs": [
    {
     "name": "stdout",
     "output_type": "stream",
     "text": [
      "Refute: Add a Random Common Cause\n",
      "Estimated effect:-0.11124053164452692\n",
      "New effect:-0.1112249331809919\n",
      "\n",
      "Refute: Add a Random Common Cause\n",
      "Estimated effect:-0.12644876282215428\n",
      "New effect:-0.1105639330369819\n",
      "\n",
      "Refute: Add a Random Common Cause\n",
      "Estimated effect:-0.12644876282215428\n",
      "New effect:-0.126378459545605\n",
      "\n"
     ]
    }
   ],
   "source": [
    "print(glm_ran_refuter)\n",
    "print(glm_ran_refuter_sdata)\n",
    "print(glm_ran_refuter_data)"
   ]
  },
  {
   "cell_type": "markdown",
   "id": "d255977d",
   "metadata": {},
   "source": [
    "2. **Placebo Treatment:** What happens to the estimated causal effect when we replace the true treatment variable with an independent random variable? (Hint: the effect should go to zero)\n",
    "\n",
    "\n",
    "\n",
    "* Note that the placebo type is 'permute' meaning the rows of the treatment variable have been randomly permuted giving the effect of a placebo treatment.\n"
   ]
  },
  {
   "cell_type": "code",
   "execution_count": 37,
   "id": "f6e5af14",
   "metadata": {},
   "outputs": [],
   "source": [
    "# Robust if: estimate goes to 0\n",
    "glm_placebo_refuter = mp_model.refute_estimate(mp_estimand, \n",
    "                                               mp_glm_est,\n",
    "                                               method_name=\"placebo_treatment_refuter\",\n",
    "                                               num_simulations=100,\n",
    "                                               placebo_type='permute')\n"
   ]
  },
  {
   "cell_type": "code",
   "execution_count": 38,
   "id": "9ce38d58",
   "metadata": {},
   "outputs": [],
   "source": [
    "glm_placebo_refuter_sdata = small_data_model.refute_estimate(small_data_estimand, \n",
    "                                                             sdata_glm_est, \n",
    "                                                             method_name=\"placebo_treatment_refuter\",\n",
    "                                                             num_simulations=100,\n",
    "                                                             placebo_type='permute')"
   ]
  },
  {
   "cell_type": "code",
   "execution_count": 39,
   "id": "0c6e6e4d",
   "metadata": {},
   "outputs": [],
   "source": [
    "glm_placebo_refuter_data = data_model.refute_estimate(data_estimand, \n",
    "                                                      data_glm_est,\n",
    "                                                      method_name=\"placebo_treatment_refuter\",\n",
    "                                                      num_simulations=100,\n",
    "                                                      placebo_type='permute')"
   ]
  },
  {
   "cell_type": "code",
   "execution_count": 40,
   "id": "ac52dda1",
   "metadata": {},
   "outputs": [
    {
     "name": "stdout",
     "output_type": "stream",
     "text": [
      "Refute: Use a Placebo Treatment\n",
      "Estimated effect:-0.11124053164452692\n",
      "New effect:-0.002180255889713432\n",
      "p value:0.5\n",
      "\n",
      "Refute: Use a Placebo Treatment\n",
      "Estimated effect:-0.11013202824956451\n",
      "New effect:-0.005162009462057709\n",
      "p value:0.43000000000000005\n",
      "\n",
      "Refute: Use a Placebo Treatment\n",
      "Estimated effect:-0.12644876282215428\n",
      "New effect:-0.0037192184626327913\n",
      "p value:0.43999999999999995\n",
      "\n"
     ]
    }
   ],
   "source": [
    "print(glm_placebo_refuter)\n",
    "print(glm_placebo_refuter_sdata)\n",
    "print(glm_placebo_refuter_data)"
   ]
  },
  {
   "cell_type": "markdown",
   "id": "5f2c1f2f",
   "metadata": {},
   "source": [
    "3. **Dummy Outcome:** What happens to the estimated causal effect when we replace the true outcome variable with an independent random variable? (Hint: The effect should go to zero)\n",
    "\n",
    "\n",
    "\n",
    "* The result shows that when using a dummy outcome, the **treatment does not lead to the outcome**. The estimated effect is hence a value that tends to zero, which matches our expectation. This shows that if we replace the outcome by randomly generated data, the **estimator correctly predicts that the influence if treatment is zero**."
   ]
  },
  {
   "cell_type": "code",
   "execution_count": 41,
   "id": "374a216c",
   "metadata": {},
   "outputs": [],
   "source": [
    "# Robust if: estimate goes to 0\n",
    "glm_dummy_refuter = mp_model.refute_estimate(mp_estimand, mp_glm_est,\n",
    "                                             method_name=\"dummy_outcome_refuter\", \n",
    "                                             num_simulations=100)"
   ]
  },
  {
   "cell_type": "code",
   "execution_count": 42,
   "id": "6c692456",
   "metadata": {},
   "outputs": [],
   "source": [
    "glm_dummy_refuter_sdata = small_data_model.refute_estimate(small_data_estimand, \n",
    "                                                           sdata_glm_est, \n",
    "                                                           method_name=\"dummy_outcome_refuter\",\n",
    "                                                           num_simulations=100)"
   ]
  },
  {
   "cell_type": "code",
   "execution_count": 43,
   "id": "f304c739",
   "metadata": {},
   "outputs": [],
   "source": [
    "glm_dummy_refuter_data = data_model.refute_estimate(data_estimand, \n",
    "                                                    data_glm_est, \n",
    "                                                    method_name=\"dummy_outcome_refuter\",\n",
    "                                                    num_simulations=100)"
   ]
  },
  {
   "cell_type": "code",
   "execution_count": 44,
   "id": "f6282cf2",
   "metadata": {},
   "outputs": [
    {
     "name": "stdout",
     "output_type": "stream",
     "text": [
      "Refute: Use a Dummy Outcome\n",
      "Estimated effect:0\n",
      "New effect:-0.011659305461246345\n",
      "p value:0.79\n",
      "\n",
      "Refute: Use a Dummy Outcome\n",
      "Estimated effect:0\n",
      "New effect:-0.03363632374044335\n",
      "p value:0.41000000000000003\n",
      "\n",
      "Refute: Use a Dummy Outcome\n",
      "Estimated effect:0\n",
      "New effect:-0.03196021541457305\n",
      "p value:0.37\n",
      "\n"
     ]
    }
   ],
   "source": [
    "print(glm_dummy_refuter[0])\n",
    "print(glm_dummy_refuter_sdata[0])\n",
    "print(glm_dummy_refuter_data[0])"
   ]
  },
  {
   "cell_type": "markdown",
   "id": "9814c142",
   "metadata": {},
   "source": [
    "4. **Data Subsets Validation:** Does the estimated effect change significantly when we replace the given dataset with a randomly selected subset? (Hint: It should not)"
   ]
  },
  {
   "cell_type": "code",
   "execution_count": 45,
   "id": "2d87a77c",
   "metadata": {},
   "outputs": [],
   "source": [
    "# Robust if: estimate stays the same\n",
    "glm_subset_refuter = mp_model.refute_estimate(mp_estimand, mp_glm_est, method_name=\"data_subset_refuter\", \n",
    "                                              subset_fraction=0.5, num_simulations=100)"
   ]
  },
  {
   "cell_type": "code",
   "execution_count": 46,
   "id": "8a52bbbd",
   "metadata": {},
   "outputs": [],
   "source": [
    "glm_subset_refuter_sdata = small_data_model.refute_estimate(small_data_estimand, sdata_glm_est, \n",
    "                                                            method_name=\"data_subset_refuter\", \n",
    "                                                            subset_fraction=0.5, num_simulations=100)"
   ]
  },
  {
   "cell_type": "code",
   "execution_count": 47,
   "id": "1265e308",
   "metadata": {},
   "outputs": [],
   "source": [
    "glm_subset_refuter_data = data_model.refute_estimate(data_estimand, data_glm_est, \n",
    "                                                     method_name=\"data_subset_refuter\", \n",
    "                                                     subset_fraction=0.5, num_simulations=100)"
   ]
  },
  {
   "cell_type": "code",
   "execution_count": 48,
   "id": "9b16f9c3",
   "metadata": {},
   "outputs": [
    {
     "name": "stdout",
     "output_type": "stream",
     "text": [
      "Refute: Use a subset of data\n",
      "Estimated effect:-0.11124053164452692\n",
      "New effect:-0.11868922982424542\n",
      "p value:0.33999999999999997\n",
      "\n",
      "Refute: Use a subset of data\n",
      "Estimated effect:-0.11013202824956451\n",
      "New effect:-0.10806258949922143\n",
      "p value:0.48\n",
      "\n",
      "Refute: Use a subset of data\n",
      "Estimated effect:-0.12644876282215428\n",
      "New effect:-0.1263662096478575\n",
      "p value:0.5\n",
      "\n"
     ]
    }
   ],
   "source": [
    "print(glm_subset_refuter)\n",
    "print(glm_subset_refuter_sdata)\n",
    "print(glm_subset_refuter_data)"
   ]
  },
  {
   "cell_type": "markdown",
   "id": "35ac2a3f",
   "metadata": {},
   "source": [
    "5. **Bootstrap Validation:** Does the estimated effect change significantly when we replace the given dataset with bootstrapped samples from the same dataset? (Hint: It should not)"
   ]
  },
  {
   "cell_type": "code",
   "execution_count": 49,
   "id": "1432d772",
   "metadata": {},
   "outputs": [],
   "source": [
    "# Robust if: estimate stays the same\n",
    "glm_bootstrap_refuter = mp_model.refute_estimate(mp_estimand, mp_glm_est, method_name=\"bootstrap_refuter\", \n",
    "                                                 num_simulations=100)"
   ]
  },
  {
   "cell_type": "code",
   "execution_count": 50,
   "id": "ef07c43b",
   "metadata": {},
   "outputs": [],
   "source": [
    "glm_bootstrap_refuter_sdata = small_data_model.refute_estimate(small_data_estimand, sdata_glm_est, \n",
    "                                                               method_name=\"bootstrap_refuter\", \n",
    "                                                               num_simulations=100)"
   ]
  },
  {
   "cell_type": "code",
   "execution_count": 51,
   "id": "973843df",
   "metadata": {},
   "outputs": [],
   "source": [
    "glm_bootstrap_refuter_data = data_model.refute_estimate(data_estimand, data_glm_est, \n",
    "                                                        method_name=\"bootstrap_refuter\", \n",
    "                                                        num_simulations=100)"
   ]
  },
  {
   "cell_type": "code",
   "execution_count": 52,
   "id": "95460178",
   "metadata": {},
   "outputs": [
    {
     "name": "stdout",
     "output_type": "stream",
     "text": [
      "Refute: Bootstrap Sample Dataset\n",
      "Estimated effect:-0.11124053164452692\n",
      "New effect:-0.1130727450241573\n",
      "p value:0.48\n",
      "\n",
      "Refute: Bootstrap Sample Dataset\n",
      "Estimated effect:-0.11013202824956451\n",
      "New effect:-0.10681541709983824\n",
      "p value:0.49\n",
      "\n",
      "Refute: Bootstrap Sample Dataset\n",
      "Estimated effect:-0.12644876282215428\n",
      "New effect:-0.12228308267851278\n",
      "p value:0.45\n",
      "\n"
     ]
    }
   ],
   "source": [
    "print(glm_bootstrap_refuter)\n",
    "print(glm_bootstrap_refuter_sdata)\n",
    "print(glm_bootstrap_refuter_data)"
   ]
  }
 ],
 "metadata": {
  "kernelspec": {
   "display_name": "Python 3.8.5 64-bit",
   "language": "python",
   "name": "python38564bitaabf1376f1374bd8b636ac321c937df8"
  },
  "language_info": {
   "codemirror_mode": {
    "name": "ipython",
    "version": 3
   },
   "file_extension": ".py",
   "mimetype": "text/x-python",
   "name": "python",
   "nbconvert_exporter": "python",
   "pygments_lexer": "ipython3",
   "version": "3.9.2"
  }
 },
 "nbformat": 4,
 "nbformat_minor": 5
}
