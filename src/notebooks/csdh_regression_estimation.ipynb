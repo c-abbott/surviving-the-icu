{
 "cells": [
  {
   "cell_type": "markdown",
   "id": "c07a2a06",
   "metadata": {},
   "source": [
    "# Linear Regression and GLM Estimation Methods\n",
    "---\n",
    "## The four steps of causal inference\n",
    "\n",
    "### I. Model a causal problem\n",
    "- Create a causal DAG for your system of interest.\n",
    "\n",
    "### II. Identify a target estimand under the model\n",
    "- Identify the causal estimand under the assumptions of the causal DAG.\n",
    "\n",
    "### III. Estimate the causal effect based on the identified estimand\n",
    "- Estimate the estimand using any kind of Stats/ML model e.g. linear regression, random forest etc.\n",
    "\n",
    "### IV. Refute the obtain estimate\n",
    "- Peform refutations on the estimate to test its robustness "
   ]
  },
  {
   "cell_type": "markdown",
   "id": "cdd46412",
   "metadata": {},
   "source": [
    "## Imports"
   ]
  },
  {
   "cell_type": "code",
   "execution_count": 2,
   "id": "05e2cf94",
   "metadata": {},
   "outputs": [],
   "source": [
    "import numpy as np\n",
    "import pandas as pd\n",
    "import patsy as ps\n",
    "import statsmodels\n",
    "import dowhy\n",
    "from dowhy import CausalModel\n",
    "import econml\n",
    "from IPython.display import Image, display\n",
    "from pathlib import Path\n",
    "import os\n",
    "import sys\n",
    "import pygraphviz\n",
    "\n",
    "random_state = 42\n",
    "# Avoid printing dataconversion warnings from sklearn\n",
    "# Config dict to set the logging level\n",
    "import logging.config\n",
    "import warnings\n",
    "warnings.filterwarnings('ignore')\n",
    "DEFAULT_LOGGING = {\n",
    "    'version': 1,\n",
    "    'disable_existing_loggers': False,\n",
    "    'loggers': {\n",
    "        '': {\n",
    "            'level': 'WARN',\n",
    "        },\n",
    "    }\n",
    "}\n",
    "logging.config.dictConfig(DEFAULT_LOGGING)\n",
    "\n",
    "# Import custom dowhy helper functions module\n",
    "cwd = Path().resolve()\n",
    "PARENT_DIR = os.path.dirname(cwd)\n",
    "SCRIPT_DIR = os.path.join(PARENT_DIR, 'helpers')\n",
    "sys.path.append(SCRIPT_DIR)\n",
    "import dowhy_helpers as dwh"
   ]
  },
  {
   "cell_type": "code",
   "execution_count": 3,
   "id": "162a4580",
   "metadata": {},
   "outputs": [],
   "source": [
    "# I/O Stuff\n",
    "DATA_FILENAME = \"csdh_clean.csv\"\n",
    "DATA_FILEPATH = \"/Users/callum/Uni/GitHubRepos/surviving-the-icu/datasets/drain_data/\" + DATA_FILENAME\n",
    "csdh = pd.read_csv(DATA_FILEPATH)\n",
    "# Mapping bedrest to categorical variable\n",
    "csdh['bedrest'] = csdh['bedrest'].map({'None':0, '<12hrs':1, '12-24hrs':2, '25-48hrs':3, '>48hrs':4})\n",
    "# Drop NAs for DAG containing burrhole_num variable\n",
    "csdh_burr = csdh.drop(csdh[csdh['burrhole_num'].isna()].index, axis=0)"
   ]
  },
  {
   "cell_type": "markdown",
   "id": "66cb6286",
   "metadata": {},
   "source": [
    "---\n",
    "## 0. Naïve Estimation (no causal inference)"
   ]
  },
  {
   "cell_type": "code",
   "execution_count": 4,
   "id": "5c3689cc",
   "metadata": {},
   "outputs": [
    {
     "data": {
      "text/html": [
       "<div>\n",
       "<style scoped>\n",
       "    .dataframe tbody tr th:only-of-type {\n",
       "        vertical-align: middle;\n",
       "    }\n",
       "\n",
       "    .dataframe tbody tr th {\n",
       "        vertical-align: top;\n",
       "    }\n",
       "\n",
       "    .dataframe thead th {\n",
       "        text-align: right;\n",
       "    }\n",
       "</style>\n",
       "<table border=\"1\" class=\"dataframe\">\n",
       "  <thead>\n",
       "    <tr style=\"text-align: right;\">\n",
       "      <th></th>\n",
       "      <th>age</th>\n",
       "      <th>sex</th>\n",
       "      <th>hospital</th>\n",
       "      <th>diabetes</th>\n",
       "      <th>dementia</th>\n",
       "      <th>copd</th>\n",
       "      <th>stroke</th>\n",
       "      <th>ihd</th>\n",
       "      <th>arrhythmia</th>\n",
       "      <th>epilepsy</th>\n",
       "      <th>...</th>\n",
       "      <th>drain_end</th>\n",
       "      <th>drain_entry</th>\n",
       "      <th>drain_days</th>\n",
       "      <th>timetoop_corrected</th>\n",
       "      <th>bedrest</th>\n",
       "      <th>recurrence</th>\n",
       "      <th>thickness_sum</th>\n",
       "      <th>thickness_avg</th>\n",
       "      <th>thickness_max</th>\n",
       "      <th>bilateral</th>\n",
       "    </tr>\n",
       "  </thead>\n",
       "  <tbody>\n",
       "    <tr>\n",
       "      <th>1</th>\n",
       "      <td>23</td>\n",
       "      <td>1</td>\n",
       "      <td>1</td>\n",
       "      <td>0</td>\n",
       "      <td>0</td>\n",
       "      <td>0</td>\n",
       "      <td>0</td>\n",
       "      <td>0</td>\n",
       "      <td>0</td>\n",
       "      <td>0</td>\n",
       "      <td>...</td>\n",
       "      <td>1.0</td>\n",
       "      <td>1.0</td>\n",
       "      <td>2.0</td>\n",
       "      <td>15.0</td>\n",
       "      <td>0</td>\n",
       "      <td>0.0</td>\n",
       "      <td>6</td>\n",
       "      <td>6.0</td>\n",
       "      <td>6</td>\n",
       "      <td>0</td>\n",
       "    </tr>\n",
       "    <tr>\n",
       "      <th>2</th>\n",
       "      <td>23</td>\n",
       "      <td>0</td>\n",
       "      <td>26</td>\n",
       "      <td>0</td>\n",
       "      <td>0</td>\n",
       "      <td>0</td>\n",
       "      <td>0</td>\n",
       "      <td>0</td>\n",
       "      <td>0</td>\n",
       "      <td>0</td>\n",
       "      <td>...</td>\n",
       "      <td>1.0</td>\n",
       "      <td>NaN</td>\n",
       "      <td>2.0</td>\n",
       "      <td>5.0</td>\n",
       "      <td>3</td>\n",
       "      <td>0.0</td>\n",
       "      <td>22</td>\n",
       "      <td>11.0</td>\n",
       "      <td>13</td>\n",
       "      <td>1</td>\n",
       "    </tr>\n",
       "    <tr>\n",
       "      <th>5</th>\n",
       "      <td>29</td>\n",
       "      <td>1</td>\n",
       "      <td>17</td>\n",
       "      <td>0</td>\n",
       "      <td>0</td>\n",
       "      <td>0</td>\n",
       "      <td>0</td>\n",
       "      <td>0</td>\n",
       "      <td>0</td>\n",
       "      <td>0</td>\n",
       "      <td>...</td>\n",
       "      <td>2.0</td>\n",
       "      <td>NaN</td>\n",
       "      <td>2.0</td>\n",
       "      <td>1.0</td>\n",
       "      <td>2</td>\n",
       "      <td>0.0</td>\n",
       "      <td>30</td>\n",
       "      <td>30.0</td>\n",
       "      <td>30</td>\n",
       "      <td>0</td>\n",
       "    </tr>\n",
       "    <tr>\n",
       "      <th>6</th>\n",
       "      <td>32</td>\n",
       "      <td>0</td>\n",
       "      <td>9</td>\n",
       "      <td>0</td>\n",
       "      <td>0</td>\n",
       "      <td>0</td>\n",
       "      <td>0</td>\n",
       "      <td>0</td>\n",
       "      <td>0</td>\n",
       "      <td>0</td>\n",
       "      <td>...</td>\n",
       "      <td>1.0</td>\n",
       "      <td>2.0</td>\n",
       "      <td>2.0</td>\n",
       "      <td>8.0</td>\n",
       "      <td>0</td>\n",
       "      <td>1.0</td>\n",
       "      <td>10</td>\n",
       "      <td>10.0</td>\n",
       "      <td>10</td>\n",
       "      <td>0</td>\n",
       "    </tr>\n",
       "    <tr>\n",
       "      <th>8</th>\n",
       "      <td>34</td>\n",
       "      <td>0</td>\n",
       "      <td>18</td>\n",
       "      <td>0</td>\n",
       "      <td>0</td>\n",
       "      <td>0</td>\n",
       "      <td>0</td>\n",
       "      <td>0</td>\n",
       "      <td>0</td>\n",
       "      <td>0</td>\n",
       "      <td>...</td>\n",
       "      <td>2.0</td>\n",
       "      <td>2.0</td>\n",
       "      <td>1.0</td>\n",
       "      <td>0.0</td>\n",
       "      <td>2</td>\n",
       "      <td>0.0</td>\n",
       "      <td>8</td>\n",
       "      <td>8.0</td>\n",
       "      <td>8</td>\n",
       "      <td>0</td>\n",
       "    </tr>\n",
       "    <tr>\n",
       "      <th>...</th>\n",
       "      <td>...</td>\n",
       "      <td>...</td>\n",
       "      <td>...</td>\n",
       "      <td>...</td>\n",
       "      <td>...</td>\n",
       "      <td>...</td>\n",
       "      <td>...</td>\n",
       "      <td>...</td>\n",
       "      <td>...</td>\n",
       "      <td>...</td>\n",
       "      <td>...</td>\n",
       "      <td>...</td>\n",
       "      <td>...</td>\n",
       "      <td>...</td>\n",
       "      <td>...</td>\n",
       "      <td>...</td>\n",
       "      <td>...</td>\n",
       "      <td>...</td>\n",
       "      <td>...</td>\n",
       "      <td>...</td>\n",
       "      <td>...</td>\n",
       "    </tr>\n",
       "    <tr>\n",
       "      <th>740</th>\n",
       "      <td>96</td>\n",
       "      <td>0</td>\n",
       "      <td>18</td>\n",
       "      <td>0</td>\n",
       "      <td>0</td>\n",
       "      <td>0</td>\n",
       "      <td>0</td>\n",
       "      <td>0</td>\n",
       "      <td>0</td>\n",
       "      <td>0</td>\n",
       "      <td>...</td>\n",
       "      <td>2.0</td>\n",
       "      <td>2.0</td>\n",
       "      <td>2.0</td>\n",
       "      <td>1.0</td>\n",
       "      <td>2</td>\n",
       "      <td>0.0</td>\n",
       "      <td>26</td>\n",
       "      <td>26.0</td>\n",
       "      <td>26</td>\n",
       "      <td>0</td>\n",
       "    </tr>\n",
       "    <tr>\n",
       "      <th>741</th>\n",
       "      <td>96</td>\n",
       "      <td>0</td>\n",
       "      <td>3</td>\n",
       "      <td>0</td>\n",
       "      <td>1</td>\n",
       "      <td>0</td>\n",
       "      <td>0</td>\n",
       "      <td>0</td>\n",
       "      <td>0</td>\n",
       "      <td>0</td>\n",
       "      <td>...</td>\n",
       "      <td>1.0</td>\n",
       "      <td>NaN</td>\n",
       "      <td>1.0</td>\n",
       "      <td>5.0</td>\n",
       "      <td>1</td>\n",
       "      <td>0.0</td>\n",
       "      <td>18</td>\n",
       "      <td>18.0</td>\n",
       "      <td>18</td>\n",
       "      <td>0</td>\n",
       "    </tr>\n",
       "    <tr>\n",
       "      <th>742</th>\n",
       "      <td>97</td>\n",
       "      <td>1</td>\n",
       "      <td>4</td>\n",
       "      <td>0</td>\n",
       "      <td>0</td>\n",
       "      <td>0</td>\n",
       "      <td>0</td>\n",
       "      <td>0</td>\n",
       "      <td>0</td>\n",
       "      <td>0</td>\n",
       "      <td>...</td>\n",
       "      <td>1.0</td>\n",
       "      <td>NaN</td>\n",
       "      <td>1.0</td>\n",
       "      <td>1.0</td>\n",
       "      <td>2</td>\n",
       "      <td>0.0</td>\n",
       "      <td>42</td>\n",
       "      <td>21.0</td>\n",
       "      <td>28</td>\n",
       "      <td>1</td>\n",
       "    </tr>\n",
       "    <tr>\n",
       "      <th>743</th>\n",
       "      <td>98</td>\n",
       "      <td>1</td>\n",
       "      <td>18</td>\n",
       "      <td>0</td>\n",
       "      <td>0</td>\n",
       "      <td>0</td>\n",
       "      <td>0</td>\n",
       "      <td>0</td>\n",
       "      <td>0</td>\n",
       "      <td>0</td>\n",
       "      <td>...</td>\n",
       "      <td>1.0</td>\n",
       "      <td>2.0</td>\n",
       "      <td>2.0</td>\n",
       "      <td>3.0</td>\n",
       "      <td>2</td>\n",
       "      <td>0.0</td>\n",
       "      <td>30</td>\n",
       "      <td>30.0</td>\n",
       "      <td>30</td>\n",
       "      <td>0</td>\n",
       "    </tr>\n",
       "    <tr>\n",
       "      <th>744</th>\n",
       "      <td>99</td>\n",
       "      <td>1</td>\n",
       "      <td>6</td>\n",
       "      <td>0</td>\n",
       "      <td>0</td>\n",
       "      <td>0</td>\n",
       "      <td>0</td>\n",
       "      <td>0</td>\n",
       "      <td>0</td>\n",
       "      <td>0</td>\n",
       "      <td>...</td>\n",
       "      <td>1.0</td>\n",
       "      <td>1.0</td>\n",
       "      <td>2.0</td>\n",
       "      <td>2.0</td>\n",
       "      <td>0</td>\n",
       "      <td>0.0</td>\n",
       "      <td>29</td>\n",
       "      <td>29.0</td>\n",
       "      <td>29</td>\n",
       "      <td>0</td>\n",
       "    </tr>\n",
       "  </tbody>\n",
       "</table>\n",
       "<p>622 rows × 58 columns</p>\n",
       "</div>"
      ],
      "text/plain": [
       "     age  sex  hospital  diabetes  dementia  copd  stroke  ihd  arrhythmia  \\\n",
       "1     23    1         1         0         0     0       0    0           0   \n",
       "2     23    0        26         0         0     0       0    0           0   \n",
       "5     29    1        17         0         0     0       0    0           0   \n",
       "6     32    0         9         0         0     0       0    0           0   \n",
       "8     34    0        18         0         0     0       0    0           0   \n",
       "..   ...  ...       ...       ...       ...   ...     ...  ...         ...   \n",
       "740   96    0        18         0         0     0       0    0           0   \n",
       "741   96    0         3         0         1     0       0    0           0   \n",
       "742   97    1         4         0         0     0       0    0           0   \n",
       "743   98    1        18         0         0     0       0    0           0   \n",
       "744   99    1         6         0         0     0       0    0           0   \n",
       "\n",
       "     epilepsy  ...  drain_end  drain_entry  drain_days  timetoop_corrected  \\\n",
       "1           0  ...        1.0          1.0         2.0                15.0   \n",
       "2           0  ...        1.0          NaN         2.0                 5.0   \n",
       "5           0  ...        2.0          NaN         2.0                 1.0   \n",
       "6           0  ...        1.0          2.0         2.0                 8.0   \n",
       "8           0  ...        2.0          2.0         1.0                 0.0   \n",
       "..        ...  ...        ...          ...         ...                 ...   \n",
       "740         0  ...        2.0          2.0         2.0                 1.0   \n",
       "741         0  ...        1.0          NaN         1.0                 5.0   \n",
       "742         0  ...        1.0          NaN         1.0                 1.0   \n",
       "743         0  ...        1.0          2.0         2.0                 3.0   \n",
       "744         0  ...        1.0          1.0         2.0                 2.0   \n",
       "\n",
       "     bedrest  recurrence  thickness_sum  thickness_avg  thickness_max  \\\n",
       "1          0         0.0              6            6.0              6   \n",
       "2          3         0.0             22           11.0             13   \n",
       "5          2         0.0             30           30.0             30   \n",
       "6          0         1.0             10           10.0             10   \n",
       "8          2         0.0              8            8.0              8   \n",
       "..       ...         ...            ...            ...            ...   \n",
       "740        2         0.0             26           26.0             26   \n",
       "741        1         0.0             18           18.0             18   \n",
       "742        2         0.0             42           21.0             28   \n",
       "743        2         0.0             30           30.0             30   \n",
       "744        0         0.0             29           29.0             29   \n",
       "\n",
       "     bilateral  \n",
       "1            0  \n",
       "2            1  \n",
       "5            0  \n",
       "6            0  \n",
       "8            0  \n",
       "..         ...  \n",
       "740          0  \n",
       "741          0  \n",
       "742          1  \n",
       "743          0  \n",
       "744          0  \n",
       "\n",
       "[622 rows x 58 columns]"
      ]
     },
     "execution_count": 4,
     "metadata": {},
     "output_type": "execute_result"
    }
   ],
   "source": [
    "csdh[csdh['drain']==1]"
   ]
  },
  {
   "cell_type": "code",
   "execution_count": 6,
   "id": "e358f568",
   "metadata": {},
   "outputs": [
    {
     "data": {
      "text/html": [
       "<div>\n",
       "<style scoped>\n",
       "    .dataframe tbody tr th:only-of-type {\n",
       "        vertical-align: middle;\n",
       "    }\n",
       "\n",
       "    .dataframe tbody tr th {\n",
       "        vertical-align: top;\n",
       "    }\n",
       "\n",
       "    .dataframe thead th {\n",
       "        text-align: right;\n",
       "    }\n",
       "</style>\n",
       "<table border=\"1\" class=\"dataframe\">\n",
       "  <thead>\n",
       "    <tr style=\"text-align: right;\">\n",
       "      <th></th>\n",
       "      <th>age</th>\n",
       "      <th>sex</th>\n",
       "      <th>hospital</th>\n",
       "      <th>diabetes</th>\n",
       "      <th>dementia</th>\n",
       "      <th>copd</th>\n",
       "      <th>stroke</th>\n",
       "      <th>ihd</th>\n",
       "      <th>arrhythmia</th>\n",
       "      <th>epilepsy</th>\n",
       "      <th>...</th>\n",
       "      <th>drain_end</th>\n",
       "      <th>drain_entry</th>\n",
       "      <th>drain_days</th>\n",
       "      <th>timetoop_corrected</th>\n",
       "      <th>bedrest</th>\n",
       "      <th>recurrence</th>\n",
       "      <th>thickness_sum</th>\n",
       "      <th>thickness_avg</th>\n",
       "      <th>thickness_max</th>\n",
       "      <th>bilateral</th>\n",
       "    </tr>\n",
       "  </thead>\n",
       "  <tbody>\n",
       "    <tr>\n",
       "      <th>0</th>\n",
       "      <td>20</td>\n",
       "      <td>1</td>\n",
       "      <td>17</td>\n",
       "      <td>0</td>\n",
       "      <td>0</td>\n",
       "      <td>0</td>\n",
       "      <td>0</td>\n",
       "      <td>0</td>\n",
       "      <td>0</td>\n",
       "      <td>1</td>\n",
       "      <td>...</td>\n",
       "      <td>NaN</td>\n",
       "      <td>NaN</td>\n",
       "      <td>NaN</td>\n",
       "      <td>15.0</td>\n",
       "      <td>0</td>\n",
       "      <td>1.0</td>\n",
       "      <td>20</td>\n",
       "      <td>20.0</td>\n",
       "      <td>20</td>\n",
       "      <td>0</td>\n",
       "    </tr>\n",
       "    <tr>\n",
       "      <th>3</th>\n",
       "      <td>23</td>\n",
       "      <td>1</td>\n",
       "      <td>17</td>\n",
       "      <td>0</td>\n",
       "      <td>0</td>\n",
       "      <td>0</td>\n",
       "      <td>0</td>\n",
       "      <td>0</td>\n",
       "      <td>0</td>\n",
       "      <td>0</td>\n",
       "      <td>...</td>\n",
       "      <td>NaN</td>\n",
       "      <td>NaN</td>\n",
       "      <td>NaN</td>\n",
       "      <td>10.0</td>\n",
       "      <td>0</td>\n",
       "      <td>0.0</td>\n",
       "      <td>8</td>\n",
       "      <td>8.0</td>\n",
       "      <td>8</td>\n",
       "      <td>0</td>\n",
       "    </tr>\n",
       "    <tr>\n",
       "      <th>4</th>\n",
       "      <td>28</td>\n",
       "      <td>1</td>\n",
       "      <td>26</td>\n",
       "      <td>0</td>\n",
       "      <td>0</td>\n",
       "      <td>0</td>\n",
       "      <td>0</td>\n",
       "      <td>0</td>\n",
       "      <td>0</td>\n",
       "      <td>0</td>\n",
       "      <td>...</td>\n",
       "      <td>NaN</td>\n",
       "      <td>NaN</td>\n",
       "      <td>NaN</td>\n",
       "      <td>0.0</td>\n",
       "      <td>2</td>\n",
       "      <td>0.0</td>\n",
       "      <td>10</td>\n",
       "      <td>10.0</td>\n",
       "      <td>10</td>\n",
       "      <td>0</td>\n",
       "    </tr>\n",
       "    <tr>\n",
       "      <th>7</th>\n",
       "      <td>33</td>\n",
       "      <td>1</td>\n",
       "      <td>1</td>\n",
       "      <td>0</td>\n",
       "      <td>0</td>\n",
       "      <td>0</td>\n",
       "      <td>0</td>\n",
       "      <td>0</td>\n",
       "      <td>0</td>\n",
       "      <td>0</td>\n",
       "      <td>...</td>\n",
       "      <td>NaN</td>\n",
       "      <td>NaN</td>\n",
       "      <td>NaN</td>\n",
       "      <td>2.0</td>\n",
       "      <td>0</td>\n",
       "      <td>0.0</td>\n",
       "      <td>25</td>\n",
       "      <td>12.5</td>\n",
       "      <td>19</td>\n",
       "      <td>1</td>\n",
       "    </tr>\n",
       "    <tr>\n",
       "      <th>10</th>\n",
       "      <td>34</td>\n",
       "      <td>1</td>\n",
       "      <td>13</td>\n",
       "      <td>0</td>\n",
       "      <td>0</td>\n",
       "      <td>0</td>\n",
       "      <td>0</td>\n",
       "      <td>0</td>\n",
       "      <td>0</td>\n",
       "      <td>0</td>\n",
       "      <td>...</td>\n",
       "      <td>NaN</td>\n",
       "      <td>NaN</td>\n",
       "      <td>NaN</td>\n",
       "      <td>13.0</td>\n",
       "      <td>2</td>\n",
       "      <td>0.0</td>\n",
       "      <td>12</td>\n",
       "      <td>12.0</td>\n",
       "      <td>12</td>\n",
       "      <td>0</td>\n",
       "    </tr>\n",
       "    <tr>\n",
       "      <th>...</th>\n",
       "      <td>...</td>\n",
       "      <td>...</td>\n",
       "      <td>...</td>\n",
       "      <td>...</td>\n",
       "      <td>...</td>\n",
       "      <td>...</td>\n",
       "      <td>...</td>\n",
       "      <td>...</td>\n",
       "      <td>...</td>\n",
       "      <td>...</td>\n",
       "      <td>...</td>\n",
       "      <td>...</td>\n",
       "      <td>...</td>\n",
       "      <td>...</td>\n",
       "      <td>...</td>\n",
       "      <td>...</td>\n",
       "      <td>...</td>\n",
       "      <td>...</td>\n",
       "      <td>...</td>\n",
       "      <td>...</td>\n",
       "      <td>...</td>\n",
       "    </tr>\n",
       "    <tr>\n",
       "      <th>670</th>\n",
       "      <td>89</td>\n",
       "      <td>0</td>\n",
       "      <td>6</td>\n",
       "      <td>0</td>\n",
       "      <td>0</td>\n",
       "      <td>0</td>\n",
       "      <td>1</td>\n",
       "      <td>0</td>\n",
       "      <td>0</td>\n",
       "      <td>0</td>\n",
       "      <td>...</td>\n",
       "      <td>NaN</td>\n",
       "      <td>NaN</td>\n",
       "      <td>NaN</td>\n",
       "      <td>2.0</td>\n",
       "      <td>0</td>\n",
       "      <td>0.0</td>\n",
       "      <td>19</td>\n",
       "      <td>19.0</td>\n",
       "      <td>19</td>\n",
       "      <td>0</td>\n",
       "    </tr>\n",
       "    <tr>\n",
       "      <th>721</th>\n",
       "      <td>93</td>\n",
       "      <td>1</td>\n",
       "      <td>13</td>\n",
       "      <td>0</td>\n",
       "      <td>0</td>\n",
       "      <td>0</td>\n",
       "      <td>0</td>\n",
       "      <td>1</td>\n",
       "      <td>0</td>\n",
       "      <td>0</td>\n",
       "      <td>...</td>\n",
       "      <td>NaN</td>\n",
       "      <td>NaN</td>\n",
       "      <td>NaN</td>\n",
       "      <td>1.0</td>\n",
       "      <td>3</td>\n",
       "      <td>0.0</td>\n",
       "      <td>21</td>\n",
       "      <td>21.0</td>\n",
       "      <td>21</td>\n",
       "      <td>0</td>\n",
       "    </tr>\n",
       "    <tr>\n",
       "      <th>726</th>\n",
       "      <td>94</td>\n",
       "      <td>1</td>\n",
       "      <td>21</td>\n",
       "      <td>0</td>\n",
       "      <td>0</td>\n",
       "      <td>0</td>\n",
       "      <td>0</td>\n",
       "      <td>0</td>\n",
       "      <td>1</td>\n",
       "      <td>0</td>\n",
       "      <td>...</td>\n",
       "      <td>NaN</td>\n",
       "      <td>NaN</td>\n",
       "      <td>NaN</td>\n",
       "      <td>2.0</td>\n",
       "      <td>1</td>\n",
       "      <td>0.0</td>\n",
       "      <td>23</td>\n",
       "      <td>23.0</td>\n",
       "      <td>23</td>\n",
       "      <td>0</td>\n",
       "    </tr>\n",
       "    <tr>\n",
       "      <th>732</th>\n",
       "      <td>94</td>\n",
       "      <td>0</td>\n",
       "      <td>6</td>\n",
       "      <td>0</td>\n",
       "      <td>1</td>\n",
       "      <td>0</td>\n",
       "      <td>1</td>\n",
       "      <td>1</td>\n",
       "      <td>0</td>\n",
       "      <td>0</td>\n",
       "      <td>...</td>\n",
       "      <td>NaN</td>\n",
       "      <td>NaN</td>\n",
       "      <td>NaN</td>\n",
       "      <td>1.0</td>\n",
       "      <td>0</td>\n",
       "      <td>0.0</td>\n",
       "      <td>32</td>\n",
       "      <td>32.0</td>\n",
       "      <td>32</td>\n",
       "      <td>0</td>\n",
       "    </tr>\n",
       "    <tr>\n",
       "      <th>733</th>\n",
       "      <td>94</td>\n",
       "      <td>1</td>\n",
       "      <td>4</td>\n",
       "      <td>0</td>\n",
       "      <td>0</td>\n",
       "      <td>0</td>\n",
       "      <td>0</td>\n",
       "      <td>0</td>\n",
       "      <td>0</td>\n",
       "      <td>0</td>\n",
       "      <td>...</td>\n",
       "      <td>NaN</td>\n",
       "      <td>NaN</td>\n",
       "      <td>NaN</td>\n",
       "      <td>1.0</td>\n",
       "      <td>2</td>\n",
       "      <td>0.0</td>\n",
       "      <td>27</td>\n",
       "      <td>27.0</td>\n",
       "      <td>27</td>\n",
       "      <td>0</td>\n",
       "    </tr>\n",
       "  </tbody>\n",
       "</table>\n",
       "<p>95 rows × 58 columns</p>\n",
       "</div>"
      ],
      "text/plain": [
       "     age  sex  hospital  diabetes  dementia  copd  stroke  ihd  arrhythmia  \\\n",
       "0     20    1        17         0         0     0       0    0           0   \n",
       "3     23    1        17         0         0     0       0    0           0   \n",
       "4     28    1        26         0         0     0       0    0           0   \n",
       "7     33    1         1         0         0     0       0    0           0   \n",
       "10    34    1        13         0         0     0       0    0           0   \n",
       "..   ...  ...       ...       ...       ...   ...     ...  ...         ...   \n",
       "670   89    0         6         0         0     0       1    0           0   \n",
       "721   93    1        13         0         0     0       0    1           0   \n",
       "726   94    1        21         0         0     0       0    0           1   \n",
       "732   94    0         6         0         1     0       1    1           0   \n",
       "733   94    1         4         0         0     0       0    0           0   \n",
       "\n",
       "     epilepsy  ...  drain_end  drain_entry  drain_days  timetoop_corrected  \\\n",
       "0           1  ...        NaN          NaN         NaN                15.0   \n",
       "3           0  ...        NaN          NaN         NaN                10.0   \n",
       "4           0  ...        NaN          NaN         NaN                 0.0   \n",
       "7           0  ...        NaN          NaN         NaN                 2.0   \n",
       "10          0  ...        NaN          NaN         NaN                13.0   \n",
       "..        ...  ...        ...          ...         ...                 ...   \n",
       "670         0  ...        NaN          NaN         NaN                 2.0   \n",
       "721         0  ...        NaN          NaN         NaN                 1.0   \n",
       "726         0  ...        NaN          NaN         NaN                 2.0   \n",
       "732         0  ...        NaN          NaN         NaN                 1.0   \n",
       "733         0  ...        NaN          NaN         NaN                 1.0   \n",
       "\n",
       "     bedrest  recurrence  thickness_sum  thickness_avg  thickness_max  \\\n",
       "0          0         1.0             20           20.0             20   \n",
       "3          0         0.0              8            8.0              8   \n",
       "4          2         0.0             10           10.0             10   \n",
       "7          0         0.0             25           12.5             19   \n",
       "10         2         0.0             12           12.0             12   \n",
       "..       ...         ...            ...            ...            ...   \n",
       "670        0         0.0             19           19.0             19   \n",
       "721        3         0.0             21           21.0             21   \n",
       "726        1         0.0             23           23.0             23   \n",
       "732        0         0.0             32           32.0             32   \n",
       "733        2         0.0             27           27.0             27   \n",
       "\n",
       "     bilateral  \n",
       "0            0  \n",
       "3            0  \n",
       "4            0  \n",
       "7            1  \n",
       "10           0  \n",
       "..         ...  \n",
       "670          0  \n",
       "721          0  \n",
       "726          0  \n",
       "732          0  \n",
       "733          0  \n",
       "\n",
       "[95 rows x 58 columns]"
      ]
     },
     "execution_count": 6,
     "metadata": {},
     "output_type": "execute_result"
    }
   ],
   "source": [
    "csdh_burr[csdh_burr['drain']==0]"
   ]
  },
  {
   "cell_type": "code",
   "execution_count": 15,
   "id": "aca88667",
   "metadata": {},
   "outputs": [
    {
     "name": "stdout",
     "output_type": "stream",
     "text": [
      "Without adjusting for any confounding, the naive causal estimate is computed as -0.09356128931064231\n"
     ]
    }
   ],
   "source": [
    "# Dataset without dropping burrhole_num NA patients\n",
    "naive_est = dwh.naive_estimate(df=csdh, treatment='drain', outcome='recurrence', treatment_type='int')\n",
    "print(f\"Without adjusting for any confounding, the naive causal estimate is computed as {naive_est}\")"
   ]
  },
  {
   "cell_type": "code",
   "execution_count": 16,
   "id": "0c34b210",
   "metadata": {},
   "outputs": [
    {
     "name": "stdout",
     "output_type": "stream",
     "text": [
      "Without adjusting for any confounding, the naive causal estimate is computed as -0.08374644024891888\n"
     ]
    }
   ],
   "source": [
    "# Dataset after dropping patients with missing burrhole_num\n",
    "naive_est_burr = dwh.naive_estimate(df=csdh_burr, treatment='drain', outcome='recurrence', treatment_type='int')\n",
    "print(f\"Without adjusting for any confounding, the naive causal estimate is computed as {naive_est_burr}\")"
   ]
  },
  {
   "cell_type": "markdown",
   "id": "57759a7e",
   "metadata": {},
   "source": [
    "---\n",
    "## I. Model a causal problem\n",
    "* Create a causal model from the data and given graph."
   ]
  },
  {
   "cell_type": "code",
   "execution_count": 17,
   "id": "5d6ffd16",
   "metadata": {},
   "outputs": [
    {
     "data": {
      "image/png": "[encoded data removed]",
      "text/plain": [
       "<IPython.core.display.Image object>"
      ]
     },
     "metadata": {},
     "output_type": "display_data"
    }
   ],
   "source": [
    "min_model = CausalModel(data=csdh, \n",
    "                        treatment='drain', \n",
    "                        outcome='recurrence', \n",
    "                        graph='../causal_graphs/min_dag.dot'.replace(\"\\n\", \" \"))\n",
    "min_model.view_model()\n",
    "display(Image(filename=\"causal_model.png\"))"
   ]
  },
  {
   "cell_type": "code",
   "execution_count": 18,
   "id": "f2f1af52",
   "metadata": {},
   "outputs": [
    {
     "data": {
      "image/png": "[encoded data removed]",
      "text/plain": [
       "<IPython.core.display.Image object>"
      ]
     },
     "metadata": {},
     "output_type": "display_data"
    }
   ],
   "source": [
    "data_model = CausalModel(data=csdh, \n",
    "                         treatment='drain', \n",
    "                         outcome='recurrence', \n",
    "                         graph='../causal_graphs/small_data_dag.dot'.replace(\"\\n\", \" \"))\n",
    "data_model.view_model()\n",
    "display(Image(filename=\"causal_model.png\"))"
   ]
  },
  {
   "cell_type": "code",
   "execution_count": 19,
   "id": "45394fdd",
   "metadata": {},
   "outputs": [
    {
     "data": {
      "image/png": "[encoded data removed]",
      "text/plain": [
       "<IPython.core.display.Image object>"
      ]
     },
     "metadata": {},
     "output_type": "display_data"
    }
   ],
   "source": [
    "doc_model = CausalModel(data=csdh_burr, \n",
    "                         treatment='drain', \n",
    "                         outcome='recurrence', \n",
    "                         graph='../causal_graphs/doctor_dag.dot'.replace(\"\\n\", \" \"))\n",
    "doc_model.view_model()\n",
    "display(Image(filename=\"causal_model.png\"))"
   ]
  },
  {
   "cell_type": "markdown",
   "id": "39bbf92c",
   "metadata": {},
   "source": [
    "---\n",
    "## II. Identify a target estimand under the model"
   ]
  },
  {
   "cell_type": "code",
   "execution_count": 20,
   "id": "965a3a7c",
   "metadata": {},
   "outputs": [],
   "source": [
    "min_estimand = min_model.identify_effect(proceed_when_unidentifiable=True)\n",
    "data_estimand = data_model.identify_effect(proceed_when_unidentifiable=True)\n",
    "doc_estimand = doc_model.identify_effect(proceed_when_unidentifiable=True)"
   ]
  },
  {
   "cell_type": "code",
   "execution_count": 21,
   "id": "5e0dd477",
   "metadata": {},
   "outputs": [
    {
     "name": "stdout",
     "output_type": "stream",
     "text": [
      "Estimand type: nonparametric-ate\n",
      "\n",
      "### Estimand : 1\n",
      "Estimand name: backdoor\n",
      "Estimand expression:\n",
      "   d                                                            \n",
      "────────(Expectation(recurrence|antiplatelet,thickness_sum,age))\n",
      "d[drain]                                                        \n",
      "Estimand assumption 1, Unconfoundedness: If U→{drain} and U→recurrence then P(recurrence|drain,antiplatelet,thickness_sum,age,U) = P(recurrence|drain,antiplatelet,thickness_sum,age)\n",
      "\n",
      "### Estimand : 2\n",
      "Estimand name: iv\n",
      "No such variable found!\n",
      "\n",
      "### Estimand : 3\n",
      "Estimand name: frontdoor\n",
      "No such variable found!\n",
      "\n"
     ]
    }
   ],
   "source": [
    "print(min_estimand)"
   ]
  },
  {
   "cell_type": "code",
   "execution_count": 22,
   "id": "ddc3f280",
   "metadata": {},
   "outputs": [
    {
     "name": "stdout",
     "output_type": "stream",
     "text": [
      "Estimand type: nonparametric-ate\n",
      "\n",
      "### Estimand : 1\n",
      "Estimand name: backdoor\n",
      "Estimand expression:\n",
      "   d                                                                          \n",
      "────────(Expectation(recurrence|antiplatelet,thickness_sum,inr,platelet,stroke\n",
      "d[drain]                                                                      \n",
      "\n",
      "                     \n",
      ",metalvalve,ihd,age))\n",
      "                     \n",
      "Estimand assumption 1, Unconfoundedness: If U→{drain} and U→recurrence then P(recurrence|drain,antiplatelet,thickness_sum,inr,platelet,stroke,metalvalve,ihd,age,U) = P(recurrence|drain,antiplatelet,thickness_sum,inr,platelet,stroke,metalvalve,ihd,age)\n",
      "\n",
      "### Estimand : 2\n",
      "Estimand name: iv\n",
      "Estimand expression:\n",
      "Expectation(Derivative(recurrence, [hospital])*Derivative([drain], [hospital])\n",
      "**(-1))\n",
      "Estimand assumption 1, As-if-random: If U→→recurrence then ¬(U →→{hospital})\n",
      "Estimand assumption 2, Exclusion: If we remove {hospital}→{drain}, then ¬({hospital}→recurrence)\n",
      "\n",
      "### Estimand : 3\n",
      "Estimand name: frontdoor\n",
      "No such variable found!\n",
      "\n"
     ]
    }
   ],
   "source": [
    "print(data_estimand)"
   ]
  },
  {
   "cell_type": "code",
   "execution_count": 24,
   "id": "12279aa8",
   "metadata": {},
   "outputs": [
    {
     "name": "stdout",
     "output_type": "stream",
     "text": [
      "Estimand type: nonparametric-ate\n",
      "\n",
      "### Estimand : 1\n",
      "Estimand name: backdoor\n",
      "Estimand expression:\n",
      "   d                                                                          \n",
      "────────(Expectation(recurrence|antiplatelet,thickness_sum,hospital,density,ag\n",
      "d[drain]                                                                      \n",
      "\n",
      "                                                                        \n",
      "e,membranes,bedrest,burrhole_num,stroke,optype,metalvalve,ihd,warfarin))\n",
      "                                                                        \n",
      "Estimand assumption 1, Unconfoundedness: If U→{drain} and U→recurrence then P(recurrence|drain,antiplatelet,thickness_sum,hospital,density,age,membranes,bedrest,burrhole_num,stroke,optype,metalvalve,ihd,warfarin,U) = P(recurrence|drain,antiplatelet,thickness_sum,hospital,density,age,membranes,bedrest,burrhole_num,stroke,optype,metalvalve,ihd,warfarin)\n",
      "\n",
      "### Estimand : 2\n",
      "Estimand name: iv\n",
      "No such variable found!\n",
      "\n",
      "### Estimand : 3\n",
      "Estimand name: frontdoor\n",
      "No such variable found!\n",
      "\n"
     ]
    }
   ],
   "source": [
    "print(doc_estimand)"
   ]
  },
  {
   "cell_type": "markdown",
   "id": "4f3e6052",
   "metadata": {},
   "source": [
    "---\n",
    "## III. Linear Regression Estimator"
   ]
  },
  {
   "cell_type": "code",
   "execution_count": 25,
   "id": "33292d3e",
   "metadata": {},
   "outputs": [],
   "source": [
    "# III. Estimate the target estimand using a statistical method.\n",
    "min_lin_est = dwh.linear_regression_estimator(min_model, min_estimand, ci=True, test_significance=True)\n",
    "data_lin_est = dwh.linear_regression_estimator(data_model, data_estimand, ci=True, test_significance=True)\n",
    "doc_lin_est = dwh.linear_regression_estimator(doc_model, doc_estimand, ci=True, test_significance=True)"
   ]
  },
  {
   "cell_type": "code",
   "execution_count": 26,
   "id": "eeca8f76",
   "metadata": {},
   "outputs": [
    {
     "name": "stdout",
     "output_type": "stream",
     "text": [
      "*** Causal Estimate ***\n",
      "\n",
      "## Identified estimand\n",
      "Estimand type: nonparametric-ate\n",
      "\n",
      "### Estimand : 1\n",
      "Estimand name: backdoor\n",
      "Estimand expression:\n",
      "   d                                                            \n",
      "────────(Expectation(recurrence|antiplatelet,thickness_sum,age))\n",
      "d[drain]                                                        \n",
      "Estimand assumption 1, Unconfoundedness: If U→{drain} and U→recurrence then P(recurrence|drain,antiplatelet,thickness_sum,age,U) = P(recurrence|drain,antiplatelet,thickness_sum,age)\n",
      "\n",
      "## Realized estimand\n",
      "b: recurrence~drain+antiplatelet+thickness_sum+age+drain*antiplatelet\n",
      "Target units: ate\n",
      "\n",
      "## Estimate\n",
      "Mean value: -0.10067365926797883\n",
      "p-value: [0.0222125]\n",
      "95.0% confidence interval: [[-0.14110313 -0.01088982]]\n",
      "### Conditional Estimates\n",
      "__categorical__antiplatelet\n",
      "(-0.001, 1.0]   -0.100674\n",
      "dtype: float64\n"
     ]
    }
   ],
   "source": [
    "print(min_lin_est)"
   ]
  },
  {
   "cell_type": "code",
   "execution_count": 27,
   "id": "707f6a12",
   "metadata": {},
   "outputs": [
    {
     "name": "stdout",
     "output_type": "stream",
     "text": [
      "*** Causal Estimate ***\n",
      "\n",
      "## Identified estimand\n",
      "Estimand type: nonparametric-ate\n",
      "\n",
      "### Estimand : 1\n",
      "Estimand name: backdoor\n",
      "Estimand expression:\n",
      "   d                                                                          \n",
      "────────(Expectation(recurrence|antiplatelet,thickness_sum,inr,platelet,stroke\n",
      "d[drain]                                                                      \n",
      "\n",
      "                     \n",
      ",metalvalve,ihd,age))\n",
      "                     \n",
      "Estimand assumption 1, Unconfoundedness: If U→{drain} and U→recurrence then P(recurrence|drain,antiplatelet,thickness_sum,inr,platelet,stroke,metalvalve,ihd,age,U) = P(recurrence|drain,antiplatelet,thickness_sum,inr,platelet,stroke,metalvalve,ihd,age)\n",
      "\n",
      "## Realized estimand\n",
      "b: recurrence~drain+antiplatelet+thickness_sum+inr+platelet+stroke+metalvalve+ihd+age+drain*metalvalve+drain*ihd\n",
      "Target units: ate\n",
      "\n",
      "## Estimate\n",
      "Mean value: -0.10849711522588264\n",
      "p-value: [0.02185382]\n",
      "95.0% confidence interval: [[-0.1382241  -0.01085408]]\n",
      "### Conditional Estimates\n",
      "__categorical__metalvalve  __categorical__ihd\n",
      "(-0.001, 1.0]              (-0.001, 1.0]        -0.108497\n",
      "dtype: float64\n"
     ]
    }
   ],
   "source": [
    "print(data_lin_est)"
   ]
  },
  {
   "cell_type": "code",
   "execution_count": 28,
   "id": "e7155d4c",
   "metadata": {},
   "outputs": [
    {
     "name": "stdout",
     "output_type": "stream",
     "text": [
      "*** Causal Estimate ***\n",
      "\n",
      "## Identified estimand\n",
      "Estimand type: nonparametric-ate\n",
      "\n",
      "### Estimand : 1\n",
      "Estimand name: backdoor\n",
      "Estimand expression:\n",
      "   d                                                                          \n",
      "────────(Expectation(recurrence|antiplatelet,thickness_sum,hospital,density,ag\n",
      "d[drain]                                                                      \n",
      "\n",
      "                                                                        \n",
      "e,membranes,bedrest,burrhole_num,stroke,optype,metalvalve,ihd,warfarin))\n",
      "                                                                        \n",
      "Estimand assumption 1, Unconfoundedness: If U→{drain} and U→recurrence then P(recurrence|drain,antiplatelet,thickness_sum,hospital,density,age,membranes,bedrest,burrhole_num,stroke,optype,metalvalve,ihd,warfarin,U) = P(recurrence|drain,antiplatelet,thickness_sum,hospital,density,age,membranes,bedrest,burrhole_num,stroke,optype,metalvalve,ihd,warfarin)\n",
      "\n",
      "## Realized estimand\n",
      "b: recurrence~drain+antiplatelet+thickness_sum+hospital+density+age+membranes+bedrest+burrhole_num+stroke+optype+metalvalve+ihd+warfarin+drain*antiplatelet+drain*bedrest+drain*stroke\n",
      "Target units: ate\n",
      "\n",
      "## Estimate\n",
      "Mean value: -0.08501222205697244\n",
      "p-value: [0.04611538]\n",
      "95.0% confidence interval: [[-0.195088   -0.00170151]]\n",
      "### Conditional Estimates\n",
      "__categorical__antiplatelet  __categorical__bedrest  __categorical__stroke\n",
      "(-0.001, 1.0]                (-0.001, 2.0]           (-0.001, 1.0]           -0.095057\n",
      "                             (2.0, 4.0]              (-0.001, 1.0]           -0.028759\n",
      "dtype: float64\n"
     ]
    }
   ],
   "source": [
    "print(doc_lin_est)"
   ]
  },
  {
   "cell_type": "code",
   "execution_count": 13,
   "id": "848d86e4",
   "metadata": {},
   "outputs": [
    {
     "name": "stdout",
     "output_type": "stream",
     "text": [
      "-------------- Causal Estimates -------------- \n",
      "Naive causal estimate is -0.09356128931064231\n",
      "Linear regression causal estimate is -0.10067365926797882\n",
      "Percentage change from naive_est: 7.602%\n",
      "----------------------------------------------\n"
     ]
    }
   ],
   "source": [
    "# mp model\n",
    "dwh.print_estimate_comparison(naive_est, min_lin_est, 'Linear regression')"
   ]
  },
  {
   "cell_type": "code",
   "execution_count": 14,
   "id": "cd68ed01",
   "metadata": {},
   "outputs": [
    {
     "name": "stdout",
     "output_type": "stream",
     "text": [
      "-------------- Causal Estimates -------------- \n",
      "Naive causal estimate is -0.09356128931064231\n",
      "Linear regression causal estimate is -0.10849711522588244\n",
      "Percentage change from naive_est: 15.964%\n",
      "----------------------------------------------\n"
     ]
    }
   ],
   "source": [
    "# small data model\n",
    "dwh.print_estimate_comparison(naive_est, data_lin_est, 'Linear regression')"
   ]
  },
  {
   "cell_type": "code",
   "execution_count": 15,
   "id": "e90f96c1",
   "metadata": {},
   "outputs": [
    {
     "name": "stdout",
     "output_type": "stream",
     "text": [
      "-------------- Causal Estimates -------------- \n",
      "Naive causal estimate is -0.08374644024891888\n",
      "Linear regression causal estimate is -0.08501222205697205\n",
      "Percentage change from naive_est: 1.511%\n",
      "----------------------------------------------\n"
     ]
    }
   ],
   "source": [
    "# data model\n",
    "dwh.print_estimate_comparison(naive_est_burr, doc_lin_est, 'Linear regression')"
   ]
  },
  {
   "cell_type": "markdown",
   "id": "367340c0",
   "metadata": {},
   "source": [
    "---\n",
    "## IV. Refute the obtained estimate"
   ]
  },
  {
   "cell_type": "markdown",
   "id": "f53b5b31",
   "metadata": {},
   "source": [
    "1. **Add Random Common Cause:** Does the estimation method change its estimate after we add an independent random variable as a common cause to the dataset? (Hint: It should not)"
   ]
  },
  {
   "cell_type": "code",
   "execution_count": 16,
   "id": "2013129f",
   "metadata": {},
   "outputs": [],
   "source": [
    "# Robust if: estimate stays the same\n",
    "lin_ran_refuter = min_model.refute_estimate(min_estimand, \n",
    "                                            min_lin_est, \n",
    "                                            random_state=random_state,\n",
    "                                            method_name=\"random_common_cause\", \n",
    "                                            num_simulations=100)"
   ]
  },
  {
   "cell_type": "code",
   "execution_count": 17,
   "id": "7b579b17",
   "metadata": {},
   "outputs": [],
   "source": [
    "lin_ran_refuter_data = data_model.refute_estimate(data_estimand, \n",
    "                                                  data_lin_est, \n",
    "                                                  random_state=random_state,\n",
    "                                                  method_name=\"random_common_cause\", \n",
    "                                                  num_simulations=100)"
   ]
  },
  {
   "cell_type": "code",
   "execution_count": 18,
   "id": "53010b00",
   "metadata": {},
   "outputs": [],
   "source": [
    "lin_ran_refuter_doc = doc_model.refute_estimate(doc_estimand, \n",
    "                                                doc_lin_est, \n",
    "                                                random_state=random_state,\n",
    "                                                method_name=\"random_common_cause\", \n",
    "                                                num_simulations=100)"
   ]
  },
  {
   "cell_type": "code",
   "execution_count": 19,
   "id": "9975b35e",
   "metadata": {},
   "outputs": [
    {
     "name": "stdout",
     "output_type": "stream",
     "text": [
      "Refute: Add a Random Common Cause\n",
      "Estimated effect:-0.10067365926797882\n",
      "New effect:-0.10078637993765123\n",
      "\n",
      "Refute: Add a Random Common Cause\n",
      "Estimated effect:-0.10849711522588244\n",
      "New effect:-0.10897022887410167\n",
      "\n",
      "Refute: Add a Random Common Cause\n",
      "Estimated effect:-0.08501222205697205\n",
      "New effect:-0.08755850401419282\n",
      "\n"
     ]
    }
   ],
   "source": [
    "print(lin_ran_refuter)\n",
    "print(lin_ran_refuter_data)\n",
    "print(lin_ran_refuter_doc)"
   ]
  },
  {
   "cell_type": "markdown",
   "id": "4c83bafc",
   "metadata": {},
   "source": [
    "2. **Placebo Treatment:** What happens to the estimated causal effect when we replace the true treatment variable with an independent random variable? (Hint: the effect should go to zero)\n",
    "\n",
    "\n",
    "\n",
    "* Note that the placebo type is 'permute' meaning the rows of the treatment variable have been randomly permuted giving the effect of a placebo treatment.\n"
   ]
  },
  {
   "cell_type": "code",
   "execution_count": 20,
   "id": "e00b004a",
   "metadata": {},
   "outputs": [],
   "source": [
    "# Robust if: estimate goes to 0\n",
    "lin_placebo_refuter = min_model.refute_estimate(min_estimand, min_lin_est, \n",
    "                                                method_name=\"placebo_treatment_refuter\",\n",
    "                                                num_simulations=100,\n",
    "                                                placebo_type='permute')\n",
    "\n",
    "lin_placebo_refuter_data = data_model.refute_estimate(data_estimand, data_lin_est, \n",
    "                                                      method_name=\"placebo_treatment_refuter\",\n",
    "                                                      num_simulations=100, \n",
    "                                                      placebo_type='permute')\n",
    "\n",
    "lin_placebo_refuter_doc = doc_model.refute_estimate(doc_estimand, doc_lin_est, \n",
    "                                                    method_name=\"placebo_treatment_refuter\",\n",
    "                                                    num_simulations=100, \n",
    "                                                    placebo_type='permute')"
   ]
  },
  {
   "cell_type": "code",
   "execution_count": 21,
   "id": "26a515ab",
   "metadata": {},
   "outputs": [
    {
     "name": "stdout",
     "output_type": "stream",
     "text": [
      "Refute: Use a Placebo Treatment\n",
      "Estimated effect:-0.10067365926797882\n",
      "New effect:-0.0017818823362914836\n",
      "p value:0.5\n",
      "\n",
      "Refute: Use a Placebo Treatment\n",
      "Estimated effect:-0.10849711522588244\n",
      "New effect:0.00306425678415774\n",
      "p value:0.42\n",
      "\n",
      "Refute: Use a Placebo Treatment\n",
      "Estimated effect:-0.08501222205697205\n",
      "New effect:0.001543910698303337\n",
      "p value:0.45\n",
      "\n"
     ]
    }
   ],
   "source": [
    "print(lin_placebo_refuter)\n",
    "print(lin_placebo_refuter_data)\n",
    "print(lin_placebo_refuter_doc)"
   ]
  },
  {
   "cell_type": "markdown",
   "id": "6e9c2700",
   "metadata": {},
   "source": [
    "3. **Dummy Outcome:** What happens to the estimated causal effect when we replace the true outcome variable with an independent random variable? (Hint: The effect should go to zero)\n",
    "\n",
    "\n",
    "\n",
    "* The result shows that when using a dummy outcome, the **treatment does not lead to the outcome**. The estimated effect is hence a value that tends to zero, which matches our expectation. This shows that if we replace the outcome by randomly generated data, the **estimator correctly predicts that the influence if treatment is zero**.\n"
   ]
  },
  {
   "cell_type": "code",
   "execution_count": 22,
   "id": "048048f7",
   "metadata": {},
   "outputs": [],
   "source": [
    "# Robust if: estimate goes to 0\n",
    "lin_dummy_refuter = min_model.refute_estimate(min_estimand, min_lin_est, \n",
    "                                              method_name=\"dummy_outcome_refuter\",\n",
    "                                              random_state=random_state,\n",
    "                                              num_simulations=100)\n",
    "\n",
    "lin_dummy_refuter_data = data_model.refute_estimate(data_estimand, data_lin_est,\n",
    "                                                    method_name=\"dummy_outcome_refuter\",\n",
    "                                                    random_state=random_state,\n",
    "                                                    num_simulations=100)\n",
    "\n",
    "lin_dummy_refuter_doc = doc_model.refute_estimate(doc_estimand, doc_lin_est,\n",
    "                                                  method_name=\"dummy_outcome_refuter\",\n",
    "                                                  random_state=random_state,\n",
    "                                                  num_simulations=100)\n"
   ]
  },
  {
   "cell_type": "code",
   "execution_count": 23,
   "id": "afb7e478",
   "metadata": {},
   "outputs": [
    {
     "name": "stdout",
     "output_type": "stream",
     "text": [
      "Refute: Use a Dummy Outcome\n",
      "Estimated effect:0\n",
      "New effect:-0.0054075400502844526\n",
      "p value:0.45999999999999996\n",
      "\n",
      "Refute: Use a Dummy Outcome\n",
      "Estimated effect:0\n",
      "New effect:-0.0005922079482488152\n",
      "p value:0.5\n",
      "\n",
      "Refute: Use a Dummy Outcome\n",
      "Estimated effect:0\n",
      "New effect:0.027724366204380235\n",
      "p value:0.45\n",
      "\n"
     ]
    }
   ],
   "source": [
    "print(lin_dummy_refuter[0])\n",
    "print(lin_dummy_refuter_data[0])\n",
    "print(lin_dummy_refuter_doc[0])"
   ]
  },
  {
   "cell_type": "markdown",
   "id": "03b803bf",
   "metadata": {},
   "source": [
    "4. **Data Subsets Validation:** Does the estimated effect change significantly when we replace the given dataset with a randomly selected subset? (Hint: It should not)"
   ]
  },
  {
   "cell_type": "code",
   "execution_count": 24,
   "id": "3f58f94d",
   "metadata": {},
   "outputs": [],
   "source": [
    "# Robust if: estimate stays the same\n",
    "lin_subset_refuter = min_model.refute_estimate(min_estimand, min_lin_est, \n",
    "                                               method_name=\"data_subset_refuter\",\n",
    "                                               random_state=random_state,\n",
    "                                               num_simulations=100,\n",
    "                                               subset_fraction=0.75)\n",
    "\n",
    "lin_subset_refuter_data = data_model.refute_estimate(data_estimand, data_lin_est, \n",
    "                                                     method_name=\"data_subset_refuter\",\n",
    "                                                     random_state=random_state,\n",
    "                                                     num_simulations=100,\n",
    "                                                     subset_fraction=0.75)"
   ]
  },
  {
   "cell_type": "code",
   "execution_count": 25,
   "id": "ccbb3746",
   "metadata": {},
   "outputs": [],
   "source": [
    "lin_subset_refuter_doc = doc_model.refute_estimate(doc_estimand, doc_lin_est, \n",
    "                                                   method_name=\"data_subset_refuter\",\n",
    "                                                   random_state=random_state,\n",
    "                                                   num_simulations=100,\n",
    "                                                   subset_fraction=0.75)"
   ]
  },
  {
   "cell_type": "code",
   "execution_count": 26,
   "id": "ea309269",
   "metadata": {},
   "outputs": [
    {
     "name": "stdout",
     "output_type": "stream",
     "text": [
      "Refute: Use a subset of data\n",
      "Estimated effect:-0.10067365926797882\n",
      "New effect:-0.08803124971236846\n",
      "p value:0.0\n",
      "\n",
      "Refute: Use a subset of data\n",
      "Estimated effect:-0.10849711522588244\n",
      "New effect:-0.09932980866605341\n",
      "p value:0.0\n",
      "\n",
      "Refute: Use a subset of data\n",
      "Estimated effect:-0.08501222205697205\n",
      "New effect:-0.0779591755683984\n",
      "p value:0.0\n",
      "\n"
     ]
    }
   ],
   "source": [
    "print(lin_subset_refuter)\n",
    "print(lin_subset_refuter_data)\n",
    "print(lin_subset_refuter_doc)"
   ]
  },
  {
   "cell_type": "markdown",
   "id": "c8250b3e",
   "metadata": {},
   "source": [
    "5. **Bootstrap Validation:** Does the estimated effect change significantly when we replace the given dataset with bootstrapped samples from the same dataset? (Hint: It should not)"
   ]
  },
  {
   "cell_type": "code",
   "execution_count": 27,
   "id": "82c5a3db",
   "metadata": {},
   "outputs": [],
   "source": [
    "# Robust if: estimate stays the same\n",
    "lin_bootstrap_refuter = min_model.refute_estimate(min_estimand, min_lin_est, \n",
    "                                                  method_name=\"bootstrap_refuter\",\n",
    "                                                  random_state=random_state,\n",
    "                                                  num_simulations=100)\n",
    "\n",
    "lin_bootstrap_refuter_data = data_model.refute_estimate(data_estimand, data_lin_est, \n",
    "                                                        method_name=\"bootstrap_refuter\",\n",
    "                                                        random_state=random_state,\n",
    "                                                        num_simulations=100)\n",
    "\n",
    "lin_bootstrap_refuter_doc = doc_model.refute_estimate(doc_estimand, doc_lin_est, \n",
    "                                                      method_name=\"bootstrap_refuter\",\n",
    "                                                      random_state=random_state,\n",
    "                                                      num_simulations=100)"
   ]
  },
  {
   "cell_type": "code",
   "execution_count": 28,
   "id": "1fa16840",
   "metadata": {},
   "outputs": [
    {
     "name": "stdout",
     "output_type": "stream",
     "text": [
      "Refute: Bootstrap Sample Dataset\n",
      "Estimated effect:-0.10067365926797882\n",
      "New effect:-0.14500821397256186\n",
      "p value:0.0\n",
      "\n",
      "Refute: Bootstrap Sample Dataset\n",
      "Estimated effect:-0.10849711522588244\n",
      "New effect:-0.17277437798590944\n",
      "p value:0.0\n",
      "\n",
      "Refute: Bootstrap Sample Dataset\n",
      "Estimated effect:-0.08501222205697205\n",
      "New effect:-0.12207728189876649\n",
      "p value:0.0\n",
      "\n"
     ]
    }
   ],
   "source": [
    "print(lin_bootstrap_refuter)\n",
    "print(lin_bootstrap_refuter_data)\n",
    "print(lin_bootstrap_refuter_doc)"
   ]
  },
  {
   "cell_type": "markdown",
   "id": "7e416997",
   "metadata": {},
   "source": [
    "---\n",
    "## III. Generalized linear model (GLM) estimator\n"
   ]
  },
  {
   "cell_type": "code",
   "execution_count": 29,
   "id": "7e96cc73",
   "metadata": {},
   "outputs": [],
   "source": [
    "min_glm_est = dwh.bin_glm_estimator(min_model, min_estimand, ci=True, test_significance=True)"
   ]
  },
  {
   "cell_type": "code",
   "execution_count": 30,
   "id": "c644b811",
   "metadata": {},
   "outputs": [],
   "source": [
    "data_glm_est = dwh.bin_glm_estimator(data_model, data_estimand, ci=True, test_significance=True)"
   ]
  },
  {
   "cell_type": "code",
   "execution_count": 31,
   "id": "fe47e568",
   "metadata": {},
   "outputs": [],
   "source": [
    "doc_glm_est = dwh.bin_glm_estimator(doc_model, doc_estimand, ci=True, test_significance=True)"
   ]
  },
  {
   "cell_type": "code",
   "execution_count": 32,
   "id": "bb4dcb2b",
   "metadata": {},
   "outputs": [
    {
     "name": "stdout",
     "output_type": "stream",
     "text": [
      "*** Causal Estimate ***\n",
      "\n",
      "## Identified estimand\n",
      "Estimand type: nonparametric-ate\n",
      "\n",
      "### Estimand : 1\n",
      "Estimand name: backdoor\n",
      "Estimand expression:\n",
      "   d                                                            \n",
      "────────(Expectation(recurrence|thickness_sum,age,antiplatelet))\n",
      "d[drain]                                                        \n",
      "Estimand assumption 1, Unconfoundedness: If U→{drain} and U→recurrence then P(recurrence|drain,thickness_sum,age,antiplatelet,U) = P(recurrence|drain,thickness_sum,age,antiplatelet)\n",
      "\n",
      "## Realized estimand\n",
      "b: recurrence~Sigmoid(drain+thickness_sum+age+antiplatelet+drain*antiplatelet)\n",
      "Target units: ate\n",
      "\n",
      "## Estimate\n",
      "Mean value: -0.10223455200046452\n",
      "p-value: 0.001\n",
      "95.0% confidence interval: (-0.16176800308908712, -0.04502853186658157)\n",
      "### Conditional Estimates\n",
      "__categorical__antiplatelet\n",
      "(-0.001, 1.0]   -0.102235\n",
      "dtype: float64\n"
     ]
    }
   ],
   "source": [
    "print(min_glm_est)"
   ]
  },
  {
   "cell_type": "code",
   "execution_count": 33,
   "id": "e0514bf2",
   "metadata": {},
   "outputs": [
    {
     "name": "stdout",
     "output_type": "stream",
     "text": [
      "*** Causal Estimate ***\n",
      "\n",
      "## Identified estimand\n",
      "Estimand type: nonparametric-ate\n",
      "\n",
      "### Estimand : 1\n",
      "Estimand name: backdoor\n",
      "Estimand expression:\n",
      "   d                                                                          \n",
      "────────(Expectation(recurrence|age,metalvalve,ihd,platelet,stroke,thickness_s\n",
      "d[drain]                                                                      \n",
      "\n",
      "                     \n",
      "um,antiplatelet,inr))\n",
      "                     \n",
      "Estimand assumption 1, Unconfoundedness: If U→{drain} and U→recurrence then P(recurrence|drain,age,metalvalve,ihd,platelet,stroke,thickness_sum,antiplatelet,inr,U) = P(recurrence|drain,age,metalvalve,ihd,platelet,stroke,thickness_sum,antiplatelet,inr)\n",
      "\n",
      "## Realized estimand\n",
      "b: recurrence~Sigmoid(drain+age+metalvalve+ihd+platelet+stroke+thickness_sum+antiplatelet+inr+drain*metalvalve+drain*ihd)\n",
      "Target units: ate\n",
      "\n",
      "## Estimate\n",
      "Mean value: -0.11013202824957304\n",
      "p-value: [0, 0.001]\n",
      "95.0% confidence interval: (-0.1550541856481507, -0.05856583484919227)\n",
      "### Conditional Estimates\n",
      "__categorical__metalvalve  __categorical__ihd\n",
      "(-0.001, 1.0]              (-0.001, 1.0]        -0.110132\n",
      "dtype: float64\n"
     ]
    }
   ],
   "source": [
    "print(data_glm_est)"
   ]
  },
  {
   "cell_type": "code",
   "execution_count": 34,
   "id": "143adddc",
   "metadata": {},
   "outputs": [
    {
     "name": "stdout",
     "output_type": "stream",
     "text": [
      "*** Causal Estimate ***\n",
      "\n",
      "## Identified estimand\n",
      "Estimand type: nonparametric-ate\n",
      "\n",
      "### Estimand : 1\n",
      "Estimand name: backdoor\n",
      "Estimand expression:\n",
      "   d                                                                          \n",
      "────────(Expectation(recurrence|hospital,age,metalvalve,ihd,burrhole_num,strok\n",
      "d[drain]                                                                      \n",
      "\n",
      "                                                                        \n",
      "e,thickness_sum,antiplatelet,bedrest,density,membranes,warfarin,optype))\n",
      "                                                                        \n",
      "Estimand assumption 1, Unconfoundedness: If U→{drain} and U→recurrence then P(recurrence|drain,hospital,age,metalvalve,ihd,burrhole_num,stroke,thickness_sum,antiplatelet,bedrest,density,membranes,warfarin,optype,U) = P(recurrence|drain,hospital,age,metalvalve,ihd,burrhole_num,stroke,thickness_sum,antiplatelet,bedrest,density,membranes,warfarin,optype)\n",
      "\n",
      "## Realized estimand\n",
      "b: recurrence~Sigmoid(drain+hospital+age+metalvalve+ihd+burrhole_num+stroke+thickness_sum+antiplatelet+bedrest+density+membranes+warfarin+optype+drain*stroke+drain*bedrest+drain*antiplatelet)\n",
      "Target units: ate\n",
      "\n",
      "## Estimate\n",
      "Mean value: -0.089481567363489\n",
      "p-value: 0.011\n",
      "95.0% confidence interval: (-0.1595674765964051, -0.03548717518560643)\n",
      "### Conditional Estimates\n",
      "__categorical__stroke  __categorical__bedrest  __categorical__antiplatelet\n",
      "(-0.001, 1.0]          (-0.001, 2.0]           (-0.001, 1.0]                 -0.098187\n",
      "                       (2.0, 4.0]              (-0.001, 1.0]                 -0.040729\n",
      "dtype: float64\n"
     ]
    }
   ],
   "source": [
    "print(doc_glm_est)"
   ]
  },
  {
   "cell_type": "code",
   "execution_count": 35,
   "id": "1aa76205",
   "metadata": {},
   "outputs": [
    {
     "name": "stdout",
     "output_type": "stream",
     "text": [
      "-------------- Causal Estimates -------------- \n",
      "Naive causal estimate is -0.09356128931064231\n",
      "Binomial GLM causal estimate is -0.10223455200046452\n",
      "Percentage change from naive_est: 9.27%\n",
      "----------------------------------------------\n"
     ]
    }
   ],
   "source": [
    "# mp model\n",
    "dwh.print_estimate_comparison(naive_est, min_glm_est, 'Binomial GLM')"
   ]
  },
  {
   "cell_type": "code",
   "execution_count": 36,
   "id": "c989e942",
   "metadata": {},
   "outputs": [
    {
     "name": "stdout",
     "output_type": "stream",
     "text": [
      "-------------- Causal Estimates -------------- \n",
      "Naive causal estimate is -0.09356128931064231\n",
      "Binomial GLM causal estimate is -0.11013202824957304\n",
      "Percentage change from naive_est: 17.711%\n",
      "----------------------------------------------\n"
     ]
    }
   ],
   "source": [
    "# mp model\n",
    "dwh.print_estimate_comparison(naive_est, data_glm_est, 'Binomial GLM')"
   ]
  },
  {
   "cell_type": "code",
   "execution_count": 37,
   "id": "22260513",
   "metadata": {},
   "outputs": [
    {
     "name": "stdout",
     "output_type": "stream",
     "text": [
      "-------------- Causal Estimates -------------- \n",
      "Naive causal estimate is -0.08374644024891888\n",
      "Binomial GLM causal estimate is -0.089481567363489\n",
      "Percentage change from naive_est: 6.848%\n",
      "----------------------------------------------\n"
     ]
    }
   ],
   "source": [
    "# mp model\n",
    "dwh.print_estimate_comparison(naive_est_burr, doc_glm_est, 'Binomial GLM')"
   ]
  },
  {
   "cell_type": "markdown",
   "id": "5c5c122c",
   "metadata": {},
   "source": [
    "---\n",
    "## IV. Refute the obtained estimate"
   ]
  },
  {
   "cell_type": "markdown",
   "id": "906ed1fd",
   "metadata": {},
   "source": [
    "1. **Add Random Common Cause:** Does the estimation method change its estimate after we add an independent random variable as a common cause to the dataset? (Hint: It should not)"
   ]
  },
  {
   "cell_type": "code",
   "execution_count": 39,
   "id": "730eab3b",
   "metadata": {},
   "outputs": [],
   "source": [
    "# Robust if: estimate stays the same\n",
    "glm_ran_refuter = min_model.refute_estimate(min_estimand, min_glm_est, \n",
    "                                           method_name=\"random_common_cause\",\n",
    "                                            random_state=random_state,\n",
    "                                           num_simulations=100)"
   ]
  },
  {
   "cell_type": "code",
   "execution_count": 40,
   "id": "c8244b70",
   "metadata": {},
   "outputs": [],
   "source": [
    "glm_ran_refuter_data = data_model.refute_estimate(data_estimand, data_glm_est, \n",
    "                                                  method_name=\"random_common_cause\",\n",
    "                                                  random_state=random_state,\n",
    "                                                  num_simulations=100)"
   ]
  },
  {
   "cell_type": "code",
   "execution_count": 41,
   "id": "b26e2f39",
   "metadata": {},
   "outputs": [],
   "source": [
    "glm_ran_refuter_doc = doc_model.refute_estimate(doc_estimand, doc_glm_est, \n",
    "                                                method_name=\"random_common_cause\", \n",
    "                                                random_state=random_state,\n",
    "                                                num_simulations=100)"
   ]
  },
  {
   "cell_type": "code",
   "execution_count": 42,
   "id": "741086d3",
   "metadata": {},
   "outputs": [
    {
     "name": "stdout",
     "output_type": "stream",
     "text": [
      "Refute: Add a Random Common Cause\n",
      "Estimated effect:-0.10223455200046452\n",
      "New effect:-0.1020681721653284\n",
      "\n",
      "Refute: Add a Random Common Cause\n",
      "Estimated effect:-0.11013202824957304\n",
      "New effect:-0.10908355669957608\n",
      "\n",
      "Refute: Add a Random Common Cause\n",
      "Estimated effect:-0.089481567363489\n",
      "New effect:-0.08840152525066729\n",
      "\n"
     ]
    }
   ],
   "source": [
    "print(glm_ran_refuter)\n",
    "print(glm_ran_refuter_data)\n",
    "print(glm_ran_refuter_doc)"
   ]
  },
  {
   "cell_type": "markdown",
   "id": "0f26740a",
   "metadata": {},
   "source": [
    "2. **Placebo Treatment:** What happens to the estimated causal effect when we replace the true treatment variable with an independent random variable? (Hint: the effect should go to zero)\n",
    "\n",
    "\n",
    "\n",
    "* Note that the placebo type is 'permute' meaning the rows of the treatment variable have been randomly permuted giving the effect of a placebo treatment.\n"
   ]
  },
  {
   "cell_type": "code",
   "execution_count": 43,
   "id": "f2b8dd22",
   "metadata": {},
   "outputs": [],
   "source": [
    "# Robust if: estimate goes to 0\n",
    "glm_placebo_refuter = min_model.refute_estimate(min_estimand, min_glm_est,\n",
    "                                                method_name=\"placebo_treatment_refuter\",\n",
    "                                                num_simulations=100,\n",
    "                                                placebo_type='permute')"
   ]
  },
  {
   "cell_type": "code",
   "execution_count": 44,
   "id": "dc88dc28",
   "metadata": {},
   "outputs": [],
   "source": [
    "glm_placebo_refuter_data = data_model.refute_estimate(data_estimand, data_glm_est,\n",
    "                                                      method_name=\"placebo_treatment_refuter\",\n",
    "                                                      num_simulations=100,\n",
    "                                                      placebo_type='permute')"
   ]
  },
  {
   "cell_type": "code",
   "execution_count": 45,
   "id": "2e2901df",
   "metadata": {},
   "outputs": [],
   "source": [
    "glm_placebo_refuter_doc = doc_model.refute_estimate(doc_estimand, doc_glm_est,\n",
    "                                                      method_name=\"placebo_treatment_refuter\",\n",
    "                                                      num_simulations=100,\n",
    "                                                      placebo_type='permute')"
   ]
  },
  {
   "cell_type": "code",
   "execution_count": 46,
   "id": "1dada461",
   "metadata": {},
   "outputs": [
    {
     "name": "stdout",
     "output_type": "stream",
     "text": [
      "Refute: Use a Placebo Treatment\n",
      "Estimated effect:-0.10223455200046452\n",
      "New effect:0.003826568736197888\n",
      "p value:0.37\n",
      "\n",
      "Refute: Use a Placebo Treatment\n",
      "Estimated effect:-0.11013202824957304\n",
      "New effect:-0.0013890838962148488\n",
      "p value:0.45999999999999996\n",
      "\n",
      "Refute: Use a Placebo Treatment\n",
      "Estimated effect:-0.089481567363489\n",
      "New effect:-0.0026399424073416367\n",
      "p value:0.5\n",
      "\n"
     ]
    }
   ],
   "source": [
    "print(glm_placebo_refuter)\n",
    "print(glm_placebo_refuter_data)\n",
    "print(glm_placebo_refuter_doc)"
   ]
  },
  {
   "cell_type": "markdown",
   "id": "fdc94e7a",
   "metadata": {},
   "source": [
    "3. **Dummy Outcome:** What happens to the estimated causal effect when we replace the true outcome variable with an independent random variable? (Hint: The effect should go to zero)\n",
    "\n",
    "\n",
    "\n",
    "* The result shows that when using a dummy outcome, the **treatment does not lead to the outcome**. The estimated effect is hence a value that tends to zero, which matches our expectation. This shows that if we replace the outcome by randomly generated data, the **estimator correctly predicts that the influence if treatment is zero**."
   ]
  },
  {
   "cell_type": "code",
   "execution_count": 47,
   "id": "5553556c",
   "metadata": {},
   "outputs": [],
   "source": [
    "# Robust if: estimate goes to 0\n",
    "glm_dummy_refuter = min_model.refute_estimate(min_estimand, min_glm_est,\n",
    "                                             method_name=\"dummy_outcome_refuter\", \n",
    "                                              random_state=random_state,\n",
    "                                             num_simulations=100)"
   ]
  },
  {
   "cell_type": "code",
   "execution_count": 48,
   "id": "d275b28d",
   "metadata": {},
   "outputs": [],
   "source": [
    "glm_dummy_refuter_data = data_model.refute_estimate(data_estimand, data_glm_est, \n",
    "                                                    method_name=\"dummy_outcome_refuter\",\n",
    "                                                    random_state=random_state,\n",
    "                                                    num_simulations=100)"
   ]
  },
  {
   "cell_type": "code",
   "execution_count": 49,
   "id": "bd460f67",
   "metadata": {},
   "outputs": [],
   "source": [
    "glm_dummy_refuter_doc = doc_model.refute_estimate(doc_estimand, doc_glm_est, \n",
    "                                                  method_name=\"dummy_outcome_refuter\",\n",
    "                                                  random_state=random_state,\n",
    "                                                  num_simulations=100)"
   ]
  },
  {
   "cell_type": "code",
   "execution_count": 50,
   "id": "d434deff",
   "metadata": {},
   "outputs": [
    {
     "name": "stdout",
     "output_type": "stream",
     "text": [
      "Refute: Use a Dummy Outcome\n",
      "Estimated effect:0\n",
      "New effect:-0.013129861816760893\n",
      "p value:0.79\n",
      "\n",
      "Refute: Use a Dummy Outcome\n",
      "Estimated effect:0\n",
      "New effect:-0.035355704697986566\n",
      "p value:0.47\n",
      "\n",
      "Refute: Use a Dummy Outcome\n",
      "Estimated effect:0\n",
      "New effect:-0.051565656565656565\n",
      "p value:0.27\n",
      "\n"
     ]
    }
   ],
   "source": [
    "print(glm_dummy_refuter[0])\n",
    "print(glm_dummy_refuter_data[0])\n",
    "print(glm_dummy_refuter_doc[0])"
   ]
  },
  {
   "cell_type": "markdown",
   "id": "994b4a4f",
   "metadata": {},
   "source": [
    "4. **Data Subsets Validation:** Does the estimated effect change significantly when we replace the given dataset with a randomly selected subset? (Hint: It should not)"
   ]
  },
  {
   "cell_type": "code",
   "execution_count": 51,
   "id": "ed164a0f",
   "metadata": {},
   "outputs": [],
   "source": [
    "# Robust if: estimate stays the same\n",
    "glm_subset_refuter = min_model.refute_estimate(min_estimand, min_glm_est, \n",
    "                                               method_name=\"data_subset_refuter\", \n",
    "                                               random_state=random_state,\n",
    "                                               subset_fraction=0.75, num_simulations=100)"
   ]
  },
  {
   "cell_type": "code",
   "execution_count": 52,
   "id": "f9543cf0",
   "metadata": {},
   "outputs": [],
   "source": [
    "glm_subset_refuter_data = data_model.refute_estimate(data_estimand, data_glm_est, \n",
    "                                                     method_name=\"data_subset_refuter\",\n",
    "                                                     random_state=random_state,\n",
    "                                                     subset_fraction=0.75, num_simulations=100)"
   ]
  },
  {
   "cell_type": "code",
   "execution_count": 53,
   "id": "3bd4a18d",
   "metadata": {},
   "outputs": [],
   "source": [
    "glm_subset_refuter_doc = doc_model.refute_estimate(doc_estimand, doc_glm_est, \n",
    "                                                   method_name=\"data_subset_refuter\", \n",
    "                                                   random_state=random_state,\n",
    "                                                   subset_fraction=0.75, \n",
    "                                                   num_simulations=100)"
   ]
  },
  {
   "cell_type": "code",
   "execution_count": 54,
   "id": "3ee3323e",
   "metadata": {},
   "outputs": [
    {
     "name": "stdout",
     "output_type": "stream",
     "text": [
      "Refute: Use a subset of data\n",
      "Estimated effect:-0.10223455200046452\n",
      "New effect:-0.08664362318353941\n",
      "p value:0.0\n",
      "\n",
      "Refute: Use a subset of data\n",
      "Estimated effect:-0.11013202824957304\n",
      "New effect:-0.09804600027368045\n",
      "p value:0.0\n",
      "\n",
      "Refute: Use a subset of data\n",
      "Estimated effect:-0.089481567363489\n",
      "New effect:-0.08120884952964555\n",
      "p value:0.0\n",
      "\n"
     ]
    }
   ],
   "source": [
    "print(glm_subset_refuter)\n",
    "print(glm_subset_refuter_data)\n",
    "print(glm_subset_refuter_doc)"
   ]
  },
  {
   "cell_type": "markdown",
   "id": "28c5b320",
   "metadata": {},
   "source": [
    "5. **Bootstrap Validation:** Does the estimated effect change significantly when we replace the given dataset with bootstrapped samples from the same dataset? (Hint: It should not)"
   ]
  },
  {
   "cell_type": "code",
   "execution_count": 55,
   "id": "3fb77057",
   "metadata": {},
   "outputs": [],
   "source": [
    "# Robust if: estimate stays the same\n",
    "glm_bootstrap_refuter = min_model.refute_estimate(min_estimand, min_glm_est, \n",
    "                                                  method_name=\"bootstrap_refuter\",\n",
    "                                                  random_state=random_state,\n",
    "                                                  num_simulations=100)"
   ]
  },
  {
   "cell_type": "code",
   "execution_count": 56,
   "id": "dac44de5",
   "metadata": {},
   "outputs": [],
   "source": [
    "glm_bootstrap_refuter_data = data_model.refute_estimate(data_estimand, data_glm_est, \n",
    "                                                        method_name=\"bootstrap_refuter\", \n",
    "                                                        random_state=random_state,\n",
    "                                                        num_simulations=100)"
   ]
  },
  {
   "cell_type": "code",
   "execution_count": 57,
   "id": "6cf5bdc8",
   "metadata": {},
   "outputs": [],
   "source": [
    "glm_bootstrap_refuter_doc = doc_model.refute_estimate(doc_estimand, doc_glm_est, \n",
    "                                                      method_name=\"bootstrap_refuter\", \n",
    "                                                      random_state=random_state,\n",
    "                                                      num_simulations=100)"
   ]
  },
  {
   "cell_type": "code",
   "execution_count": 58,
   "id": "ce380859",
   "metadata": {},
   "outputs": [
    {
     "name": "stdout",
     "output_type": "stream",
     "text": [
      "Refute: Bootstrap Sample Dataset\n",
      "Estimated effect:-0.10223455200046452\n",
      "New effect:-0.1545526170268962\n",
      "p value:0.0\n",
      "\n",
      "Refute: Bootstrap Sample Dataset\n",
      "Estimated effect:-0.11013202824957304\n",
      "New effect:-0.18130039082857297\n",
      "p value:0.0\n",
      "\n",
      "Refute: Bootstrap Sample Dataset\n",
      "Estimated effect:-0.089481567363489\n",
      "New effect:-0.12884006252359614\n",
      "p value:0.0\n",
      "\n"
     ]
    }
   ],
   "source": [
    "print(glm_bootstrap_refuter)\n",
    "print(glm_bootstrap_refuter_data)\n",
    "print(glm_bootstrap_refuter_doc)"
   ]
  }
 ],
 "metadata": {
  "kernelspec": {
   "display_name": "Python 3",
   "language": "python",
   "name": "python3"
  },
  "language_info": {
   "codemirror_mode": {
    "name": "ipython",
    "version": 3
   },
   "file_extension": ".py",
   "mimetype": "text/x-python",
   "name": "python",
   "nbconvert_exporter": "python",
   "pygments_lexer": "ipython3",
   "version": "3.7.7"
  }
 },
 "nbformat": 4,
 "nbformat_minor": 5
}
