{
 "cells": [
  {
   "cell_type": "code",
   "execution_count": 1,
   "id": "beadb879",
   "metadata": {},
   "outputs": [],
   "source": [
    "# General Imports\n",
    "import pandas as pd\n",
    "import numpy as np\n",
    "import seaborn as sns\n",
    "import matplotlib.pyplot as plt\n",
    "import matplotlib.patches as mpatches\n",
    "import matplotlib.gridspec as gridspec\n",
    "import warnings\n",
    "import scipy.spatial\n",
    "from scipy import stats\n",
    "import itertools\n",
    "warnings.filterwarnings('ignore')\n",
    "\n",
    "\n",
    "# PyPair imports\n",
    "from pypair.association import binary_binary\n",
    "from pypair.contingency import BinaryTable\n",
    "from pypair.association import categorical_categorical\n",
    "from pypair.contingency import CategoricalTable\n",
    "from pypair.association import continuous_continuous\n",
    "from pypair.association import binary_continuous\n",
    "from pypair.biserial import Biserial\n",
    "\n",
    "\n",
    "# See entire Dataframes\n",
    "pd.set_option('display.max_rows', None)\n",
    "pd.set_option('display.max_columns', None)\n",
    "pd.set_option('display.width', None)\n",
    "pd.set_option('display.max_colwidth', -1)"
   ]
  },
  {
   "cell_type": "code",
   "execution_count": 2,
   "id": "d4ed8714",
   "metadata": {},
   "outputs": [],
   "source": [
    "# I/O Stuff\n",
    "DATA_FILENAME = \"csdh_clean.csv\"\n",
    "DATA_FILEPATH = \"/Users/callum/Uni/GitHubRepos/surviving-the-icu/datasets/drain_data/\" + DATA_FILENAME\n",
    "csdh = pd.read_csv(DATA_FILEPATH)"
   ]
  },
  {
   "cell_type": "code",
   "execution_count": 3,
   "id": "e7ea2afc",
   "metadata": {},
   "outputs": [
    {
     "data": {
      "text/plain": [
       "7.717041800643088"
      ]
     },
     "execution_count": 3,
     "metadata": {},
     "output_type": "execute_result"
    }
   ],
   "source": [
    "len(csdh[(csdh['recurrence'] == 1) & (csdh['drain'] == 1)]) / csdh[(csdh['drain'] == 1)].shape[0] * 100"
   ]
  },
  {
   "cell_type": "code",
   "execution_count": 4,
   "id": "fbba6c8c",
   "metadata": {},
   "outputs": [
    {
     "data": {
      "text/plain": [
       "17.073170731707318"
      ]
     },
     "execution_count": 4,
     "metadata": {},
     "output_type": "execute_result"
    }
   ],
   "source": [
    "len(csdh[(csdh['recurrence'] == 1) & (csdh['drain'] == 0)]) / csdh[(csdh['drain'] == 0)].shape[0] * 100"
   ]
  },
  {
   "cell_type": "code",
   "execution_count": 5,
   "id": "b9786a2a",
   "metadata": {},
   "outputs": [],
   "source": [
    "# Mapping bedrest to categorical variable\n",
    "csdh['bedrest'] = csdh['bedrest'].map({'None':0, '<12hrs':1, '12-24hrs':2, '25-48hrs':3, '>48hrs':4})"
   ]
  },
  {
   "cell_type": "code",
   "execution_count": 6,
   "id": "5d841646",
   "metadata": {},
   "outputs": [],
   "source": [
    "# Seperating columns of csdh by variable type\n",
    "\n",
    "# Binary cols\n",
    "bin_cols = ['diabetes', 'dementia', 'copd', 'stroke', 'ihd', 'arrhythmia', 'epilepsy',\n",
    "            'shunt', 'malignancy', 'metalvalve', 'headinjury', 'adm_cogimpair', 'adm_incontinence',\n",
    "            'adm_gait', 'adm_dysphasia', 'adm_headache', 'adm_facialdroop', 'antithrombotics', \n",
    "            'antiplatelet', 'membranes', 'steroid', 'drain', 'recurrence', 'bilateral'\n",
    "           ]\n",
    "# Continuous cols\n",
    "cont_cols = ['age', 'inr', 'platelet', 'midlineshift','thickness_sum', 'thickness_r', 'thickness_l',\n",
    "             'thickness_cleaned', 'thickness_avg', 'thickness_max'\n",
    "            ]\n",
    "# Categorical cols\n",
    "cat_cols = [i for i in list(csdh.columns) if i not in (cont_cols+bin_cols)]\n",
    "\n",
    "cont_cols.remove('thickness_cleaned')\n",
    "\n",
    "csdh_cat = csdh[cat_cols]\n",
    "csdh_cont = csdh[cont_cols]\n",
    "csdh_bin = csdh[bin_cols]"
   ]
  },
  {
   "cell_type": "markdown",
   "id": "9e4f1e0b",
   "metadata": {},
   "source": [
    "---\n",
    "## Binary-Binary: \n",
    "* The $\\chi^2$ test statistic is computed for the hypothesis test of independence between the observed frequencies in the contingency table.\n",
    "* $\\chi^2$ has 1 DOF for 2x2 contingency tables.\n",
    "* For significant dependence between two binary variables(i.e 95% significance), we only look at variables where $\\chi^2 > 3.841$"
   ]
  },
  {
   "cell_type": "markdown",
   "id": "58ead07b",
   "metadata": {},
   "source": [
    "**Relevant Relationships:**\n",
    "* **antiplatelet** - stroke 40.84\n",
    "* ihd - **antiplatelet** 38.043\n",
    "* diabetes - ihd 38.043\n",
    "* copd - membranes 21.370\n",
    "* **metalvalve - recurrence** 13.5093\n",
    "* arrhythmia - ihd 11.926\n",
    "* **drain - recurrence** 11.531\n",
    "* **ihd - recurrence** 6.973\n",
    "* **drain - adm_cogimpair** 4.573\n",
    "* **drain - adm_incontinence** 3.944"
   ]
  },
  {
   "cell_type": "code",
   "execution_count": 7,
   "id": "92083d9e",
   "metadata": {},
   "outputs": [],
   "source": [
    "def get_chisq_pval(chisq, dof):\n",
    "    \"\"\"\n",
    "       Input: value of chisq\n",
    "       Output: corresponding chisq p-value (dof)\n",
    "    \"\"\"\n",
    "    return 1 - stats.chi2.cdf(chisq, dof)"
   ]
  },
  {
   "cell_type": "code",
   "execution_count": 8,
   "id": "5ca11ea5",
   "metadata": {},
   "outputs": [],
   "source": [
    "# Use PyPair to compute chisq between all binary variables\n",
    "chisq = lambda a, b: binary_binary(a, b, measure='chisq')\n",
    "chisq_corr = csdh_bin.corr(method=chisq)\n",
    "\n",
    "# Unstack table intop list\n",
    "bin_corr_list = chisq_corr.unstack()\n",
    "bin_corr_list = bin_corr_list.sort_values(kind=\"quicksort\")[::-1]\n",
    "\n",
    "# Filter out pairs where null hypothesis could not be rejected\n",
    "sig_mask = bin_corr_list > 3.841\n",
    "sig_bin = bin_corr_list[sig_mask]"
   ]
  },
  {
   "cell_type": "code",
   "execution_count": 9,
   "id": "b6e264e6",
   "metadata": {},
   "outputs": [],
   "source": [
    "# Form dataframe of chisq and pvals\n",
    "sig_bin_ps = get_chisq_pval(sig_bin.values, 1)\n",
    "sig_bin_df = sig_bin.to_frame()\n",
    "sig_bin_df = sig_bin_df.rename(columns = {0:'chisq'})\n",
    "sig_bin_df['p_val'] = sig_bin_ps"
   ]
  },
  {
   "cell_type": "code",
   "execution_count": 10,
   "id": "f3fc1750",
   "metadata": {},
   "outputs": [],
   "source": [
    "sig_bin_df = sig_bin_df.sort_values(by='p_val')"
   ]
  },
  {
   "cell_type": "code",
   "execution_count": 11,
   "id": "b010a73a",
   "metadata": {},
   "outputs": [],
   "source": [
    "sig_bin_df.to_csv('bin_bin.csv')"
   ]
  },
  {
   "cell_type": "markdown",
   "id": "1b00c79d",
   "metadata": {},
   "source": [
    "--- \n",
    "## Categorical-Categorical\n",
    "* Very little association could be found between the categorical variables.\n",
    "* We care most about `adm_mrs` and was independent of almost all other categorical variables"
   ]
  },
  {
   "cell_type": "code",
   "execution_count": 12,
   "id": "eadadb24",
   "metadata": {},
   "outputs": [],
   "source": [
    "cat_cat_df = pd.DataFrame(columns=['pair', 'chisq', 'p_val'])\n",
    "# Cartesian product of binary and continous variables\n",
    "combs = itertools.product(cat_cols, cat_cols)\n"
   ]
  },
  {
   "cell_type": "code",
   "execution_count": 13,
   "id": "607f0549",
   "metadata": {},
   "outputs": [],
   "source": [
    "for cat1, cat2 in combs:\n",
    "    contingency_table = pd.crosstab(csdh[cat1], csdh[cat2])\n",
    "    chi2, p_val, _, _ = scipy.stats.chi2_contingency(contingency_table)\n",
    "    if cat1 != cat2:\n",
    "        cat_cat_df = cat_cat_df.append({'pair':(cat1, cat2), 'chisq':chi2, 'p_val':p_val}, ignore_index=True)"
   ]
  },
  {
   "cell_type": "code",
   "execution_count": 14,
   "id": "6919739f",
   "metadata": {},
   "outputs": [],
   "source": [
    "cat_cat_df = cat_cat_df[cat_cat_df['p_val'] < 5e-02].sort_values(by='p_val')"
   ]
  },
  {
   "cell_type": "code",
   "execution_count": 15,
   "id": "5e4508a0",
   "metadata": {},
   "outputs": [],
   "source": [
    "cat_cat_df.to_csv('cat_cat.csv')"
   ]
  },
  {
   "cell_type": "markdown",
   "id": "285ef298",
   "metadata": {},
   "source": [
    "---\n",
    "## Continuous-Continuous\n",
    "* Can simply use Pearson correlation coefficient, $\\rho$.\n",
    "\n",
    "**Relevant Relationships:**\n",
    "* age - thickness_sum 0.219\n",
    "* midlineshift - platelet 0.0978\n",
    "* gcs_preop - midlineshift -0.174\n",
    "* midlineshift - thickness_sum -0.1449\n",
    "* inr - platelet -0.104\n",
    "* midlineshift - age -0.1\n",
    "* platelet - thickness_sum -0.0954"
   ]
  },
  {
   "cell_type": "code",
   "execution_count": 16,
   "id": "9d042ecb",
   "metadata": {},
   "outputs": [],
   "source": [
    "def pearsonr_pval(x, y):\n",
    "    \"\"\"\n",
    "        Input: two variables x and y\n",
    "        Output: p-value of Pearson correaltion\n",
    "    \"\"\"\n",
    "    return scipy.stats.pearsonr(x,y)[1]"
   ]
  },
  {
   "cell_type": "code",
   "execution_count": 17,
   "id": "9ea6a804",
   "metadata": {},
   "outputs": [],
   "source": [
    "cont_corr = csdh_cont.corr(method='pearson')"
   ]
  },
  {
   "cell_type": "code",
   "execution_count": 18,
   "id": "36697d43",
   "metadata": {},
   "outputs": [],
   "source": [
    "cont_corr_p = csdh_cont.corr(method=pearsonr_pval)"
   ]
  },
  {
   "cell_type": "code",
   "execution_count": 19,
   "id": "831914e1",
   "metadata": {},
   "outputs": [],
   "source": [
    "# Unstack table intop list\n",
    "cont_corr_list = cont_corr.unstack()\n",
    "cont_corr_list = cont_corr_list.sort_values(kind='quicksort')[::-1]\n",
    "\n",
    "cont_corr_p_list = cont_corr_p.unstack()\n",
    "cont_corr_p_list = cont_corr_p_list.sort_values(kind='quicksort')[::-1]"
   ]
  },
  {
   "cell_type": "code",
   "execution_count": 20,
   "id": "0725db85",
   "metadata": {},
   "outputs": [],
   "source": [
    "cont_corr_df = cont_corr_list.to_frame()\n",
    "cont_corr_df = cont_corr_df.rename(columns = {0:'rho'})\n",
    "cont_corr_df['p_val'] = cont_corr_p_list"
   ]
  },
  {
   "cell_type": "code",
   "execution_count": 21,
   "id": "d85b285e",
   "metadata": {},
   "outputs": [],
   "source": [
    "sig_cont_corr_df = cont_corr_df.loc[cont_corr_df['p_val'] <= 5e-02].sort_values(by='p_val')"
   ]
  },
  {
   "cell_type": "code",
   "execution_count": 22,
   "id": "2f509290",
   "metadata": {},
   "outputs": [],
   "source": [
    "sig_cont_corr_df.to_csv('cont_cont.csv')"
   ]
  },
  {
   "cell_type": "markdown",
   "id": "463aeec8",
   "metadata": {},
   "source": [
    "---\n",
    "## Binary-Categorical"
   ]
  },
  {
   "cell_type": "code",
   "execution_count": 23,
   "id": "bd0047f8",
   "metadata": {},
   "outputs": [],
   "source": [
    "bin_cat_df = pd.DataFrame(columns=['pair', 'chisq', 'p_val'])\n",
    "# Cartesian product of binary and continous variables\n",
    "combs = itertools.product(bin_cols, cat_cols)"
   ]
  },
  {
   "cell_type": "code",
   "execution_count": 24,
   "id": "b11ebb3e",
   "metadata": {},
   "outputs": [],
   "source": [
    "for binary, cat in combs:\n",
    "    contingency_table = pd.crosstab(csdh[binary], csdh[cat])\n",
    "    chi2, p_val, _, _ = scipy.stats.chi2_contingency(contingency_table)\n",
    "    bin_cat_df = bin_cat_df.append({'pair':(binary, cat), 'chisq':chi2, 'p_val':p_val}, ignore_index=True)"
   ]
  },
  {
   "cell_type": "code",
   "execution_count": 25,
   "id": "0eac2d2a",
   "metadata": {},
   "outputs": [],
   "source": [
    "bin_cat_df = bin_cat_df[bin_cat_df['p_val'] < 5e-02].sort_values(by='p_val')"
   ]
  },
  {
   "cell_type": "code",
   "execution_count": 26,
   "id": "50ea04ec",
   "metadata": {},
   "outputs": [],
   "source": [
    "bin_cat_df.to_csv('bin_cat.csv')"
   ]
  },
  {
   "cell_type": "markdown",
   "id": "5bd8f8b4",
   "metadata": {},
   "source": [
    "---\n",
    "## Binary-Continuous\n",
    "* Point biserial correlation coefficient provides a meaninful measure of association between binary and continuous variables\n",
    "\n",
    "**Relevant Relationships:**\n",
    "* bilateral - midlineshift -0.434\n",
    "* arrhythmia - inr 0.239\n",
    "* membranes - thickness_sum 0.216\n",
    "* ihd - age 0.207\n",
    "* antiplatelet - age 0.1510\n",
    "* **drain - age** 0.1457\n",
    "* **recurrence, thickness_sum**\t0.082071\n",
    "* **drain, thickness_sum** 0.090699"
   ]
  },
  {
   "cell_type": "code",
   "execution_count": 27,
   "id": "ba01deb8",
   "metadata": {},
   "outputs": [],
   "source": [
    "bin_cont_df = pd.DataFrame(columns=['pair', 'rho', 'p_val'])"
   ]
  },
  {
   "cell_type": "code",
   "execution_count": 28,
   "id": "fd162711",
   "metadata": {},
   "outputs": [],
   "source": [
    "# Cartesian product of binary and continous variables\n",
    "combs = itertools.product(bin_cols, cont_cols)"
   ]
  },
  {
   "cell_type": "code",
   "execution_count": 29,
   "id": "d8a4b8c5",
   "metadata": {},
   "outputs": [],
   "source": [
    "for binary, cont in combs:\n",
    "    rho, p_val = scipy.stats.pointbiserialr(csdh[binary], csdh[cont])\n",
    "    bin_cont_df = bin_cont_df.append({'pair':(binary, cont), 'rho':rho, 'p_val':p_val}, ignore_index=True)"
   ]
  },
  {
   "cell_type": "code",
   "execution_count": 30,
   "id": "607e5aa2",
   "metadata": {},
   "outputs": [],
   "source": [
    "bin_cont_df = bin_cont_df[bin_cont_df['p_val'] < 5e-02].sort_values(by='p_val')"
   ]
  },
  {
   "cell_type": "code",
   "execution_count": 31,
   "id": "42f9a88a",
   "metadata": {},
   "outputs": [],
   "source": [
    "bin_cont_df.to_csv('bin_cont.csv')"
   ]
  },
  {
   "cell_type": "markdown",
   "id": "cce5f138",
   "metadata": {},
   "source": [
    "---\n",
    "## Categorical-Continuous\n",
    "- point biserial"
   ]
  },
  {
   "cell_type": "code",
   "execution_count": 32,
   "id": "342713a0",
   "metadata": {},
   "outputs": [],
   "source": [
    "cat_cont_df = pd.DataFrame(columns=['pair', 'rho', 'p_val'])"
   ]
  },
  {
   "cell_type": "code",
   "execution_count": 33,
   "id": "04941302",
   "metadata": {},
   "outputs": [],
   "source": [
    "# Point biserial cannot have variables with NaNs (sorry)\n",
    "cat_cols.remove('drain_days')\n",
    "cat_cols.remove('drain_entry')\n",
    "cat_cols.remove('burrhole_num')\n",
    "cat_cols.remove('drain_end')\n",
    "cat_cols.remove('csdhcolour')\n",
    "cat_cols.remove('timetoop_corrected')\n",
    "# Cartesian product of binary and continous variables\n",
    "combs = itertools.product(cat_cols, cont_cols)"
   ]
  },
  {
   "cell_type": "code",
   "execution_count": 34,
   "id": "8e227957",
   "metadata": {},
   "outputs": [],
   "source": [
    "for cat, cont in combs:\n",
    "    rho, p_val = scipy.stats.pointbiserialr(csdh[cat], csdh[cont])\n",
    "    cat_cont_df = cat_cont_df.append({'pair':(cat, cont), 'rho':rho, 'p_val':p_val}, ignore_index=True)"
   ]
  },
  {
   "cell_type": "code",
   "execution_count": 35,
   "id": "e9c20c46",
   "metadata": {},
   "outputs": [],
   "source": [
    "cat_cont_df = cat_cont_df[cat_cont_df['p_val'] < 5e-02].sort_values(by='p_val')"
   ]
  },
  {
   "cell_type": "code",
   "execution_count": 36,
   "id": "6d55097b",
   "metadata": {},
   "outputs": [],
   "source": [
    "cat_cont_df.to_csv('cat_cont.csv')"
   ]
  },
  {
   "cell_type": "markdown",
   "id": "653fa62f",
   "metadata": {},
   "source": [
    "\n",
    "\n",
    "## Drain\n",
    "\n",
    "### Point Biserial\n",
    "\n",
    "|Pair | $\\rho$ | p value|\n",
    "|--- | --- | ---|\n",
    "|(drain, inr)|0.074753|4.137233e-02|\n",
    "|(drain, thickness_sum)|0.090699|1.326631e-02|\n",
    "|(drain, age)|0.145738|6.536865e-05|\n",
    "\n",
    "### $\\chi^2$ Contingency\n",
    "\n",
    "|Pair | $\\chi^2$ | p value|\n",
    "|--- | --- | ---|\n",
    "|(drain, bedrest)\t        |11.456079\t|2.188934e-02|\n",
    "|(drain, adm_mrs)\t        |15.218497\t|9.468413e-03|\n",
    "|(drain, optype)\t        |20.755575\t|3.111602e-05|\n",
    "|(drain, burrhole_num)\t    |20.642463\t|3.292654e-05|\n",
    "|(drain, hospital)\t        |162.58674 |3.885046e-22|\n",
    "|(drain, adm_cogimpair)    |4.573429\t|3.247150e-02|\n",
    "|(drain, recurrence)\t    |11.531058\t|6.844305e-04|\n",
    "|(drain, adm_incontinence) |3.924427\t|4.758941e-02|\n",
    "\n"
   ]
  },
  {
   "cell_type": "code",
   "execution_count": 37,
   "id": "ce055c06",
   "metadata": {},
   "outputs": [
    {
     "data": {
      "text/html": [
       "<div>\n",
       "<style scoped>\n",
       "    .dataframe tbody tr th:only-of-type {\n",
       "        vertical-align: middle;\n",
       "    }\n",
       "\n",
       "    .dataframe tbody tr th {\n",
       "        vertical-align: top;\n",
       "    }\n",
       "\n",
       "    .dataframe thead th {\n",
       "        text-align: right;\n",
       "    }\n",
       "</style>\n",
       "<table border=\"1\" class=\"dataframe\">\n",
       "  <thead>\n",
       "    <tr style=\"text-align: right;\">\n",
       "      <th>hospital</th>\n",
       "      <th>1</th>\n",
       "      <th>2</th>\n",
       "      <th>3</th>\n",
       "      <th>4</th>\n",
       "      <th>5</th>\n",
       "      <th>6</th>\n",
       "      <th>7</th>\n",
       "      <th>8</th>\n",
       "      <th>9</th>\n",
       "      <th>10</th>\n",
       "      <th>11</th>\n",
       "      <th>12</th>\n",
       "      <th>13</th>\n",
       "      <th>14</th>\n",
       "      <th>15</th>\n",
       "      <th>16</th>\n",
       "      <th>17</th>\n",
       "      <th>18</th>\n",
       "      <th>19</th>\n",
       "      <th>20</th>\n",
       "      <th>21</th>\n",
       "      <th>22</th>\n",
       "      <th>23</th>\n",
       "      <th>24</th>\n",
       "      <th>25</th>\n",
       "      <th>26</th>\n",
       "    </tr>\n",
       "    <tr>\n",
       "      <th>drain</th>\n",
       "      <th></th>\n",
       "      <th></th>\n",
       "      <th></th>\n",
       "      <th></th>\n",
       "      <th></th>\n",
       "      <th></th>\n",
       "      <th></th>\n",
       "      <th></th>\n",
       "      <th></th>\n",
       "      <th></th>\n",
       "      <th></th>\n",
       "      <th></th>\n",
       "      <th></th>\n",
       "      <th></th>\n",
       "      <th></th>\n",
       "      <th></th>\n",
       "      <th></th>\n",
       "      <th></th>\n",
       "      <th></th>\n",
       "      <th></th>\n",
       "      <th></th>\n",
       "      <th></th>\n",
       "      <th></th>\n",
       "      <th></th>\n",
       "      <th></th>\n",
       "      <th></th>\n",
       "    </tr>\n",
       "  </thead>\n",
       "  <tbody>\n",
       "    <tr>\n",
       "      <th>0</th>\n",
       "      <td>8</td>\n",
       "      <td>1</td>\n",
       "      <td>2</td>\n",
       "      <td>2</td>\n",
       "      <td>2</td>\n",
       "      <td>37</td>\n",
       "      <td>1</td>\n",
       "      <td>1</td>\n",
       "      <td>0</td>\n",
       "      <td>2</td>\n",
       "      <td>0</td>\n",
       "      <td>0</td>\n",
       "      <td>7</td>\n",
       "      <td>2</td>\n",
       "      <td>1</td>\n",
       "      <td>2</td>\n",
       "      <td>16</td>\n",
       "      <td>1</td>\n",
       "      <td>4</td>\n",
       "      <td>3</td>\n",
       "      <td>3</td>\n",
       "      <td>2</td>\n",
       "      <td>11</td>\n",
       "      <td>2</td>\n",
       "      <td>6</td>\n",
       "      <td>7</td>\n",
       "    </tr>\n",
       "    <tr>\n",
       "      <th>1</th>\n",
       "      <td>71</td>\n",
       "      <td>29</td>\n",
       "      <td>26</td>\n",
       "      <td>35</td>\n",
       "      <td>34</td>\n",
       "      <td>46</td>\n",
       "      <td>25</td>\n",
       "      <td>6</td>\n",
       "      <td>51</td>\n",
       "      <td>47</td>\n",
       "      <td>19</td>\n",
       "      <td>22</td>\n",
       "      <td>14</td>\n",
       "      <td>0</td>\n",
       "      <td>15</td>\n",
       "      <td>7</td>\n",
       "      <td>14</td>\n",
       "      <td>38</td>\n",
       "      <td>5</td>\n",
       "      <td>11</td>\n",
       "      <td>3</td>\n",
       "      <td>13</td>\n",
       "      <td>17</td>\n",
       "      <td>24</td>\n",
       "      <td>21</td>\n",
       "      <td>29</td>\n",
       "    </tr>\n",
       "  </tbody>\n",
       "</table>\n",
       "</div>"
      ],
      "text/plain": [
       "hospital   1   2   3   4   5   6   7  8   9  10  11  12  13  14  15  16  17  \\\n",
       "drain                                                                         \n",
       "0         8   1   2   2   2   37  1   1  0   2   0   0   7   2   1   2   16   \n",
       "1         71  29  26  35  34  46  25  6  51  47  19  22  14  0   15  7   14   \n",
       "\n",
       "hospital  18  19  20  21  22  23  24  25  26  \n",
       "drain                                         \n",
       "0         1   4   3   3   2   11  2   6   7   \n",
       "1         38  5   11  3   13  17  24  21  29  "
      ]
     },
     "execution_count": 37,
     "metadata": {},
     "output_type": "execute_result"
    }
   ],
   "source": [
    "hosp_table = pd.crosstab(csdh['drain'], csdh['hospital'])\n",
    "hosp_table"
   ]
  },
  {
   "cell_type": "code",
   "execution_count": 38,
   "id": "7cf8a74f",
   "metadata": {},
   "outputs": [
    {
     "data": {
      "text/html": [
       "<div>\n",
       "<style scoped>\n",
       "    .dataframe tbody tr th:only-of-type {\n",
       "        vertical-align: middle;\n",
       "    }\n",
       "\n",
       "    .dataframe tbody tr th {\n",
       "        vertical-align: top;\n",
       "    }\n",
       "\n",
       "    .dataframe thead th {\n",
       "        text-align: right;\n",
       "    }\n",
       "</style>\n",
       "<table border=\"1\" class=\"dataframe\">\n",
       "  <thead>\n",
       "    <tr style=\"text-align: right;\">\n",
       "      <th>adm_mrs</th>\n",
       "      <th>0</th>\n",
       "      <th>1</th>\n",
       "      <th>2</th>\n",
       "      <th>3</th>\n",
       "      <th>4</th>\n",
       "      <th>5</th>\n",
       "    </tr>\n",
       "    <tr>\n",
       "      <th>drain</th>\n",
       "      <th></th>\n",
       "      <th></th>\n",
       "      <th></th>\n",
       "      <th></th>\n",
       "      <th></th>\n",
       "      <th></th>\n",
       "    </tr>\n",
       "  </thead>\n",
       "  <tbody>\n",
       "    <tr>\n",
       "      <th>0</th>\n",
       "      <td>3</td>\n",
       "      <td>33</td>\n",
       "      <td>17</td>\n",
       "      <td>22</td>\n",
       "      <td>39</td>\n",
       "      <td>9</td>\n",
       "    </tr>\n",
       "    <tr>\n",
       "      <th>1</th>\n",
       "      <td>10</td>\n",
       "      <td>86</td>\n",
       "      <td>134</td>\n",
       "      <td>127</td>\n",
       "      <td>206</td>\n",
       "      <td>59</td>\n",
       "    </tr>\n",
       "  </tbody>\n",
       "</table>\n",
       "</div>"
      ],
      "text/plain": [
       "adm_mrs   0   1    2    3    4   5\n",
       "drain                             \n",
       "0        3   33  17   22   39   9 \n",
       "1        10  86  134  127  206  59"
      ]
     },
     "execution_count": 38,
     "metadata": {},
     "output_type": "execute_result"
    }
   ],
   "source": [
    "mrs_table = pd.crosstab(csdh['drain'], csdh['adm_mrs'])\n",
    "mrs_table"
   ]
  },
  {
   "cell_type": "code",
   "execution_count": 39,
   "id": "a46c3758",
   "metadata": {},
   "outputs": [
    {
     "data": {
      "text/html": [
       "<div>\n",
       "<style scoped>\n",
       "    .dataframe tbody tr th:only-of-type {\n",
       "        vertical-align: middle;\n",
       "    }\n",
       "\n",
       "    .dataframe tbody tr th {\n",
       "        vertical-align: top;\n",
       "    }\n",
       "\n",
       "    .dataframe thead th {\n",
       "        text-align: right;\n",
       "    }\n",
       "</style>\n",
       "<table border=\"1\" class=\"dataframe\">\n",
       "  <thead>\n",
       "    <tr style=\"text-align: right;\">\n",
       "      <th>optype</th>\n",
       "      <th>1</th>\n",
       "      <th>2</th>\n",
       "      <th>3</th>\n",
       "    </tr>\n",
       "    <tr>\n",
       "      <th>drain</th>\n",
       "      <th></th>\n",
       "      <th></th>\n",
       "      <th></th>\n",
       "    </tr>\n",
       "  </thead>\n",
       "  <tbody>\n",
       "    <tr>\n",
       "      <th>0</th>\n",
       "      <td>101</td>\n",
       "      <td>14</td>\n",
       "      <td>8</td>\n",
       "    </tr>\n",
       "    <tr>\n",
       "      <th>1</th>\n",
       "      <td>563</td>\n",
       "      <td>54</td>\n",
       "      <td>5</td>\n",
       "    </tr>\n",
       "  </tbody>\n",
       "</table>\n",
       "</div>"
      ],
      "text/plain": [
       "optype    1   2  3\n",
       "drain             \n",
       "0       101  14  8\n",
       "1       563  54  5"
      ]
     },
     "execution_count": 39,
     "metadata": {},
     "output_type": "execute_result"
    }
   ],
   "source": [
    "op_table = pd.crosstab(csdh['drain'], csdh['optype'])\n",
    "op_table"
   ]
  },
  {
   "cell_type": "code",
   "execution_count": 40,
   "id": "e6b2bbd5",
   "metadata": {},
   "outputs": [
    {
     "data": {
      "text/html": [
       "<div>\n",
       "<style scoped>\n",
       "    .dataframe tbody tr th:only-of-type {\n",
       "        vertical-align: middle;\n",
       "    }\n",
       "\n",
       "    .dataframe tbody tr th {\n",
       "        vertical-align: top;\n",
       "    }\n",
       "\n",
       "    .dataframe thead th {\n",
       "        text-align: right;\n",
       "    }\n",
       "</style>\n",
       "<table border=\"1\" class=\"dataframe\">\n",
       "  <thead>\n",
       "    <tr style=\"text-align: right;\">\n",
       "      <th>burrhole_num</th>\n",
       "      <th>1.0</th>\n",
       "      <th>2.0</th>\n",
       "      <th>3.0</th>\n",
       "    </tr>\n",
       "    <tr>\n",
       "      <th>drain</th>\n",
       "      <th></th>\n",
       "      <th></th>\n",
       "      <th></th>\n",
       "    </tr>\n",
       "  </thead>\n",
       "  <tbody>\n",
       "    <tr>\n",
       "      <th>0</th>\n",
       "      <td>25</td>\n",
       "      <td>67</td>\n",
       "      <td>3</td>\n",
       "    </tr>\n",
       "    <tr>\n",
       "      <th>1</th>\n",
       "      <td>48</td>\n",
       "      <td>431</td>\n",
       "      <td>20</td>\n",
       "    </tr>\n",
       "  </tbody>\n",
       "</table>\n",
       "</div>"
      ],
      "text/plain": [
       "burrhole_num  1.0  2.0  3.0\n",
       "drain                      \n",
       "0             25   67   3  \n",
       "1             48   431  20 "
      ]
     },
     "execution_count": 40,
     "metadata": {},
     "output_type": "execute_result"
    }
   ],
   "source": [
    "hole_table = pd.crosstab(csdh['drain'], csdh['burrhole_num'])\n",
    "hole_table"
   ]
  },
  {
   "cell_type": "code",
   "execution_count": 41,
   "id": "39938abe",
   "metadata": {},
   "outputs": [
    {
     "data": {
      "text/html": [
       "<div>\n",
       "<style scoped>\n",
       "    .dataframe tbody tr th:only-of-type {\n",
       "        vertical-align: middle;\n",
       "    }\n",
       "\n",
       "    .dataframe tbody tr th {\n",
       "        vertical-align: top;\n",
       "    }\n",
       "\n",
       "    .dataframe thead th {\n",
       "        text-align: right;\n",
       "    }\n",
       "</style>\n",
       "<table border=\"1\" class=\"dataframe\">\n",
       "  <thead>\n",
       "    <tr style=\"text-align: right;\">\n",
       "      <th>recurrence</th>\n",
       "      <th>0.0</th>\n",
       "      <th>1.0</th>\n",
       "    </tr>\n",
       "    <tr>\n",
       "      <th>drain</th>\n",
       "      <th></th>\n",
       "      <th></th>\n",
       "    </tr>\n",
       "  </thead>\n",
       "  <tbody>\n",
       "    <tr>\n",
       "      <th>0</th>\n",
       "      <td>102</td>\n",
       "      <td>21</td>\n",
       "    </tr>\n",
       "    <tr>\n",
       "      <th>1</th>\n",
       "      <td>574</td>\n",
       "      <td>48</td>\n",
       "    </tr>\n",
       "  </tbody>\n",
       "</table>\n",
       "</div>"
      ],
      "text/plain": [
       "recurrence  0.0  1.0\n",
       "drain               \n",
       "0           102  21 \n",
       "1           574  48 "
      ]
     },
     "execution_count": 41,
     "metadata": {},
     "output_type": "execute_result"
    }
   ],
   "source": [
    "rec_table = pd.crosstab(csdh['drain'], csdh['recurrence'])\n",
    "rec_table"
   ]
  },
  {
   "cell_type": "code",
   "execution_count": 42,
   "id": "656530c2",
   "metadata": {},
   "outputs": [
    {
     "data": {
      "text/html": [
       "<div>\n",
       "<style scoped>\n",
       "    .dataframe tbody tr th:only-of-type {\n",
       "        vertical-align: middle;\n",
       "    }\n",
       "\n",
       "    .dataframe tbody tr th {\n",
       "        vertical-align: top;\n",
       "    }\n",
       "\n",
       "    .dataframe thead th {\n",
       "        text-align: right;\n",
       "    }\n",
       "</style>\n",
       "<table border=\"1\" class=\"dataframe\">\n",
       "  <thead>\n",
       "    <tr style=\"text-align: right;\">\n",
       "      <th>bedrest</th>\n",
       "      <th>0</th>\n",
       "      <th>1</th>\n",
       "      <th>2</th>\n",
       "      <th>3</th>\n",
       "      <th>4</th>\n",
       "    </tr>\n",
       "    <tr>\n",
       "      <th>drain</th>\n",
       "      <th></th>\n",
       "      <th></th>\n",
       "      <th></th>\n",
       "      <th></th>\n",
       "      <th></th>\n",
       "    </tr>\n",
       "  </thead>\n",
       "  <tbody>\n",
       "    <tr>\n",
       "      <th>0</th>\n",
       "      <td>63</td>\n",
       "      <td>12</td>\n",
       "      <td>30</td>\n",
       "      <td>17</td>\n",
       "      <td>1</td>\n",
       "    </tr>\n",
       "    <tr>\n",
       "      <th>1</th>\n",
       "      <td>245</td>\n",
       "      <td>39</td>\n",
       "      <td>240</td>\n",
       "      <td>88</td>\n",
       "      <td>10</td>\n",
       "    </tr>\n",
       "  </tbody>\n",
       "</table>\n",
       "</div>"
      ],
      "text/plain": [
       "bedrest    0   1    2   3   4\n",
       "drain                        \n",
       "0        63   12  30   17  1 \n",
       "1        245  39  240  88  10"
      ]
     },
     "execution_count": 42,
     "metadata": {},
     "output_type": "execute_result"
    }
   ],
   "source": [
    "bed_table = pd.crosstab(csdh['drain'], csdh['bedrest'])\n",
    "bed_table"
   ]
  },
  {
   "cell_type": "code",
   "execution_count": 43,
   "id": "e289523e",
   "metadata": {},
   "outputs": [
    {
     "data": {
      "image/png": "[encoded data removed]",
      "text/plain": [
       "<Figure size 432x288 with 1 Axes>"
      ]
     },
     "metadata": {
      "needs_background": "light"
     },
     "output_type": "display_data"
    }
   ],
   "source": [
    "plt.scatter(csdh['drain'], csdh['inr'])\n",
    "plt.show()"
   ]
  },
  {
   "cell_type": "markdown",
   "id": "7f9bc0af",
   "metadata": {},
   "source": [
    "---\n",
    "## Recurrence\n",
    "\n",
    "### Point Biserial\n",
    "|Pair | $\\rho$ | p value|\n",
    "|--- | --- | ---|\n",
    "|(recurrence, thickness_sum)|\t0.082071|\t2.508276e-02|\n",
    "\n",
    "### $\\chi^2$ Contingency\n",
    "|Pair | $\\chi^2$ | p value|\n",
    "|--- | --- | ---|\n",
    "|(recurrence, gcs_preop)\t|28.161209\t|3.058233e-03|\n",
    "|(recurrence, hospital)\t|60.398044\t|9.212907e-05|\n",
    "|(recurrence, ihd)|\t6.972981|\t8.274954e-03|\n",
    "|(recurrence, drain)| 11.531058\t| 6.844305e-04| \n",
    "|(recurrence, metalvalve)\t|13.509310|\t2.373828e-04|"
   ]
  },
  {
   "cell_type": "code",
   "execution_count": 44,
   "id": "12f1f1d4",
   "metadata": {},
   "outputs": [
    {
     "data": {
      "text/html": [
       "<div>\n",
       "<style scoped>\n",
       "    .dataframe tbody tr th:only-of-type {\n",
       "        vertical-align: middle;\n",
       "    }\n",
       "\n",
       "    .dataframe tbody tr th {\n",
       "        vertical-align: top;\n",
       "    }\n",
       "\n",
       "    .dataframe thead th {\n",
       "        text-align: right;\n",
       "    }\n",
       "</style>\n",
       "<table border=\"1\" class=\"dataframe\">\n",
       "  <thead>\n",
       "    <tr style=\"text-align: right;\">\n",
       "      <th>drain_days</th>\n",
       "      <th>1.0</th>\n",
       "      <th>2.0</th>\n",
       "      <th>3.0</th>\n",
       "    </tr>\n",
       "    <tr>\n",
       "      <th>recurrence</th>\n",
       "      <th></th>\n",
       "      <th></th>\n",
       "      <th></th>\n",
       "    </tr>\n",
       "  </thead>\n",
       "  <tbody>\n",
       "    <tr>\n",
       "      <th>0.0</th>\n",
       "      <td>151</td>\n",
       "      <td>399</td>\n",
       "      <td>24</td>\n",
       "    </tr>\n",
       "    <tr>\n",
       "      <th>1.0</th>\n",
       "      <td>12</td>\n",
       "      <td>34</td>\n",
       "      <td>2</td>\n",
       "    </tr>\n",
       "  </tbody>\n",
       "</table>\n",
       "</div>"
      ],
      "text/plain": [
       "drain_days  1.0  2.0  3.0\n",
       "recurrence               \n",
       "0.0         151  399  24 \n",
       "1.0         12   34   2  "
      ]
     },
     "execution_count": 44,
     "metadata": {},
     "output_type": "execute_result"
    }
   ],
   "source": [
    "hole_table = pd.crosstab(csdh['recurrence'], csdh['drain_days'])\n",
    "hole_table"
   ]
  },
  {
   "cell_type": "code",
   "execution_count": 45,
   "id": "2569a13e",
   "metadata": {},
   "outputs": [
    {
     "data": {
      "text/plain": [
       "['sex',\n",
       " 'hospital',\n",
       " 'residence',\n",
       " 'mobility',\n",
       " 'adm_mrs',\n",
       " 'adm_seizure',\n",
       " 'adm_hemiparesis',\n",
       " 'gcs_e',\n",
       " 'gcs_v',\n",
       " 'gcs_m',\n",
       " 'gcs_preop',\n",
       " 'warfarin',\n",
       " 'laterality',\n",
       " 'density',\n",
       " 'optype',\n",
       " 'surgeon',\n",
       " 'anaesthetic',\n",
       " 'bedrest']"
      ]
     },
     "execution_count": 45,
     "metadata": {},
     "output_type": "execute_result"
    }
   ],
   "source": [
    "cat_cols"
   ]
  },
  {
   "cell_type": "code",
   "execution_count": null,
   "id": "b4b912b9",
   "metadata": {},
   "outputs": [],
   "source": []
  }
 ],
 "metadata": {
  "kernelspec": {
   "display_name": "Python 3.8.5 64-bit",
   "language": "python",
   "name": "python38564bitaabf1376f1374bd8b636ac321c937df8"
  },
  "language_info": {
   "codemirror_mode": {
    "name": "ipython",
    "version": 3
   },
   "file_extension": ".py",
   "mimetype": "text/x-python",
   "name": "python",
   "nbconvert_exporter": "python",
   "pygments_lexer": "ipython3",
   "version": "3.9.2"
  }
 },
 "nbformat": 4,
 "nbformat_minor": 5
}
